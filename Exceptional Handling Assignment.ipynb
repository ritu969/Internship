{
 "cells": [
  {
   "cell_type": "code",
   "execution_count": 1,
   "id": "fce58986",
   "metadata": {},
   "outputs": [
    {
     "name": "stdout",
     "output_type": "stream",
     "text": [
      "Requirement already satisfied: selenium in c:\\users\\suneel dutt\\anaconda3\\lib\\site-packages (4.17.2)\n",
      "Requirement already satisfied: urllib3[socks]<3,>=1.26 in c:\\users\\suneel dutt\\anaconda3\\lib\\site-packages (from selenium) (1.26.16)\n",
      "Requirement already satisfied: trio~=0.17 in c:\\users\\suneel dutt\\anaconda3\\lib\\site-packages (from selenium) (0.24.0)\n",
      "Requirement already satisfied: trio-websocket~=0.9 in c:\\users\\suneel dutt\\anaconda3\\lib\\site-packages (from selenium) (0.11.1)\n",
      "Requirement already satisfied: certifi>=2021.10.8 in c:\\users\\suneel dutt\\anaconda3\\lib\\site-packages (from selenium) (2023.7.22)\n",
      "Requirement already satisfied: typing_extensions>=4.9.0 in c:\\users\\suneel dutt\\anaconda3\\lib\\site-packages (from selenium) (4.9.0)\n",
      "Requirement already satisfied: attrs>=20.1.0 in c:\\users\\suneel dutt\\anaconda3\\lib\\site-packages (from trio~=0.17->selenium) (22.1.0)\n",
      "Requirement already satisfied: sortedcontainers in c:\\users\\suneel dutt\\anaconda3\\lib\\site-packages (from trio~=0.17->selenium) (2.4.0)\n",
      "Requirement already satisfied: idna in c:\\users\\suneel dutt\\anaconda3\\lib\\site-packages (from trio~=0.17->selenium) (3.4)\n",
      "Requirement already satisfied: outcome in c:\\users\\suneel dutt\\anaconda3\\lib\\site-packages (from trio~=0.17->selenium) (1.3.0.post0)\n",
      "Requirement already satisfied: sniffio>=1.3.0 in c:\\users\\suneel dutt\\anaconda3\\lib\\site-packages (from trio~=0.17->selenium) (1.3.0)\n",
      "Requirement already satisfied: cffi>=1.14 in c:\\users\\suneel dutt\\anaconda3\\lib\\site-packages (from trio~=0.17->selenium) (1.15.1)\n",
      "Requirement already satisfied: wsproto>=0.14 in c:\\users\\suneel dutt\\anaconda3\\lib\\site-packages (from trio-websocket~=0.9->selenium) (1.2.0)\n",
      "Requirement already satisfied: PySocks!=1.5.7,<2.0,>=1.5.6 in c:\\users\\suneel dutt\\anaconda3\\lib\\site-packages (from urllib3[socks]<3,>=1.26->selenium) (1.7.1)\n",
      "Requirement already satisfied: pycparser in c:\\users\\suneel dutt\\anaconda3\\lib\\site-packages (from cffi>=1.14->trio~=0.17->selenium) (2.21)\n",
      "Requirement already satisfied: h11<1,>=0.9.0 in c:\\users\\suneel dutt\\anaconda3\\lib\\site-packages (from wsproto>=0.14->trio-websocket~=0.9->selenium) (0.14.0)\n"
     ]
    }
   ],
   "source": [
    "!pip install selenium"
   ]
  },
  {
   "cell_type": "code",
   "execution_count": 2,
   "id": "2fd68a60",
   "metadata": {},
   "outputs": [],
   "source": [
    "from selenium import webdriver\n",
    "import time\n",
    "from selenium.common.exceptions import NoSuchElementException, ElementNotInteractableException\n",
    "import warnings\n",
    "warnings.filterwarnings('ignore')\n",
    "from selenium.webdriver.common.by import By\n",
    "from selenium.webdriver.support.ui import WebDriverWait\n",
    "from selenium.webdriver.support import expected_conditions as EC\n",
    "from bs4 import BeautifulSoup\n",
    "import requests\n"
   ]
  },
  {
   "cell_type": "markdown",
   "id": "aa7a785c",
   "metadata": {},
   "source": [
    "1. Write a python program which searches all the product under a particular product from www.amazon.in. The\n",
    "product to be searched will be taken as input from user. For e.g. If user input is ‘guitar’. Then search for\n",
    "guitars."
   ]
  },
  {
   "cell_type": "code",
   "execution_count": 3,
   "id": "c1fe2719",
   "metadata": {},
   "outputs": [],
   "source": [
    "driver=webdriver.Chrome()"
   ]
  },
  {
   "cell_type": "code",
   "execution_count": 4,
   "id": "fdfa8681",
   "metadata": {},
   "outputs": [
    {
     "name": "stdout",
     "output_type": "stream",
     "text": [
      "Enter your item: guitar\n"
     ]
    }
   ],
   "source": [
    "val= input('Enter your item: ')"
   ]
  },
  {
   "cell_type": "markdown",
   "id": "88bd350a",
   "metadata": {},
   "source": [
    "2. In the above question, now scrape the following details of each product listed in first 3 pages of your search\n",
    "results and save it in a data frame and csv. In case if any product has less than 3 pages in search results then\n",
    "scrape all the products available under that product name. Details to be scraped are: \"Brand\n",
    "Name\", \"Name of the Product\", \"Price\", \"Return/Exchange\", \"Expected Delivery\", \"Availability\" and\n",
    "“Product URL”. In case, if any of the details are missing for any of the product then replace it by “-“."
   ]
  },
  {
   "cell_type": "code",
   "execution_count": 2,
   "id": "b9b72abf",
   "metadata": {},
   "outputs": [],
   "source": [
    "driver=webdriver.Chrome()"
   ]
  },
  {
   "cell_type": "code",
   "execution_count": 6,
   "id": "14de105e",
   "metadata": {},
   "outputs": [],
   "source": [
    "driver.get(\"https://www.amazon.in/\")"
   ]
  },
  {
   "cell_type": "code",
   "execution_count": 7,
   "id": "0889dc5f",
   "metadata": {},
   "outputs": [],
   "source": [
    "search=driver.find_element(By.XPATH,'//input[@class=\"nav-input nav-progressive-attribute\"]')\n",
    "search.send_keys('guitar')"
   ]
  },
  {
   "cell_type": "code",
   "execution_count": 8,
   "id": "bd2bc68b",
   "metadata": {},
   "outputs": [],
   "source": [
    "search_btn=driver.find_element(By.XPATH,'//div[@class=\"nav-search-submit nav-sprite\"]//span')\n",
    "search.click()"
   ]
  },
  {
   "cell_type": "code",
   "execution_count": 9,
   "id": "673a2870",
   "metadata": {},
   "outputs": [
    {
     "data": {
      "text/plain": [
       "['https://www.amazon.in/sspa/click?ie=UTF8&spc=MTo0NDM3NjcwMDEwNzYwMDUwOjE3MDg0NDM5MTI6c3BfYXRmOjMwMDAxNTUwODk1NDEzMjo6MDo6&url=%2FKadence-Frontier-Acoustic-Guitar-Strings%2Fdp%2FB01GDZ46AA%2Fref%3Dsr_1_1_sspa%3Fcrid%3D1JO4JYZTPGAP7%26dib%3DeyJ2IjoiMSJ9.crxhhcuVe8Gag3-0mnCXJiOSSKJki5hOYLJU7nup4DWqM8VWO2bZ9Q4-cyVWhDYcrh7i6wvREudXk_1fOmASAQGVze_4-XEu_ZipwWHKGEaQrG95wf0MxZsC6EKqis5Q6Ywei7d62JWfrTYbxSF8X6X8a6TiGKR8p3EyNlU2ymFsZ2qIj-QaewnVuHphrvq86bKiEW0Z9E5bDrZzCYg6cheuqNIxHJbm1OaMicIPipLERLb91WpqXx82zXCpAizeMKhbVhoEpsi9xq1Fku-lhXuJyKN-L25D_zblMLnwqJw.HMgS9dhmpgd_h3mD1Yi_96QhPgBkqMLPvvdO3Y9zHEI%26dib_tag%3Dse%26keywords%3Dguitar%26qid%3D1708443912%26sprefix%3Dguitar%252Caps%252C311%26sr%3D8-1-spons%26sp_csd%3Dd2lkZ2V0TmFtZT1zcF9hdGY%26psc%3D1',\n",
       " 'https://www.amazon.in/sspa/click?ie=UTF8&spc=MTo0NDM3NjcwMDEwNzYwMDUwOjE3MDg0NDM5MTI6c3BfYXRmOjMwMDAxNTUzNzk3OTIzMjo6MDo6&url=%2FKadence-Frontier-Acoustic-Guitar-Strings%2Fdp%2FB078GTJP5Y%2Fref%3Dsr_1_2_sspa%3Fcrid%3D1JO4JYZTPGAP7%26dib%3DeyJ2IjoiMSJ9.crxhhcuVe8Gag3-0mnCXJiOSSKJki5hOYLJU7nup4DWqM8VWO2bZ9Q4-cyVWhDYcrh7i6wvREudXk_1fOmASAQGVze_4-XEu_ZipwWHKGEaQrG95wf0MxZsC6EKqis5Q6Ywei7d62JWfrTYbxSF8X6X8a6TiGKR8p3EyNlU2ymFsZ2qIj-QaewnVuHphrvq86bKiEW0Z9E5bDrZzCYg6cheuqNIxHJbm1OaMicIPipLERLb91WpqXx82zXCpAizeMKhbVhoEpsi9xq1Fku-lhXuJyKN-L25D_zblMLnwqJw.HMgS9dhmpgd_h3mD1Yi_96QhPgBkqMLPvvdO3Y9zHEI%26dib_tag%3Dse%26keywords%3Dguitar%26qid%3D1708443912%26sprefix%3Dguitar%252Caps%252C311%26sr%3D8-2-spons%26sp_csd%3Dd2lkZ2V0TmFtZT1zcF9hdGY%26psc%3D1',\n",
       " 'https://www.amazon.in/sspa/click?ie=UTF8&spc=MTo0NDM3NjcwMDEwNzYwMDUwOjE3MDg0NDM5MTI6c3BfYXRmOjIwMDg4NDY1ODE5NDA0OjowOjo&url=%2FHenrix-Acoustic-Guitar-Die-cast-Dual-action%2Fdp%2FB07VNDW6QF%2Fref%3Dsr_1_3_sspa%3Fcrid%3D1JO4JYZTPGAP7%26dib%3DeyJ2IjoiMSJ9.crxhhcuVe8Gag3-0mnCXJiOSSKJki5hOYLJU7nup4DWqM8VWO2bZ9Q4-cyVWhDYcrh7i6wvREudXk_1fOmASAQGVze_4-XEu_ZipwWHKGEaQrG95wf0MxZsC6EKqis5Q6Ywei7d62JWfrTYbxSF8X6X8a6TiGKR8p3EyNlU2ymFsZ2qIj-QaewnVuHphrvq86bKiEW0Z9E5bDrZzCYg6cheuqNIxHJbm1OaMicIPipLERLb91WpqXx82zXCpAizeMKhbVhoEpsi9xq1Fku-lhXuJyKN-L25D_zblMLnwqJw.HMgS9dhmpgd_h3mD1Yi_96QhPgBkqMLPvvdO3Y9zHEI%26dib_tag%3Dse%26keywords%3Dguitar%26qid%3D1708443912%26sprefix%3Dguitar%252Caps%252C311%26sr%3D8-3-spons%26sp_csd%3Dd2lkZ2V0TmFtZT1zcF9hdGY%26psc%3D1',\n",
       " 'https://www.amazon.in/sspa/click?ie=UTF8&spc=MTo0NDM3NjcwMDEwNzYwMDUwOjE3MDg0NDM5MTI6c3BfYXRmOjIwMDU3MTkzMDU2MjA0OjowOjo&url=%2FKadence-Slowhand-Premium-Acoustic-Instrument%2Fdp%2FB077SZ667X%2Fref%3Dsr_1_4_sspa%3Fcrid%3D1JO4JYZTPGAP7%26dib%3DeyJ2IjoiMSJ9.crxhhcuVe8Gag3-0mnCXJiOSSKJki5hOYLJU7nup4DWqM8VWO2bZ9Q4-cyVWhDYcrh7i6wvREudXk_1fOmASAQGVze_4-XEu_ZipwWHKGEaQrG95wf0MxZsC6EKqis5Q6Ywei7d62JWfrTYbxSF8X6X8a6TiGKR8p3EyNlU2ymFsZ2qIj-QaewnVuHphrvq86bKiEW0Z9E5bDrZzCYg6cheuqNIxHJbm1OaMicIPipLERLb91WpqXx82zXCpAizeMKhbVhoEpsi9xq1Fku-lhXuJyKN-L25D_zblMLnwqJw.HMgS9dhmpgd_h3mD1Yi_96QhPgBkqMLPvvdO3Y9zHEI%26dib_tag%3Dse%26keywords%3Dguitar%26qid%3D1708443912%26sprefix%3Dguitar%252Caps%252C311%26sr%3D8-4-spons%26sp_csd%3Dd2lkZ2V0TmFtZT1zcF9hdGY%26psc%3D1',\n",
       " 'https://www.amazon.in/Intern-INT-38C-Acoustic-Guitar-Black/dp/B073B6TQQY/ref=sr_1_5?crid=1JO4JYZTPGAP7&dib=eyJ2IjoiMSJ9.crxhhcuVe8Gag3-0mnCXJiOSSKJki5hOYLJU7nup4DWqM8VWO2bZ9Q4-cyVWhDYcrh7i6wvREudXk_1fOmASAQGVze_4-XEu_ZipwWHKGEaQrG95wf0MxZsC6EKqis5Q6Ywei7d62JWfrTYbxSF8X6X8a6TiGKR8p3EyNlU2ymFsZ2qIj-QaewnVuHphrvq86bKiEW0Z9E5bDrZzCYg6cheuqNIxHJbm1OaMicIPipLERLb91WpqXx82zXCpAizeMKhbVhoEpsi9xq1Fku-lhXuJyKN-L25D_zblMLnwqJw.HMgS9dhmpgd_h3mD1Yi_96QhPgBkqMLPvvdO3Y9zHEI&dib_tag=se&keywords=guitar&qid=1708443912&sprefix=guitar%2Caps%2C311&sr=8-5',\n",
       " 'https://www.amazon.in/Juarez-Acoustic-Cutaway-038C-Strings/dp/B017NPCSLI/ref=sr_1_6?crid=1JO4JYZTPGAP7&dib=eyJ2IjoiMSJ9.crxhhcuVe8Gag3-0mnCXJiOSSKJki5hOYLJU7nup4DWqM8VWO2bZ9Q4-cyVWhDYcrh7i6wvREudXk_1fOmASAQGVze_4-XEu_ZipwWHKGEaQrG95wf0MxZsC6EKqis5Q6Ywei7d62JWfrTYbxSF8X6X8a6TiGKR8p3EyNlU2ymFsZ2qIj-QaewnVuHphrvq86bKiEW0Z9E5bDrZzCYg6cheuqNIxHJbm1OaMicIPipLERLb91WpqXx82zXCpAizeMKhbVhoEpsi9xq1Fku-lhXuJyKN-L25D_zblMLnwqJw.HMgS9dhmpgd_h3mD1Yi_96QhPgBkqMLPvvdO3Y9zHEI&dib_tag=se&keywords=guitar&qid=1708443912&sprefix=guitar%2Caps%2C311&sr=8-6',\n",
       " 'https://www.amazon.in/Intern-INT-38C-Acoustic-Guitar-Sunburst/dp/B073B5MJRM/ref=sr_1_7?crid=1JO4JYZTPGAP7&dib=eyJ2IjoiMSJ9.crxhhcuVe8Gag3-0mnCXJiOSSKJki5hOYLJU7nup4DWqM8VWO2bZ9Q4-cyVWhDYcrh7i6wvREudXk_1fOmASAQGVze_4-XEu_ZipwWHKGEaQrG95wf0MxZsC6EKqis5Q6Ywei7d62JWfrTYbxSF8X6X8a6TiGKR8p3EyNlU2ymFsZ2qIj-QaewnVuHphrvq86bKiEW0Z9E5bDrZzCYg6cheuqNIxHJbm1OaMicIPipLERLb91WpqXx82zXCpAizeMKhbVhoEpsi9xq1Fku-lhXuJyKN-L25D_zblMLnwqJw.HMgS9dhmpgd_h3mD1Yi_96QhPgBkqMLPvvdO3Y9zHEI&dib_tag=se&keywords=guitar&qid=1708443912&sprefix=guitar%2Caps%2C311&sr=8-7',\n",
       " 'https://aax-eu.amazon.in/x/c/RCbc1GEJRtkTr1uPa3w5RtMAAAGNxzFKiwMAAAH2AQBvbm9fdHhuX2JpZDIgICBvbm9fdHhuX2ltcDEgICAHC7Ls/https://www.amazon.in/Radhe-Flutes-Natural-Bansuri-Middle/dp/B07T35ZBHB/ref=sxin_15_sbv_search_btf?content-id=amzn1.sym.4fe35c1d-da6a-41a4-967c-7a2315a8b22e%3Aamzn1.sym.4fe35c1d-da6a-41a4-967c-7a2315a8b22e&crid=1JO4JYZTPGAP7&cv_ct_cx=guitar&dib=eyJ2IjoiMSJ9.RkxRkdLFro_AAXvr06nUqw.JeBd0PrU651_axv89AuxHG1WRYgRws8Xq3gSK_R65J4&dib_tag=se&keywords=guitar&pd_rd_i=B07T35ZBHB&pd_rd_r=ffd6034d-bd1f-49ef-bb5e-6a1414f515cd&pd_rd_w=eRtKA&pd_rd_wg=z7SAN&pf_rd_p=4fe35c1d-da6a-41a4-967c-7a2315a8b22e&pf_rd_r=N9DBF7YCYYPRRPZVZAD5&qid=1708443912&sbo=RZvfv%2F%2FHxDF%2BO5021pAnSA%3D%3D&sprefix=guitar%2Caps%2C311&sr=1-1-b614a050-8d70-4320-9c19-cc457ab2a351',\n",
       " 'https://www.amazon.in/Yamaha-F280-Acoustic-Guitar-Natural/dp/B08317Y4VP/ref=sr_1_8?crid=1JO4JYZTPGAP7&dib=eyJ2IjoiMSJ9.crxhhcuVe8Gag3-0mnCXJiOSSKJki5hOYLJU7nup4DWqM8VWO2bZ9Q4-cyVWhDYcrh7i6wvREudXk_1fOmASAQGVze_4-XEu_ZipwWHKGEaQrG95wf0MxZsC6EKqis5Q6Ywei7d62JWfrTYbxSF8X6X8a6TiGKR8p3EyNlU2ymFsZ2qIj-QaewnVuHphrvq86bKiEW0Z9E5bDrZzCYg6cheuqNIxHJbm1OaMicIPipLERLb91WpqXx82zXCpAizeMKhbVhoEpsi9xq1Fku-lhXuJyKN-L25D_zblMLnwqJw.HMgS9dhmpgd_h3mD1Yi_96QhPgBkqMLPvvdO3Y9zHEI&dib_tag=se&keywords=guitar&qid=1708443912&sprefix=guitar%2Caps%2C311&sr=8-8',\n",
       " 'https://www.amazon.in/JUAREZ-JRZ38C-Acoustic-Sunburst-Strings/dp/B01FYYTDS6/ref=sr_1_9?crid=1JO4JYZTPGAP7&dib=eyJ2IjoiMSJ9.crxhhcuVe8Gag3-0mnCXJiOSSKJki5hOYLJU7nup4DWqM8VWO2bZ9Q4-cyVWhDYcrh7i6wvREudXk_1fOmASAQGVze_4-XEu_ZipwWHKGEaQrG95wf0MxZsC6EKqis5Q6Ywei7d62JWfrTYbxSF8X6X8a6TiGKR8p3EyNlU2ymFsZ2qIj-QaewnVuHphrvq86bKiEW0Z9E5bDrZzCYg6cheuqNIxHJbm1OaMicIPipLERLb91WpqXx82zXCpAizeMKhbVhoEpsi9xq1Fku-lhXuJyKN-L25D_zblMLnwqJw.HMgS9dhmpgd_h3mD1Yi_96QhPgBkqMLPvvdO3Y9zHEI&dib_tag=se&keywords=guitar&qid=1708443912&sprefix=guitar%2Caps%2C311&sr=8-9',\n",
       " 'https://www.amazon.in/YAMAHA-FS80C-CONCERT-CUTAWAY-GUITAR/dp/B08WBBVMVJ/ref=sr_1_10?crid=1JO4JYZTPGAP7&dib=eyJ2IjoiMSJ9.crxhhcuVe8Gag3-0mnCXJiOSSKJki5hOYLJU7nup4DWqM8VWO2bZ9Q4-cyVWhDYcrh7i6wvREudXk_1fOmASAQGVze_4-XEu_ZipwWHKGEaQrG95wf0MxZsC6EKqis5Q6Ywei7d62JWfrTYbxSF8X6X8a6TiGKR8p3EyNlU2ymFsZ2qIj-QaewnVuHphrvq86bKiEW0Z9E5bDrZzCYg6cheuqNIxHJbm1OaMicIPipLERLb91WpqXx82zXCpAizeMKhbVhoEpsi9xq1Fku-lhXuJyKN-L25D_zblMLnwqJw.HMgS9dhmpgd_h3mD1Yi_96QhPgBkqMLPvvdO3Y9zHEI&dib_tag=se&keywords=guitar&qid=1708443912&sprefix=guitar%2Caps%2C311&sr=8-10',\n",
       " 'https://www.amazon.in/JUAREZ-JRZ38C-Acoustic-Sunburst-Strings/dp/B01FYYTDTU/ref=sr_1_11?crid=1JO4JYZTPGAP7&dib=eyJ2IjoiMSJ9.crxhhcuVe8Gag3-0mnCXJiOSSKJki5hOYLJU7nup4DWqM8VWO2bZ9Q4-cyVWhDYcrh7i6wvREudXk_1fOmASAQGVze_4-XEu_ZipwWHKGEaQrG95wf0MxZsC6EKqis5Q6Ywei7d62JWfrTYbxSF8X6X8a6TiGKR8p3EyNlU2ymFsZ2qIj-QaewnVuHphrvq86bKiEW0Z9E5bDrZzCYg6cheuqNIxHJbm1OaMicIPipLERLb91WpqXx82zXCpAizeMKhbVhoEpsi9xq1Fku-lhXuJyKN-L25D_zblMLnwqJw.HMgS9dhmpgd_h3mD1Yi_96QhPgBkqMLPvvdO3Y9zHEI&dib_tag=se&keywords=guitar&qid=1708443912&sprefix=guitar%2Caps%2C311&sr=8-11',\n",
       " 'https://www.amazon.in/Ultimate-Concert-Cutaway-Acoustic-Bajaao/dp/B08WHWKKV5/ref=sr_1_12?crid=1JO4JYZTPGAP7&dib=eyJ2IjoiMSJ9.crxhhcuVe8Gag3-0mnCXJiOSSKJki5hOYLJU7nup4DWqM8VWO2bZ9Q4-cyVWhDYcrh7i6wvREudXk_1fOmASAQGVze_4-XEu_ZipwWHKGEaQrG95wf0MxZsC6EKqis5Q6Ywei7d62JWfrTYbxSF8X6X8a6TiGKR8p3EyNlU2ymFsZ2qIj-QaewnVuHphrvq86bKiEW0Z9E5bDrZzCYg6cheuqNIxHJbm1OaMicIPipLERLb91WpqXx82zXCpAizeMKhbVhoEpsi9xq1Fku-lhXuJyKN-L25D_zblMLnwqJw.HMgS9dhmpgd_h3mD1Yi_96QhPgBkqMLPvvdO3Y9zHEI&dib_tag=se&keywords=guitar&qid=1708443912&sprefix=guitar%2Caps%2C311&sr=8-12',\n",
       " 'https://www.amazon.in/JUAREZ-JRZ38C-PP/dp/B0BCQNLXVM/ref=sr_1_13?crid=1JO4JYZTPGAP7&dib=eyJ2IjoiMSJ9.crxhhcuVe8Gag3-0mnCXJiOSSKJki5hOYLJU7nup4DWqM8VWO2bZ9Q4-cyVWhDYcrh7i6wvREudXk_1fOmASAQGVze_4-XEu_ZipwWHKGEaQrG95wf0MxZsC6EKqis5Q6Ywei7d62JWfrTYbxSF8X6X8a6TiGKR8p3EyNlU2ymFsZ2qIj-QaewnVuHphrvq86bKiEW0Z9E5bDrZzCYg6cheuqNIxHJbm1OaMicIPipLERLb91WpqXx82zXCpAizeMKhbVhoEpsi9xq1Fku-lhXuJyKN-L25D_zblMLnwqJw.HMgS9dhmpgd_h3mD1Yi_96QhPgBkqMLPvvdO3Y9zHEI&dib_tag=se&keywords=guitar&qid=1708443912&sprefix=guitar%2Caps%2C311&sr=8-13',\n",
       " 'https://www.amazon.in/Kadence-Frontier-Acoustic-Guitar-Strings/dp/B01CJJG328/ref=sr_1_14?crid=1JO4JYZTPGAP7&dib=eyJ2IjoiMSJ9.crxhhcuVe8Gag3-0mnCXJiOSSKJki5hOYLJU7nup4DWqM8VWO2bZ9Q4-cyVWhDYcrh7i6wvREudXk_1fOmASAQGVze_4-XEu_ZipwWHKGEaQrG95wf0MxZsC6EKqis5Q6Ywei7d62JWfrTYbxSF8X6X8a6TiGKR8p3EyNlU2ymFsZ2qIj-QaewnVuHphrvq86bKiEW0Z9E5bDrZzCYg6cheuqNIxHJbm1OaMicIPipLERLb91WpqXx82zXCpAizeMKhbVhoEpsi9xq1Fku-lhXuJyKN-L25D_zblMLnwqJw.HMgS9dhmpgd_h3mD1Yi_96QhPgBkqMLPvvdO3Y9zHEI&dib_tag=se&keywords=guitar&qid=1708443912&sprefix=guitar%2Caps%2C311&sr=8-14',\n",
       " 'https://www.amazon.in/Intern-INT-38C-VT-G-Guitar-Kit-Violet/dp/B07K8YJXKL/ref=sr_1_15?crid=1JO4JYZTPGAP7&dib=eyJ2IjoiMSJ9.crxhhcuVe8Gag3-0mnCXJiOSSKJki5hOYLJU7nup4DWqM8VWO2bZ9Q4-cyVWhDYcrh7i6wvREudXk_1fOmASAQGVze_4-XEu_ZipwWHKGEaQrG95wf0MxZsC6EKqis5Q6Ywei7d62JWfrTYbxSF8X6X8a6TiGKR8p3EyNlU2ymFsZ2qIj-QaewnVuHphrvq86bKiEW0Z9E5bDrZzCYg6cheuqNIxHJbm1OaMicIPipLERLb91WpqXx82zXCpAizeMKhbVhoEpsi9xq1Fku-lhXuJyKN-L25D_zblMLnwqJw.HMgS9dhmpgd_h3mD1Yi_96QhPgBkqMLPvvdO3Y9zHEI&dib_tag=se&keywords=guitar&qid=1708443912&sprefix=guitar%2Caps%2C311&sr=8-15',\n",
       " 'https://www.amazon.in/Fender-FA-125-Dreadnought-Acoustic-Guitar/dp/B07J4X9B7R/ref=sr_1_16?crid=1JO4JYZTPGAP7&dib=eyJ2IjoiMSJ9.crxhhcuVe8Gag3-0mnCXJiOSSKJki5hOYLJU7nup4DWqM8VWO2bZ9Q4-cyVWhDYcrh7i6wvREudXk_1fOmASAQGVze_4-XEu_ZipwWHKGEaQrG95wf0MxZsC6EKqis5Q6Ywei7d62JWfrTYbxSF8X6X8a6TiGKR8p3EyNlU2ymFsZ2qIj-QaewnVuHphrvq86bKiEW0Z9E5bDrZzCYg6cheuqNIxHJbm1OaMicIPipLERLb91WpqXx82zXCpAizeMKhbVhoEpsi9xq1Fku-lhXuJyKN-L25D_zblMLnwqJw.HMgS9dhmpgd_h3mD1Yi_96QhPgBkqMLPvvdO3Y9zHEI&dib_tag=se&keywords=guitar&qid=1708443912&sprefix=guitar%2Caps%2C311&sr=8-16',\n",
       " 'https://www.amazon.in/Intern-INT-38C-Acoustic-Guitar-Kit/dp/B073B6TF31/ref=sr_1_17?crid=1JO4JYZTPGAP7&dib=eyJ2IjoiMSJ9.crxhhcuVe8Gag3-0mnCXJiOSSKJki5hOYLJU7nup4DWqM8VWO2bZ9Q4-cyVWhDYcrh7i6wvREudXk_1fOmASAQGVze_4-XEu_ZipwWHKGEaQrG95wf0MxZsC6EKqis5Q6Ywei7d62JWfrTYbxSF8X6X8a6TiGKR8p3EyNlU2ymFsZ2qIj-QaewnVuHphrvq86bKiEW0Z9E5bDrZzCYg6cheuqNIxHJbm1OaMicIPipLERLb91WpqXx82zXCpAizeMKhbVhoEpsi9xq1Fku-lhXuJyKN-L25D_zblMLnwqJw.HMgS9dhmpgd_h3mD1Yi_96QhPgBkqMLPvvdO3Y9zHEI&dib_tag=se&keywords=guitar&qid=1708443912&sprefix=guitar%2Caps%2C311&sr=8-17',\n",
       " 'https://www.amazon.in/JUAREZ-JRZ38C-Acoustic-Natural-Strings/dp/B01FYYTDWC/ref=sr_1_18?crid=1JO4JYZTPGAP7&dib=eyJ2IjoiMSJ9.crxhhcuVe8Gag3-0mnCXJiOSSKJki5hOYLJU7nup4DWqM8VWO2bZ9Q4-cyVWhDYcrh7i6wvREudXk_1fOmASAQGVze_4-XEu_ZipwWHKGEaQrG95wf0MxZsC6EKqis5Q6Ywei7d62JWfrTYbxSF8X6X8a6TiGKR8p3EyNlU2ymFsZ2qIj-QaewnVuHphrvq86bKiEW0Z9E5bDrZzCYg6cheuqNIxHJbm1OaMicIPipLERLb91WpqXx82zXCpAizeMKhbVhoEpsi9xq1Fku-lhXuJyKN-L25D_zblMLnwqJw.HMgS9dhmpgd_h3mD1Yi_96QhPgBkqMLPvvdO3Y9zHEI&dib_tag=se&keywords=guitar&qid=1708443912&sprefix=guitar%2Caps%2C311&sr=8-18',\n",
       " 'https://www.amazon.in/Rosewood-Fretboard-Acoustic-Strings-K-Retail/dp/B07KLG8C4P/ref=sr_1_19?crid=1JO4JYZTPGAP7&dib=eyJ2IjoiMSJ9.crxhhcuVe8Gag3-0mnCXJiOSSKJki5hOYLJU7nup4DWqM8VWO2bZ9Q4-cyVWhDYcrh7i6wvREudXk_1fOmASAQGVze_4-XEu_ZipwWHKGEaQrG95wf0MxZsC6EKqis5Q6Ywei7d62JWfrTYbxSF8X6X8a6TiGKR8p3EyNlU2ymFsZ2qIj-QaewnVuHphrvq86bKiEW0Z9E5bDrZzCYg6cheuqNIxHJbm1OaMicIPipLERLb91WpqXx82zXCpAizeMKhbVhoEpsi9xq1Fku-lhXuJyKN-L25D_zblMLnwqJw.HMgS9dhmpgd_h3mD1Yi_96QhPgBkqMLPvvdO3Y9zHEI&dib_tag=se&keywords=guitar&qid=1708443912&sprefix=guitar%2Caps%2C311&sr=8-19',\n",
       " 'https://www.amazon.in/Yamaha-Acoustic-Tobacco-Sunburst-Bajaao/dp/B09PBDGD82/ref=sr_1_20?crid=1JO4JYZTPGAP7&dib=eyJ2IjoiMSJ9.crxhhcuVe8Gag3-0mnCXJiOSSKJki5hOYLJU7nup4DWqM8VWO2bZ9Q4-cyVWhDYcrh7i6wvREudXk_1fOmASAQGVze_4-XEu_ZipwWHKGEaQrG95wf0MxZsC6EKqis5Q6Ywei7d62JWfrTYbxSF8X6X8a6TiGKR8p3EyNlU2ymFsZ2qIj-QaewnVuHphrvq86bKiEW0Z9E5bDrZzCYg6cheuqNIxHJbm1OaMicIPipLERLb91WpqXx82zXCpAizeMKhbVhoEpsi9xq1Fku-lhXuJyKN-L25D_zblMLnwqJw.HMgS9dhmpgd_h3mD1Yi_96QhPgBkqMLPvvdO3Y9zHEI&dib_tag=se&keywords=guitar&qid=1708443912&sprefix=guitar%2Caps%2C311&sr=8-20',\n",
       " 'https://www.amazon.in/sspa/click?ie=UTF8&spc=MTo0NDM3NjcwMDEwNzYwMDUwOjE3MDg0NDM5MTI6c3BfbXRmOjMwMDEwNTMwMzczMTEzMjo6MDo6&url=%2FPerlman-Fretboard-Fingerboard-Stickers-Beginner%2Fdp%2FB096ZDSWJ4%2Fref%3Dsr_1_21_sspa%3Fcrid%3D1JO4JYZTPGAP7%26dib%3DeyJ2IjoiMSJ9.crxhhcuVe8Gag3-0mnCXJiOSSKJki5hOYLJU7nup4DWqM8VWO2bZ9Q4-cyVWhDYcrh7i6wvREudXk_1fOmASAQGVze_4-XEu_ZipwWHKGEaQrG95wf0MxZsC6EKqis5Q6Ywei7d62JWfrTYbxSF8X6X8a6TiGKR8p3EyNlU2ymFsZ2qIj-QaewnVuHphrvq86bKiEW0Z9E5bDrZzCYg6cheuqNIxHJbm1OaMicIPipLERLb91WpqXx82zXCpAizeMKhbVhoEpsi9xq1Fku-lhXuJyKN-L25D_zblMLnwqJw.HMgS9dhmpgd_h3mD1Yi_96QhPgBkqMLPvvdO3Y9zHEI%26dib_tag%3Dse%26keywords%3Dguitar%26qid%3D1708443912%26sprefix%3Dguitar%252Caps%252C311%26sr%3D8-21-spons%26sp_csd%3Dd2lkZ2V0TmFtZT1zcF9tdGY%26psc%3D1',\n",
       " 'https://www.amazon.in/sspa/click?ie=UTF8&spc=MTo0NDM3NjcwMDEwNzYwMDUwOjE3MDg0NDM5MTI6c3BfbXRmOjMwMDExODE5OTcxOTczMjo6MDo6&url=%2FMOCKING-BIRD-Beginners-Instruments-Accessories%2Fdp%2FB0CNGJP58D%2Fref%3Dsr_1_22_sspa%3Fcrid%3D1JO4JYZTPGAP7%26dib%3DeyJ2IjoiMSJ9.crxhhcuVe8Gag3-0mnCXJiOSSKJki5hOYLJU7nup4DWqM8VWO2bZ9Q4-cyVWhDYcrh7i6wvREudXk_1fOmASAQGVze_4-XEu_ZipwWHKGEaQrG95wf0MxZsC6EKqis5Q6Ywei7d62JWfrTYbxSF8X6X8a6TiGKR8p3EyNlU2ymFsZ2qIj-QaewnVuHphrvq86bKiEW0Z9E5bDrZzCYg6cheuqNIxHJbm1OaMicIPipLERLb91WpqXx82zXCpAizeMKhbVhoEpsi9xq1Fku-lhXuJyKN-L25D_zblMLnwqJw.HMgS9dhmpgd_h3mD1Yi_96QhPgBkqMLPvvdO3Y9zHEI%26dib_tag%3Dse%26keywords%3Dguitar%26qid%3D1708443912%26sprefix%3Dguitar%252Caps%252C311%26sr%3D8-22-spons%26sp_csd%3Dd2lkZ2V0TmFtZT1zcF9tdGY%26psc%3D1',\n",
       " 'https://www.amazon.in/sspa/click?ie=UTF8&spc=MTo0NDM3NjcwMDEwNzYwMDUwOjE3MDg0NDM5MTI6c3BfbXRmOjMwMDEzMTIzODIwMDIzMjo6MDo6&url=%2FGuitar-Fret-Stainless-Steel-Delicate%2Fdp%2FB09TTFKQFS%2Fref%3Dsr_1_23_sspa%3Fcrid%3D1JO4JYZTPGAP7%26dib%3DeyJ2IjoiMSJ9.crxhhcuVe8Gag3-0mnCXJiOSSKJki5hOYLJU7nup4DWqM8VWO2bZ9Q4-cyVWhDYcrh7i6wvREudXk_1fOmASAQGVze_4-XEu_ZipwWHKGEaQrG95wf0MxZsC6EKqis5Q6Ywei7d62JWfrTYbxSF8X6X8a6TiGKR8p3EyNlU2ymFsZ2qIj-QaewnVuHphrvq86bKiEW0Z9E5bDrZzCYg6cheuqNIxHJbm1OaMicIPipLERLb91WpqXx82zXCpAizeMKhbVhoEpsi9xq1Fku-lhXuJyKN-L25D_zblMLnwqJw.HMgS9dhmpgd_h3mD1Yi_96QhPgBkqMLPvvdO3Y9zHEI%26dib_tag%3Dse%26keywords%3Dguitar%26qid%3D1708443912%26sprefix%3Dguitar%252Caps%252C311%26sr%3D8-23-spons%26sp_csd%3Dd2lkZ2V0TmFtZT1zcF9tdGY%26psc%3D1',\n",
       " 'https://www.amazon.in/sspa/click?ie=UTF8&spc=MTo0NDM3NjcwMDEwNzYwMDUwOjE3MDg0NDM5MTI6c3BfbXRmOjIwMDkyNjI0MDIxNTk4OjowOjo&url=%2FDreadnought-Acoustic-Gig-Bag-Strings-Polishing%2Fdp%2FB0BJJRJVHY%2Fref%3Dsr_1_24_sspa%3Fcrid%3D1JO4JYZTPGAP7%26dib%3DeyJ2IjoiMSJ9.crxhhcuVe8Gag3-0mnCXJiOSSKJki5hOYLJU7nup4DWqM8VWO2bZ9Q4-cyVWhDYcrh7i6wvREudXk_1fOmASAQGVze_4-XEu_ZipwWHKGEaQrG95wf0MxZsC6EKqis5Q6Ywei7d62JWfrTYbxSF8X6X8a6TiGKR8p3EyNlU2ymFsZ2qIj-QaewnVuHphrvq86bKiEW0Z9E5bDrZzCYg6cheuqNIxHJbm1OaMicIPipLERLb91WpqXx82zXCpAizeMKhbVhoEpsi9xq1Fku-lhXuJyKN-L25D_zblMLnwqJw.HMgS9dhmpgd_h3mD1Yi_96QhPgBkqMLPvvdO3Y9zHEI%26dib_tag%3Dse%26keywords%3Dguitar%26qid%3D1708443912%26sprefix%3Dguitar%252Caps%252C311%26sr%3D8-24-spons%26sp_csd%3Dd2lkZ2V0TmFtZT1zcF9tdGY%26psc%3D1',\n",
       " 'https://www.amazon.in/Ju%C3%A2rez-JRZ38C-WH-Strings-Acoustic/dp/B072MFK4L6/ref=sr_1_25?crid=1JO4JYZTPGAP7&dib=eyJ2IjoiMSJ9.crxhhcuVe8Gag3-0mnCXJiOSSKJki5hOYLJU7nup4DWqM8VWO2bZ9Q4-cyVWhDYcrh7i6wvREudXk_1fOmASAQGVze_4-XEu_ZipwWHKGEaQrG95wf0MxZsC6EKqis5Q6Ywei7d62JWfrTYbxSF8X6X8a6TiGKR8p3EyNlU2ymFsZ2qIj-QaewnVuHphrvq86bKiEW0Z9E5bDrZzCYg6cheuqNIxHJbm1OaMicIPipLERLb91WpqXx82zXCpAizeMKhbVhoEpsi9xq1Fku-lhXuJyKN-L25D_zblMLnwqJw.HMgS9dhmpgd_h3mD1Yi_96QhPgBkqMLPvvdO3Y9zHEI&dib_tag=se&keywords=guitar&qid=1708443912&sprefix=guitar%2Caps%2C311&sr=8-25',\n",
       " 'https://www.amazon.in/JUAREZ-JRZ38C-BKNA/dp/B0BCQNVPRB/ref=sr_1_26?crid=1JO4JYZTPGAP7&dib=eyJ2IjoiMSJ9.crxhhcuVe8Gag3-0mnCXJiOSSKJki5hOYLJU7nup4DWqM8VWO2bZ9Q4-cyVWhDYcrh7i6wvREudXk_1fOmASAQGVze_4-XEu_ZipwWHKGEaQrG95wf0MxZsC6EKqis5Q6Ywei7d62JWfrTYbxSF8X6X8a6TiGKR8p3EyNlU2ymFsZ2qIj-QaewnVuHphrvq86bKiEW0Z9E5bDrZzCYg6cheuqNIxHJbm1OaMicIPipLERLb91WpqXx82zXCpAizeMKhbVhoEpsi9xq1Fku-lhXuJyKN-L25D_zblMLnwqJw.HMgS9dhmpgd_h3mD1Yi_96QhPgBkqMLPvvdO3Y9zHEI&dib_tag=se&keywords=guitar&qid=1708443912&sprefix=guitar%2Caps%2C311&sr=8-26',\n",
       " 'https://www.amazon.in/Kadence-Frontier-Acoustic-Guitar-Strings/dp/B078GTJP5Y/ref=sr_1_27?crid=1JO4JYZTPGAP7&dib=eyJ2IjoiMSJ9.crxhhcuVe8Gag3-0mnCXJiOSSKJki5hOYLJU7nup4DWqM8VWO2bZ9Q4-cyVWhDYcrh7i6wvREudXk_1fOmASAQGVze_4-XEu_ZipwWHKGEaQrG95wf0MxZsC6EKqis5Q6Ywei7d62JWfrTYbxSF8X6X8a6TiGKR8p3EyNlU2ymFsZ2qIj-QaewnVuHphrvq86bKiEW0Z9E5bDrZzCYg6cheuqNIxHJbm1OaMicIPipLERLb91WpqXx82zXCpAizeMKhbVhoEpsi9xq1Fku-lhXuJyKN-L25D_zblMLnwqJw.HMgS9dhmpgd_h3mD1Yi_96QhPgBkqMLPvvdO3Y9zHEI&dib_tag=se&keywords=guitar&qid=1708443912&sprefix=guitar%2Caps%2C311&sr=8-27',\n",
       " 'https://www.amazon.in/Henrix-Cutaway-Acoustic-Guitar-Action/dp/B097NCQFFM/ref=sr_1_28?crid=1JO4JYZTPGAP7&dib=eyJ2IjoiMSJ9.crxhhcuVe8Gag3-0mnCXJiOSSKJki5hOYLJU7nup4DWqM8VWO2bZ9Q4-cyVWhDYcrh7i6wvREudXk_1fOmASAQGVze_4-XEu_ZipwWHKGEaQrG95wf0MxZsC6EKqis5Q6Ywei7d62JWfrTYbxSF8X6X8a6TiGKR8p3EyNlU2ymFsZ2qIj-QaewnVuHphrvq86bKiEW0Z9E5bDrZzCYg6cheuqNIxHJbm1OaMicIPipLERLb91WpqXx82zXCpAizeMKhbVhoEpsi9xq1Fku-lhXuJyKN-L25D_zblMLnwqJw.HMgS9dhmpgd_h3mD1Yi_96QhPgBkqMLPvvdO3Y9zHEI&dib_tag=se&keywords=guitar&qid=1708443912&sprefix=guitar%2Caps%2C311&sr=8-28',\n",
       " 'https://www.amazon.in/JUAREZ-JRZ38C-TBLSNA/dp/B0BCQKQ6CS/ref=sr_1_29?crid=1JO4JYZTPGAP7&dib=eyJ2IjoiMSJ9.crxhhcuVe8Gag3-0mnCXJiOSSKJki5hOYLJU7nup4DWqM8VWO2bZ9Q4-cyVWhDYcrh7i6wvREudXk_1fOmASAQGVze_4-XEu_ZipwWHKGEaQrG95wf0MxZsC6EKqis5Q6Ywei7d62JWfrTYbxSF8X6X8a6TiGKR8p3EyNlU2ymFsZ2qIj-QaewnVuHphrvq86bKiEW0Z9E5bDrZzCYg6cheuqNIxHJbm1OaMicIPipLERLb91WpqXx82zXCpAizeMKhbVhoEpsi9xq1Fku-lhXuJyKN-L25D_zblMLnwqJw.HMgS9dhmpgd_h3mD1Yi_96QhPgBkqMLPvvdO3Y9zHEI&dib_tag=se&keywords=guitar&qid=1708443912&sprefix=guitar%2Caps%2C311&sr=8-29',\n",
       " 'https://www.amazon.in/JUAREZ-Arpeggio-Guitar-JRA41SP-RD-K-red/dp/B08MW8CWG8/ref=sr_1_30?crid=1JO4JYZTPGAP7&dib=eyJ2IjoiMSJ9.crxhhcuVe8Gag3-0mnCXJiOSSKJki5hOYLJU7nup4DWqM8VWO2bZ9Q4-cyVWhDYcrh7i6wvREudXk_1fOmASAQGVze_4-XEu_ZipwWHKGEaQrG95wf0MxZsC6EKqis5Q6Ywei7d62JWfrTYbxSF8X6X8a6TiGKR8p3EyNlU2ymFsZ2qIj-QaewnVuHphrvq86bKiEW0Z9E5bDrZzCYg6cheuqNIxHJbm1OaMicIPipLERLb91WpqXx82zXCpAizeMKhbVhoEpsi9xq1Fku-lhXuJyKN-L25D_zblMLnwqJw.HMgS9dhmpgd_h3mD1Yi_96QhPgBkqMLPvvdO3Y9zHEI&dib_tag=se&keywords=guitar&qid=1708443912&sprefix=guitar%2Caps%2C311&sr=8-30',\n",
       " 'https://www.amazon.in/Strings-Straps-String-winder-Polishing/dp/B07RV9FJ2Z/ref=sr_1_31?crid=1JO4JYZTPGAP7&dib=eyJ2IjoiMSJ9.crxhhcuVe8Gag3-0mnCXJiOSSKJki5hOYLJU7nup4DWqM8VWO2bZ9Q4-cyVWhDYcrh7i6wvREudXk_1fOmASAQGVze_4-XEu_ZipwWHKGEaQrG95wf0MxZsC6EKqis5Q6Ywei7d62JWfrTYbxSF8X6X8a6TiGKR8p3EyNlU2ymFsZ2qIj-QaewnVuHphrvq86bKiEW0Z9E5bDrZzCYg6cheuqNIxHJbm1OaMicIPipLERLb91WpqXx82zXCpAizeMKhbVhoEpsi9xq1Fku-lhXuJyKN-L25D_zblMLnwqJw.HMgS9dhmpgd_h3mD1Yi_96QhPgBkqMLPvvdO3Y9zHEI&dib_tag=se&keywords=guitar&qid=1708443912&sprefix=guitar%2Caps%2C311&sr=8-31',\n",
       " 'https://www.amazon.in/MOCKING-BIRD-Beginners-Instruments-Accessories/dp/B0CNGJP58D/ref=sr_1_32?crid=1JO4JYZTPGAP7&dib=eyJ2IjoiMSJ9.crxhhcuVe8Gag3-0mnCXJiOSSKJki5hOYLJU7nup4DWqM8VWO2bZ9Q4-cyVWhDYcrh7i6wvREudXk_1fOmASAQGVze_4-XEu_ZipwWHKGEaQrG95wf0MxZsC6EKqis5Q6Ywei7d62JWfrTYbxSF8X6X8a6TiGKR8p3EyNlU2ymFsZ2qIj-QaewnVuHphrvq86bKiEW0Z9E5bDrZzCYg6cheuqNIxHJbm1OaMicIPipLERLb91WpqXx82zXCpAizeMKhbVhoEpsi9xq1Fku-lhXuJyKN-L25D_zblMLnwqJw.HMgS9dhmpgd_h3mD1Yi_96QhPgBkqMLPvvdO3Y9zHEI&dib_tag=se&keywords=guitar&qid=1708443912&sprefix=guitar%2Caps%2C311&sr=8-32',\n",
       " 'https://www.amazon.in/Kadence-Slowhand-Mahogany-Acoustic-KSH03-12EQ/dp/B0CGDDPVKK/ref=sr_1_33?crid=1JO4JYZTPGAP7&dib=eyJ2IjoiMSJ9.crxhhcuVe8Gag3-0mnCXJiOSSKJki5hOYLJU7nup4DWqM8VWO2bZ9Q4-cyVWhDYcrh7i6wvREudXk_1fOmASAQGVze_4-XEu_ZipwWHKGEaQrG95wf0MxZsC6EKqis5Q6Ywei7d62JWfrTYbxSF8X6X8a6TiGKR8p3EyNlU2ymFsZ2qIj-QaewnVuHphrvq86bKiEW0Z9E5bDrZzCYg6cheuqNIxHJbm1OaMicIPipLERLb91WpqXx82zXCpAizeMKhbVhoEpsi9xq1Fku-lhXuJyKN-L25D_zblMLnwqJw.HMgS9dhmpgd_h3mD1Yi_96QhPgBkqMLPvvdO3Y9zHEI&dib_tag=se&keywords=guitar&qid=1708443912&sprefix=guitar%2Caps%2C311&sr=8-33',\n",
       " 'https://www.amazon.in/FS80C-Acoustic-Cutaway-Concert-Plectrums/dp/B08XVV1WH7/ref=sr_1_34?crid=1JO4JYZTPGAP7&dib=eyJ2IjoiMSJ9.crxhhcuVe8Gag3-0mnCXJiOSSKJki5hOYLJU7nup4DWqM8VWO2bZ9Q4-cyVWhDYcrh7i6wvREudXk_1fOmASAQGVze_4-XEu_ZipwWHKGEaQrG95wf0MxZsC6EKqis5Q6Ywei7d62JWfrTYbxSF8X6X8a6TiGKR8p3EyNlU2ymFsZ2qIj-QaewnVuHphrvq86bKiEW0Z9E5bDrZzCYg6cheuqNIxHJbm1OaMicIPipLERLb91WpqXx82zXCpAizeMKhbVhoEpsi9xq1Fku-lhXuJyKN-L25D_zblMLnwqJw.HMgS9dhmpgd_h3mD1Yi_96QhPgBkqMLPvvdO3Y9zHEI&dib_tag=se&keywords=guitar&qid=1708443912&sprefix=guitar%2Caps%2C311&sr=8-34',\n",
       " 'https://www.amazon.in/Acoustic-Humidity-resistant-resonance-Sunburst/dp/B09RQYYQBB/ref=sr_1_35?crid=1JO4JYZTPGAP7&dib=eyJ2IjoiMSJ9.crxhhcuVe8Gag3-0mnCXJiOSSKJki5hOYLJU7nup4DWqM8VWO2bZ9Q4-cyVWhDYcrh7i6wvREudXk_1fOmASAQGVze_4-XEu_ZipwWHKGEaQrG95wf0MxZsC6EKqis5Q6Ywei7d62JWfrTYbxSF8X6X8a6TiGKR8p3EyNlU2ymFsZ2qIj-QaewnVuHphrvq86bKiEW0Z9E5bDrZzCYg6cheuqNIxHJbm1OaMicIPipLERLb91WpqXx82zXCpAizeMKhbVhoEpsi9xq1Fku-lhXuJyKN-L25D_zblMLnwqJw.HMgS9dhmpgd_h3mD1Yi_96QhPgBkqMLPvvdO3Y9zHEI&dib_tag=se&keywords=guitar&qid=1708443912&sprefix=guitar%2Caps%2C311&sr=8-35',\n",
       " 'https://www.amazon.in/Armonia-38inch-Acoustic-Strings-Natural/dp/B0CJ9KTSGW/ref=sr_1_36?crid=1JO4JYZTPGAP7&dib=eyJ2IjoiMSJ9.crxhhcuVe8Gag3-0mnCXJiOSSKJki5hOYLJU7nup4DWqM8VWO2bZ9Q4-cyVWhDYcrh7i6wvREudXk_1fOmASAQGVze_4-XEu_ZipwWHKGEaQrG95wf0MxZsC6EKqis5Q6Ywei7d62JWfrTYbxSF8X6X8a6TiGKR8p3EyNlU2ymFsZ2qIj-QaewnVuHphrvq86bKiEW0Z9E5bDrZzCYg6cheuqNIxHJbm1OaMicIPipLERLb91WpqXx82zXCpAizeMKhbVhoEpsi9xq1Fku-lhXuJyKN-L25D_zblMLnwqJw.HMgS9dhmpgd_h3mD1Yi_96QhPgBkqMLPvvdO3Y9zHEI&dib_tag=se&keywords=guitar&qid=1708443912&sprefix=guitar%2Caps%2C311&sr=8-36',\n",
       " 'https://www.amazon.in/Blueberry-VIP-380-38Inch-Acoustic-Guitar/dp/B0BVR96DWH/ref=sr_1_37?crid=1JO4JYZTPGAP7&dib=eyJ2IjoiMSJ9.crxhhcuVe8Gag3-0mnCXJiOSSKJki5hOYLJU7nup4DWqM8VWO2bZ9Q4-cyVWhDYcrh7i6wvREudXk_1fOmASAQGVze_4-XEu_ZipwWHKGEaQrG95wf0MxZsC6EKqis5Q6Ywei7d62JWfrTYbxSF8X6X8a6TiGKR8p3EyNlU2ymFsZ2qIj-QaewnVuHphrvq86bKiEW0Z9E5bDrZzCYg6cheuqNIxHJbm1OaMicIPipLERLb91WpqXx82zXCpAizeMKhbVhoEpsi9xq1Fku-lhXuJyKN-L25D_zblMLnwqJw.HMgS9dhmpgd_h3mD1Yi_96QhPgBkqMLPvvdO3Y9zHEI&dib_tag=se&keywords=guitar&qid=1708443912&sprefix=guitar%2Caps%2C311&sr=8-37',\n",
       " 'https://www.amazon.in/Blueberry-38C-Acoustic-Guitar-Strings/dp/B08KLMV4XX/ref=sr_1_38?crid=1JO4JYZTPGAP7&dib=eyJ2IjoiMSJ9.crxhhcuVe8Gag3-0mnCXJiOSSKJki5hOYLJU7nup4DWqM8VWO2bZ9Q4-cyVWhDYcrh7i6wvREudXk_1fOmASAQGVze_4-XEu_ZipwWHKGEaQrG95wf0MxZsC6EKqis5Q6Ywei7d62JWfrTYbxSF8X6X8a6TiGKR8p3EyNlU2ymFsZ2qIj-QaewnVuHphrvq86bKiEW0Z9E5bDrZzCYg6cheuqNIxHJbm1OaMicIPipLERLb91WpqXx82zXCpAizeMKhbVhoEpsi9xq1Fku-lhXuJyKN-L25D_zblMLnwqJw.HMgS9dhmpgd_h3mD1Yi_96QhPgBkqMLPvvdO3Y9zHEI&dib_tag=se&keywords=guitar&qid=1708443912&sprefix=guitar%2Caps%2C311&sr=8-38',\n",
       " 'https://www.amazon.in/Perlman-Fretboard-Fingerboard-Stickers-Beginner/dp/B096ZDSWJ4/ref=sr_1_39?crid=1JO4JYZTPGAP7&dib=eyJ2IjoiMSJ9.crxhhcuVe8Gag3-0mnCXJiOSSKJki5hOYLJU7nup4DWqM8VWO2bZ9Q4-cyVWhDYcrh7i6wvREudXk_1fOmASAQGVze_4-XEu_ZipwWHKGEaQrG95wf0MxZsC6EKqis5Q6Ywei7d62JWfrTYbxSF8X6X8a6TiGKR8p3EyNlU2ymFsZ2qIj-QaewnVuHphrvq86bKiEW0Z9E5bDrZzCYg6cheuqNIxHJbm1OaMicIPipLERLb91WpqXx82zXCpAizeMKhbVhoEpsi9xq1Fku-lhXuJyKN-L25D_zblMLnwqJw.HMgS9dhmpgd_h3mD1Yi_96QhPgBkqMLPvvdO3Y9zHEI&dib_tag=se&keywords=guitar&qid=1708443912&sprefix=guitar%2Caps%2C311&sr=8-39',\n",
       " 'https://www.amazon.in/Blueberry-B-D38-Acoustic-Inbuilt-Strings/dp/B07PGV8VCB/ref=sr_1_40?crid=1JO4JYZTPGAP7&dib=eyJ2IjoiMSJ9.crxhhcuVe8Gag3-0mnCXJiOSSKJki5hOYLJU7nup4DWqM8VWO2bZ9Q4-cyVWhDYcrh7i6wvREudXk_1fOmASAQGVze_4-XEu_ZipwWHKGEaQrG95wf0MxZsC6EKqis5Q6Ywei7d62JWfrTYbxSF8X6X8a6TiGKR8p3EyNlU2ymFsZ2qIj-QaewnVuHphrvq86bKiEW0Z9E5bDrZzCYg6cheuqNIxHJbm1OaMicIPipLERLb91WpqXx82zXCpAizeMKhbVhoEpsi9xq1Fku-lhXuJyKN-L25D_zblMLnwqJw.HMgS9dhmpgd_h3mD1Yi_96QhPgBkqMLPvvdO3Y9zHEI&dib_tag=se&keywords=guitar&qid=1708443912&sprefix=guitar%2Caps%2C311&sr=8-40',\n",
       " 'https://www.amazon.in/Fender-String-Cutaway-Acoustic-Guitar/dp/B07YX5W8MV/ref=sr_1_41?crid=1JO4JYZTPGAP7&dib=eyJ2IjoiMSJ9.crxhhcuVe8Gag3-0mnCXJiOSSKJki5hOYLJU7nup4DWqM8VWO2bZ9Q4-cyVWhDYcrh7i6wvREudXk_1fOmASAQGVze_4-XEu_ZipwWHKGEaQrG95wf0MxZsC6EKqis5Q6Ywei7d62JWfrTYbxSF8X6X8a6TiGKR8p3EyNlU2ymFsZ2qIj-QaewnVuHphrvq86bKiEW0Z9E5bDrZzCYg6cheuqNIxHJbm1OaMicIPipLERLb91WpqXx82zXCpAizeMKhbVhoEpsi9xq1Fku-lhXuJyKN-L25D_zblMLnwqJw.HMgS9dhmpgd_h3mD1Yi_96QhPgBkqMLPvvdO3Y9zHEI&dib_tag=se&keywords=guitar&qid=1708443912&sprefix=guitar%2Caps%2C311&sr=8-41',\n",
       " 'https://www.amazon.in/Medellin-Acoustic-Guitar-learning-Strings/dp/B0CCNSN9BV/ref=sr_1_42?crid=1JO4JYZTPGAP7&dib=eyJ2IjoiMSJ9.crxhhcuVe8Gag3-0mnCXJiOSSKJki5hOYLJU7nup4DWqM8VWO2bZ9Q4-cyVWhDYcrh7i6wvREudXk_1fOmASAQGVze_4-XEu_ZipwWHKGEaQrG95wf0MxZsC6EKqis5Q6Ywei7d62JWfrTYbxSF8X6X8a6TiGKR8p3EyNlU2ymFsZ2qIj-QaewnVuHphrvq86bKiEW0Z9E5bDrZzCYg6cheuqNIxHJbm1OaMicIPipLERLb91WpqXx82zXCpAizeMKhbVhoEpsi9xq1Fku-lhXuJyKN-L25D_zblMLnwqJw.HMgS9dhmpgd_h3mD1Yi_96QhPgBkqMLPvvdO3Y9zHEI&dib_tag=se&keywords=guitar&qid=1708443912&sprefix=guitar%2Caps%2C311&sr=8-42',\n",
       " 'https://www.amazon.in/Washburn-String-Acoustic-Electric-Guitar-BTS9VCECH-D/dp/B07TJXQ1TL/ref=sr_1_43?crid=1JO4JYZTPGAP7&dib=eyJ2IjoiMSJ9.crxhhcuVe8Gag3-0mnCXJiOSSKJki5hOYLJU7nup4DWqM8VWO2bZ9Q4-cyVWhDYcrh7i6wvREudXk_1fOmASAQGVze_4-XEu_ZipwWHKGEaQrG95wf0MxZsC6EKqis5Q6Ywei7d62JWfrTYbxSF8X6X8a6TiGKR8p3EyNlU2ymFsZ2qIj-QaewnVuHphrvq86bKiEW0Z9E5bDrZzCYg6cheuqNIxHJbm1OaMicIPipLERLb91WpqXx82zXCpAizeMKhbVhoEpsi9xq1Fku-lhXuJyKN-L25D_zblMLnwqJw.HMgS9dhmpgd_h3mD1Yi_96QhPgBkqMLPvvdO3Y9zHEI&dib_tag=se&keywords=guitar&qid=1708443912&sprefix=guitar%2Caps%2C311&sr=8-43',\n",
       " 'https://www.amazon.in/JUAREZ-JRZ38C-3TSNA/dp/B0BCQQRDF3/ref=sr_1_44?crid=1JO4JYZTPGAP7&dib=eyJ2IjoiMSJ9.crxhhcuVe8Gag3-0mnCXJiOSSKJki5hOYLJU7nup4DWqM8VWO2bZ9Q4-cyVWhDYcrh7i6wvREudXk_1fOmASAQGVze_4-XEu_ZipwWHKGEaQrG95wf0MxZsC6EKqis5Q6Ywei7d62JWfrTYbxSF8X6X8a6TiGKR8p3EyNlU2ymFsZ2qIj-QaewnVuHphrvq86bKiEW0Z9E5bDrZzCYg6cheuqNIxHJbm1OaMicIPipLERLb91WpqXx82zXCpAizeMKhbVhoEpsi9xq1Fku-lhXuJyKN-L25D_zblMLnwqJw.HMgS9dhmpgd_h3mD1Yi_96QhPgBkqMLPvvdO3Y9zHEI&dib_tag=se&keywords=guitar&qid=1708443912&sprefix=guitar%2Caps%2C311&sr=8-44',\n",
       " 'https://www.amazon.in/Intern-INT-38C-Sunburst-Acoustic-Guitar/dp/B07X1J4D3Z/ref=sr_1_45?crid=1JO4JYZTPGAP7&dib=eyJ2IjoiMSJ9.crxhhcuVe8Gag3-0mnCXJiOSSKJki5hOYLJU7nup4DWqM8VWO2bZ9Q4-cyVWhDYcrh7i6wvREudXk_1fOmASAQGVze_4-XEu_ZipwWHKGEaQrG95wf0MxZsC6EKqis5Q6Ywei7d62JWfrTYbxSF8X6X8a6TiGKR8p3EyNlU2ymFsZ2qIj-QaewnVuHphrvq86bKiEW0Z9E5bDrZzCYg6cheuqNIxHJbm1OaMicIPipLERLb91WpqXx82zXCpAizeMKhbVhoEpsi9xq1Fku-lhXuJyKN-L25D_zblMLnwqJw.HMgS9dhmpgd_h3mD1Yi_96QhPgBkqMLPvvdO3Y9zHEI&dib_tag=se&keywords=guitar&qid=1708443912&sprefix=guitar%2Caps%2C311&sr=8-45',\n",
       " 'https://www.amazon.in/JRZ38C-Strings-Acoustic-Cutaway-Mahogany/dp/B071JM8C6T/ref=sr_1_46?crid=1JO4JYZTPGAP7&dib=eyJ2IjoiMSJ9.crxhhcuVe8Gag3-0mnCXJiOSSKJki5hOYLJU7nup4DWqM8VWO2bZ9Q4-cyVWhDYcrh7i6wvREudXk_1fOmASAQGVze_4-XEu_ZipwWHKGEaQrG95wf0MxZsC6EKqis5Q6Ywei7d62JWfrTYbxSF8X6X8a6TiGKR8p3EyNlU2ymFsZ2qIj-QaewnVuHphrvq86bKiEW0Z9E5bDrZzCYg6cheuqNIxHJbm1OaMicIPipLERLb91WpqXx82zXCpAizeMKhbVhoEpsi9xq1Fku-lhXuJyKN-L25D_zblMLnwqJw.HMgS9dhmpgd_h3mD1Yi_96QhPgBkqMLPvvdO3Y9zHEI&dib_tag=se&keywords=guitar&qid=1708443912&sprefix=guitar%2Caps%2C311&sr=8-46',\n",
       " 'https://www.amazon.in/JUAREZ-Arpeggio-Acoustic-Rosewood-Fretboard/dp/B08LBHB547/ref=sr_1_47?crid=1JO4JYZTPGAP7&dib=eyJ2IjoiMSJ9.crxhhcuVe8Gag3-0mnCXJiOSSKJki5hOYLJU7nup4DWqM8VWO2bZ9Q4-cyVWhDYcrh7i6wvREudXk_1fOmASAQGVze_4-XEu_ZipwWHKGEaQrG95wf0MxZsC6EKqis5Q6Ywei7d62JWfrTYbxSF8X6X8a6TiGKR8p3EyNlU2ymFsZ2qIj-QaewnVuHphrvq86bKiEW0Z9E5bDrZzCYg6cheuqNIxHJbm1OaMicIPipLERLb91WpqXx82zXCpAizeMKhbVhoEpsi9xq1Fku-lhXuJyKN-L25D_zblMLnwqJw.HMgS9dhmpgd_h3mD1Yi_96QhPgBkqMLPvvdO3Y9zHEI&dib_tag=se&keywords=guitar&qid=1708443912&sprefix=guitar%2Caps%2C311&sr=8-47',\n",
       " 'https://www.amazon.in/Mitansh-Collection-Beginner-Musical-Disclaimer/dp/B0CQVP8MKX/ref=sr_1_48?crid=1JO4JYZTPGAP7&dib=eyJ2IjoiMSJ9.crxhhcuVe8Gag3-0mnCXJiOSSKJki5hOYLJU7nup4DWqM8VWO2bZ9Q4-cyVWhDYcrh7i6wvREudXk_1fOmASAQGVze_4-XEu_ZipwWHKGEaQrG95wf0MxZsC6EKqis5Q6Ywei7d62JWfrTYbxSF8X6X8a6TiGKR8p3EyNlU2ymFsZ2qIj-QaewnVuHphrvq86bKiEW0Z9E5bDrZzCYg6cheuqNIxHJbm1OaMicIPipLERLb91WpqXx82zXCpAizeMKhbVhoEpsi9xq1Fku-lhXuJyKN-L25D_zblMLnwqJw.HMgS9dhmpgd_h3mD1Yi_96QhPgBkqMLPvvdO3Y9zHEI&dib_tag=se&keywords=guitar&qid=1708443912&sprefix=guitar%2Caps%2C311&sr=8-48',\n",
       " 'https://www.amazon.in/PS-Signature-Acoustic-Natural-Strings/dp/B0CK4XXQ7J/ref=sr_1_49?crid=1JO4JYZTPGAP7&dib=eyJ2IjoiMSJ9.crxhhcuVe8Gag3-0mnCXJiOSSKJki5hOYLJU7nup4DWqM8VWO2bZ9Q4-cyVWhDYcrh7i6wvREudXk_1fOmASAQGVze_4-XEu_ZipwWHKGEaQrG95wf0MxZsC6EKqis5Q6Ywei7d62JWfrTYbxSF8X6X8a6TiGKR8p3EyNlU2ymFsZ2qIj-QaewnVuHphrvq86bKiEW0Z9E5bDrZzCYg6cheuqNIxHJbm1OaMicIPipLERLb91WpqXx82zXCpAizeMKhbVhoEpsi9xq1Fku-lhXuJyKN-L25D_zblMLnwqJw.HMgS9dhmpgd_h3mD1Yi_96QhPgBkqMLPvvdO3Y9zHEI&dib_tag=se&keywords=guitar&qid=1708443912&sprefix=guitar%2Caps%2C311&sr=8-49',\n",
       " 'https://www.amazon.in/Acoustic-Beginner-Acustica-Guitarra-Packaging/dp/B09JNVCKFR/ref=sr_1_50?crid=1JO4JYZTPGAP7&dib=eyJ2IjoiMSJ9.crxhhcuVe8Gag3-0mnCXJiOSSKJki5hOYLJU7nup4DWqM8VWO2bZ9Q4-cyVWhDYcrh7i6wvREudXk_1fOmASAQGVze_4-XEu_ZipwWHKGEaQrG95wf0MxZsC6EKqis5Q6Ywei7d62JWfrTYbxSF8X6X8a6TiGKR8p3EyNlU2ymFsZ2qIj-QaewnVuHphrvq86bKiEW0Z9E5bDrZzCYg6cheuqNIxHJbm1OaMicIPipLERLb91WpqXx82zXCpAizeMKhbVhoEpsi9xq1Fku-lhXuJyKN-L25D_zblMLnwqJw.HMgS9dhmpgd_h3mD1Yi_96QhPgBkqMLPvvdO3Y9zHEI&dib_tag=se&keywords=guitar&qid=1708443912&sprefix=guitar%2Caps%2C311&sr=8-50',\n",
       " 'https://www.amazon.in/Kadence-Frontier-Acoustic-Sunburst-Strings/dp/B07T5DMPZ3/ref=sr_1_51?crid=1JO4JYZTPGAP7&dib=eyJ2IjoiMSJ9.crxhhcuVe8Gag3-0mnCXJiOSSKJki5hOYLJU7nup4DWqM8VWO2bZ9Q4-cyVWhDYcrh7i6wvREudXk_1fOmASAQGVze_4-XEu_ZipwWHKGEaQrG95wf0MxZsC6EKqis5Q6Ywei7d62JWfrTYbxSF8X6X8a6TiGKR8p3EyNlU2ymFsZ2qIj-QaewnVuHphrvq86bKiEW0Z9E5bDrZzCYg6cheuqNIxHJbm1OaMicIPipLERLb91WpqXx82zXCpAizeMKhbVhoEpsi9xq1Fku-lhXuJyKN-L25D_zblMLnwqJw.HMgS9dhmpgd_h3mD1Yi_96QhPgBkqMLPvvdO3Y9zHEI&dib_tag=se&keywords=guitar&qid=1708443912&sprefix=guitar%2Caps%2C311&sr=8-51',\n",
       " 'https://www.amazon.in/PS-Signature-41inch-Acoustic-Strings/dp/B0CGXL3VKG/ref=sr_1_52?crid=1JO4JYZTPGAP7&dib=eyJ2IjoiMSJ9.crxhhcuVe8Gag3-0mnCXJiOSSKJki5hOYLJU7nup4DWqM8VWO2bZ9Q4-cyVWhDYcrh7i6wvREudXk_1fOmASAQGVze_4-XEu_ZipwWHKGEaQrG95wf0MxZsC6EKqis5Q6Ywei7d62JWfrTYbxSF8X6X8a6TiGKR8p3EyNlU2ymFsZ2qIj-QaewnVuHphrvq86bKiEW0Z9E5bDrZzCYg6cheuqNIxHJbm1OaMicIPipLERLb91WpqXx82zXCpAizeMKhbVhoEpsi9xq1Fku-lhXuJyKN-L25D_zblMLnwqJw.HMgS9dhmpgd_h3mD1Yi_96QhPgBkqMLPvvdO3Y9zHEI&dib_tag=se&keywords=guitar&qid=1708443912&sprefix=guitar%2Caps%2C311&sr=8-52',\n",
       " 'https://www.amazon.in/Fender-Dread-String-Acoustic-Guitar/dp/B07RL6VG3H/ref=sr_1_53?crid=1JO4JYZTPGAP7&dib=eyJ2IjoiMSJ9.crxhhcuVe8Gag3-0mnCXJiOSSKJki5hOYLJU7nup4DWqM8VWO2bZ9Q4-cyVWhDYcrh7i6wvREudXk_1fOmASAQGVze_4-XEu_ZipwWHKGEaQrG95wf0MxZsC6EKqis5Q6Ywei7d62JWfrTYbxSF8X6X8a6TiGKR8p3EyNlU2ymFsZ2qIj-QaewnVuHphrvq86bKiEW0Z9E5bDrZzCYg6cheuqNIxHJbm1OaMicIPipLERLb91WpqXx82zXCpAizeMKhbVhoEpsi9xq1Fku-lhXuJyKN-L25D_zblMLnwqJw.HMgS9dhmpgd_h3mD1Yi_96QhPgBkqMLPvvdO3Y9zHEI&dib_tag=se&keywords=guitar&qid=1708443912&sprefix=guitar%2Caps%2C311&sr=8-53',\n",
       " 'https://www.amazon.in/Kadence-Astro-Electric-Guitar-FRETS/dp/B0CNRS4KXB/ref=sr_1_54?crid=1JO4JYZTPGAP7&dib=eyJ2IjoiMSJ9.crxhhcuVe8Gag3-0mnCXJiOSSKJki5hOYLJU7nup4DWqM8VWO2bZ9Q4-cyVWhDYcrh7i6wvREudXk_1fOmASAQGVze_4-XEu_ZipwWHKGEaQrG95wf0MxZsC6EKqis5Q6Ywei7d62JWfrTYbxSF8X6X8a6TiGKR8p3EyNlU2ymFsZ2qIj-QaewnVuHphrvq86bKiEW0Z9E5bDrZzCYg6cheuqNIxHJbm1OaMicIPipLERLb91WpqXx82zXCpAizeMKhbVhoEpsi9xq1Fku-lhXuJyKN-L25D_zblMLnwqJw.HMgS9dhmpgd_h3mD1Yi_96QhPgBkqMLPvvdO3Y9zHEI&dib_tag=se&keywords=guitar&qid=1708443912&sprefix=guitar%2Caps%2C311&sr=8-54',\n",
       " 'https://www.amazon.in/Juarez-Acoustic-Cutaway-BK-Strings/dp/B076T3RHMG/ref=sr_1_55?crid=1JO4JYZTPGAP7&dib=eyJ2IjoiMSJ9.crxhhcuVe8Gag3-0mnCXJiOSSKJki5hOYLJU7nup4DWqM8VWO2bZ9Q4-cyVWhDYcrh7i6wvREudXk_1fOmASAQGVze_4-XEu_ZipwWHKGEaQrG95wf0MxZsC6EKqis5Q6Ywei7d62JWfrTYbxSF8X6X8a6TiGKR8p3EyNlU2ymFsZ2qIj-QaewnVuHphrvq86bKiEW0Z9E5bDrZzCYg6cheuqNIxHJbm1OaMicIPipLERLb91WpqXx82zXCpAizeMKhbVhoEpsi9xq1Fku-lhXuJyKN-L25D_zblMLnwqJw.HMgS9dhmpgd_h3mD1Yi_96QhPgBkqMLPvvdO3Y9zHEI&dib_tag=se&keywords=guitar&qid=1708443912&sprefix=guitar%2Caps%2C311&sr=8-55',\n",
       " 'https://www.amazon.in/Swami-Enterprise-4-String-Acoustic-Instrument/dp/B095LR581N/ref=sr_1_56?crid=1JO4JYZTPGAP7&dib=eyJ2IjoiMSJ9.crxhhcuVe8Gag3-0mnCXJiOSSKJki5hOYLJU7nup4DWqM8VWO2bZ9Q4-cyVWhDYcrh7i6wvREudXk_1fOmASAQGVze_4-XEu_ZipwWHKGEaQrG95wf0MxZsC6EKqis5Q6Ywei7d62JWfrTYbxSF8X6X8a6TiGKR8p3EyNlU2ymFsZ2qIj-QaewnVuHphrvq86bKiEW0Z9E5bDrZzCYg6cheuqNIxHJbm1OaMicIPipLERLb91WpqXx82zXCpAizeMKhbVhoEpsi9xq1Fku-lhXuJyKN-L25D_zblMLnwqJw.HMgS9dhmpgd_h3mD1Yi_96QhPgBkqMLPvvdO3Y9zHEI&dib_tag=se&keywords=guitar&qid=1708443912&sprefix=guitar%2Caps%2C311&sr=8-56',\n",
       " 'https://www.amazon.in/sspa/click?ie=UTF8&spc=MTo0NDM3NjcwMDEwNzYwMDUwOjE3MDg0NDM5MTI6c3BfYnRmOjMwMDEzMjcxNDU5OTgzMjo6MDo6&url=%2FGuitar-Tailpiece-Guitars-Bridge-Replacement%2Fdp%2FB0BWYSZW1Y%2Fref%3Dsr_1_57_sspa%3Fcrid%3D1JO4JYZTPGAP7%26dib%3DeyJ2IjoiMSJ9.crxhhcuVe8Gag3-0mnCXJiOSSKJki5hOYLJU7nup4DWqM8VWO2bZ9Q4-cyVWhDYcrh7i6wvREudXk_1fOmASAQGVze_4-XEu_ZipwWHKGEaQrG95wf0MxZsC6EKqis5Q6Ywei7d62JWfrTYbxSF8X6X8a6TiGKR8p3EyNlU2ymFsZ2qIj-QaewnVuHphrvq86bKiEW0Z9E5bDrZzCYg6cheuqNIxHJbm1OaMicIPipLERLb91WpqXx82zXCpAizeMKhbVhoEpsi9xq1Fku-lhXuJyKN-L25D_zblMLnwqJw.HMgS9dhmpgd_h3mD1Yi_96QhPgBkqMLPvvdO3Y9zHEI%26dib_tag%3Dse%26keywords%3Dguitar%26qid%3D1708443912%26sprefix%3Dguitar%252Caps%252C311%26sr%3D8-57-spons%26sp_csd%3Dd2lkZ2V0TmFtZT1zcF9idGY%26psc%3D1',\n",
       " 'https://www.amazon.in/sspa/click?ie=UTF8&spc=MTo0NDM3NjcwMDEwNzYwMDUwOjE3MDg0NDM5MTI6c3BfYnRmOjMwMDExODEzMTQ4MTYzMjo6MDo6&url=%2FAcoustic-Guitar-Cutaway-Strings-Strap%2Fdp%2FB08NTC4KG4%2Fref%3Dsr_1_58_sspa%3Fcrid%3D1JO4JYZTPGAP7%26dib%3DeyJ2IjoiMSJ9.crxhhcuVe8Gag3-0mnCXJiOSSKJki5hOYLJU7nup4DWqM8VWO2bZ9Q4-cyVWhDYcrh7i6wvREudXk_1fOmASAQGVze_4-XEu_ZipwWHKGEaQrG95wf0MxZsC6EKqis5Q6Ywei7d62JWfrTYbxSF8X6X8a6TiGKR8p3EyNlU2ymFsZ2qIj-QaewnVuHphrvq86bKiEW0Z9E5bDrZzCYg6cheuqNIxHJbm1OaMicIPipLERLb91WpqXx82zXCpAizeMKhbVhoEpsi9xq1Fku-lhXuJyKN-L25D_zblMLnwqJw.HMgS9dhmpgd_h3mD1Yi_96QhPgBkqMLPvvdO3Y9zHEI%26dib_tag%3Dse%26keywords%3Dguitar%26qid%3D1708443912%26sprefix%3Dguitar%252Caps%252C311%26sr%3D8-58-spons%26sp_csd%3Dd2lkZ2V0TmFtZT1zcF9idGY%26psc%3D1',\n",
       " 'https://www.amazon.in/sspa/click?ie=UTF8&spc=MTo0NDM3NjcwMDEwNzYwMDUwOjE3MDg0NDM5MTI6c3BfYnRmOjMwMDEzNDY2MDUzMTMzMjo6MDo6&url=%2FSamara-SA39CE-Cutaway-Electro-Acoustic-Guitar%2Fdp%2FB09DT19ZDK%2Fref%3Dsr_1_59_sspa%3Fcrid%3D1JO4JYZTPGAP7%26dib%3DeyJ2IjoiMSJ9.crxhhcuVe8Gag3-0mnCXJiOSSKJki5hOYLJU7nup4DWqM8VWO2bZ9Q4-cyVWhDYcrh7i6wvREudXk_1fOmASAQGVze_4-XEu_ZipwWHKGEaQrG95wf0MxZsC6EKqis5Q6Ywei7d62JWfrTYbxSF8X6X8a6TiGKR8p3EyNlU2ymFsZ2qIj-QaewnVuHphrvq86bKiEW0Z9E5bDrZzCYg6cheuqNIxHJbm1OaMicIPipLERLb91WpqXx82zXCpAizeMKhbVhoEpsi9xq1Fku-lhXuJyKN-L25D_zblMLnwqJw.HMgS9dhmpgd_h3mD1Yi_96QhPgBkqMLPvvdO3Y9zHEI%26dib_tag%3Dse%26keywords%3Dguitar%26qid%3D1708443912%26sprefix%3Dguitar%252Caps%252C311%26sr%3D8-59-spons%26sp_csd%3Dd2lkZ2V0TmFtZT1zcF9idGY%26psc%3D1',\n",
       " 'https://www.amazon.in/sspa/click?ie=UTF8&spc=MTo0NDM3NjcwMDEwNzYwMDUwOjE3MDg0NDM5MTI6c3BfYnRmOjMwMDExMzg5MzQwMjEzMjo6MDo6&url=%2FDEVICE-URBAN-INFOTECH-Beginners-Guitarists%2Fdp%2FB0CR7DPXQN%2Fref%3Dsr_1_60_sspa%3Fcrid%3D1JO4JYZTPGAP7%26dib%3DeyJ2IjoiMSJ9.crxhhcuVe8Gag3-0mnCXJiOSSKJki5hOYLJU7nup4DWqM8VWO2bZ9Q4-cyVWhDYcrh7i6wvREudXk_1fOmASAQGVze_4-XEu_ZipwWHKGEaQrG95wf0MxZsC6EKqis5Q6Ywei7d62JWfrTYbxSF8X6X8a6TiGKR8p3EyNlU2ymFsZ2qIj-QaewnVuHphrvq86bKiEW0Z9E5bDrZzCYg6cheuqNIxHJbm1OaMicIPipLERLb91WpqXx82zXCpAizeMKhbVhoEpsi9xq1Fku-lhXuJyKN-L25D_zblMLnwqJw.HMgS9dhmpgd_h3mD1Yi_96QhPgBkqMLPvvdO3Y9zHEI%26dib_tag%3Dse%26keywords%3Dguitar%26qid%3D1708443912%26sprefix%3Dguitar%252Caps%252C311%26sr%3D8-60-spons%26sp_csd%3Dd2lkZ2V0TmFtZT1zcF9idGY%26psc%3D1',\n",
       " 'https://aax-eu.amazon.in/x/c/RImFHO5bRbBT_e3WfvZ1zEEAAAGNxzFKkQMAAAH2AQBvbm9fdHhuX2JpZDIgICBvbm9fdHhuX2ltcDEgICAK6s_e/https://www.amazon.in/Mackie-Studio-Bundle-Series/dp/B083NGKYJD/ref=sxbs_sbv_search_btf?content-id=amzn1.sym.7d6d801d-0b91-42f0-9ded-a1900c21a285%3Aamzn1.sym.7d6d801d-0b91-42f0-9ded-a1900c21a285&crid=1JO4JYZTPGAP7&cv_ct_cx=guitar&dib=eyJ2IjoiMSJ9.a34JFiLle_ZzPSm4UtLBiA.ZpacdWTU9HN0h5qYQlse4CqxUXeRWS0NZmpCLSiZFy4&dib_tag=se&keywords=guitar&pd_rd_i=B083NGKYJD&pd_rd_r=25b279ce-0a3f-4b36-af67-875a38b24e35&pd_rd_w=lICPA&pd_rd_wg=ySJAx&pf_rd_p=7d6d801d-0b91-42f0-9ded-a1900c21a285&pf_rd_r=N9DBF7YCYYPRRPZVZAD5&qid=1708443912&sbo=RZvfv%2F%2FHxDF%2BO5021pAnSA%3D%3D&sprefix=guitar%2Caps%2C311&sr=1-1-25dedf61-9bde-4412-952b-c956ef4fc546',\n",
       " 'https://www.amazon.in/sspa/click?ie=UTF8&spc=MTo0NDM3NjcwMDEwNzYwMDUwOjE3MDg0NDM5MTI6c3BfYXRmOjMwMDAxNTUwODk1NDEzMjo6MDo6&url=%2FKadence-Frontier-Acoustic-Guitar-Strings%2Fdp%2FB01GDZ46AA%2Fref%3Dsr_1_1_sspa%3Fcrid%3D1JO4JYZTPGAP7%26dib%3DeyJ2IjoiMSJ9.crxhhcuVe8Gag3-0mnCXJiOSSKJki5hOYLJU7nup4DWqM8VWO2bZ9Q4-cyVWhDYcrh7i6wvREudXk_1fOmASAQGVze_4-XEu_ZipwWHKGEaQrG95wf0MxZsC6EKqis5Q6Ywei7d62JWfrTYbxSF8X6X8a6TiGKR8p3EyNlU2ymFsZ2qIj-QaewnVuHphrvq86bKiEW0Z9E5bDrZzCYg6cheuqNIxHJbm1OaMicIPipLERLb91WpqXx82zXCpAizeMKhbVhoEpsi9xq1Fku-lhXuJyKN-L25D_zblMLnwqJw.HMgS9dhmpgd_h3mD1Yi_96QhPgBkqMLPvvdO3Y9zHEI%26dib_tag%3Dse%26keywords%3Dguitar%26qid%3D1708443912%26sprefix%3Dguitar%252Caps%252C311%26sr%3D8-1-spons%26sp_csd%3Dd2lkZ2V0TmFtZT1zcF9hdGY%26psc%3D1',\n",
       " 'https://www.amazon.in/sspa/click?ie=UTF8&spc=MTo0NDM3NjcwMDEwNzYwMDUwOjE3MDg0NDM5MTI6c3BfYXRmOjMwMDAxNTUzNzk3OTIzMjo6MDo6&url=%2FKadence-Frontier-Acoustic-Guitar-Strings%2Fdp%2FB078GTJP5Y%2Fref%3Dsr_1_2_sspa%3Fcrid%3D1JO4JYZTPGAP7%26dib%3DeyJ2IjoiMSJ9.crxhhcuVe8Gag3-0mnCXJiOSSKJki5hOYLJU7nup4DWqM8VWO2bZ9Q4-cyVWhDYcrh7i6wvREudXk_1fOmASAQGVze_4-XEu_ZipwWHKGEaQrG95wf0MxZsC6EKqis5Q6Ywei7d62JWfrTYbxSF8X6X8a6TiGKR8p3EyNlU2ymFsZ2qIj-QaewnVuHphrvq86bKiEW0Z9E5bDrZzCYg6cheuqNIxHJbm1OaMicIPipLERLb91WpqXx82zXCpAizeMKhbVhoEpsi9xq1Fku-lhXuJyKN-L25D_zblMLnwqJw.HMgS9dhmpgd_h3mD1Yi_96QhPgBkqMLPvvdO3Y9zHEI%26dib_tag%3Dse%26keywords%3Dguitar%26qid%3D1708443912%26sprefix%3Dguitar%252Caps%252C311%26sr%3D8-2-spons%26sp_csd%3Dd2lkZ2V0TmFtZT1zcF9hdGY%26psc%3D1',\n",
       " 'https://www.amazon.in/sspa/click?ie=UTF8&spc=MTo0NDM3NjcwMDEwNzYwMDUwOjE3MDg0NDM5MTI6c3BfYXRmOjIwMDg4NDY1ODE5NDA0OjowOjo&url=%2FHenrix-Acoustic-Guitar-Die-cast-Dual-action%2Fdp%2FB07VNDW6QF%2Fref%3Dsr_1_3_sspa%3Fcrid%3D1JO4JYZTPGAP7%26dib%3DeyJ2IjoiMSJ9.crxhhcuVe8Gag3-0mnCXJiOSSKJki5hOYLJU7nup4DWqM8VWO2bZ9Q4-cyVWhDYcrh7i6wvREudXk_1fOmASAQGVze_4-XEu_ZipwWHKGEaQrG95wf0MxZsC6EKqis5Q6Ywei7d62JWfrTYbxSF8X6X8a6TiGKR8p3EyNlU2ymFsZ2qIj-QaewnVuHphrvq86bKiEW0Z9E5bDrZzCYg6cheuqNIxHJbm1OaMicIPipLERLb91WpqXx82zXCpAizeMKhbVhoEpsi9xq1Fku-lhXuJyKN-L25D_zblMLnwqJw.HMgS9dhmpgd_h3mD1Yi_96QhPgBkqMLPvvdO3Y9zHEI%26dib_tag%3Dse%26keywords%3Dguitar%26qid%3D1708443912%26sprefix%3Dguitar%252Caps%252C311%26sr%3D8-3-spons%26sp_csd%3Dd2lkZ2V0TmFtZT1zcF9hdGY%26psc%3D1',\n",
       " 'https://www.amazon.in/sspa/click?ie=UTF8&spc=MTo0NDM3NjcwMDEwNzYwMDUwOjE3MDg0NDM5MTI6c3BfYXRmOjIwMDU3MTkzMDU2MjA0OjowOjo&url=%2FKadence-Slowhand-Premium-Acoustic-Instrument%2Fdp%2FB077SZ667X%2Fref%3Dsr_1_4_sspa%3Fcrid%3D1JO4JYZTPGAP7%26dib%3DeyJ2IjoiMSJ9.crxhhcuVe8Gag3-0mnCXJiOSSKJki5hOYLJU7nup4DWqM8VWO2bZ9Q4-cyVWhDYcrh7i6wvREudXk_1fOmASAQGVze_4-XEu_ZipwWHKGEaQrG95wf0MxZsC6EKqis5Q6Ywei7d62JWfrTYbxSF8X6X8a6TiGKR8p3EyNlU2ymFsZ2qIj-QaewnVuHphrvq86bKiEW0Z9E5bDrZzCYg6cheuqNIxHJbm1OaMicIPipLERLb91WpqXx82zXCpAizeMKhbVhoEpsi9xq1Fku-lhXuJyKN-L25D_zblMLnwqJw.HMgS9dhmpgd_h3mD1Yi_96QhPgBkqMLPvvdO3Y9zHEI%26dib_tag%3Dse%26keywords%3Dguitar%26qid%3D1708443912%26sprefix%3Dguitar%252Caps%252C311%26sr%3D8-4-spons%26sp_csd%3Dd2lkZ2V0TmFtZT1zcF9hdGY%26psc%3D1',\n",
       " 'https://www.amazon.in/Intern-INT-38C-Acoustic-Guitar-Black/dp/B073B6TQQY/ref=sr_1_5?crid=1JO4JYZTPGAP7&dib=eyJ2IjoiMSJ9.crxhhcuVe8Gag3-0mnCXJiOSSKJki5hOYLJU7nup4DWqM8VWO2bZ9Q4-cyVWhDYcrh7i6wvREudXk_1fOmASAQGVze_4-XEu_ZipwWHKGEaQrG95wf0MxZsC6EKqis5Q6Ywei7d62JWfrTYbxSF8X6X8a6TiGKR8p3EyNlU2ymFsZ2qIj-QaewnVuHphrvq86bKiEW0Z9E5bDrZzCYg6cheuqNIxHJbm1OaMicIPipLERLb91WpqXx82zXCpAizeMKhbVhoEpsi9xq1Fku-lhXuJyKN-L25D_zblMLnwqJw.HMgS9dhmpgd_h3mD1Yi_96QhPgBkqMLPvvdO3Y9zHEI&dib_tag=se&keywords=guitar&qid=1708443912&sprefix=guitar%2Caps%2C311&sr=8-5',\n",
       " 'https://www.amazon.in/Juarez-Acoustic-Cutaway-038C-Strings/dp/B017NPCSLI/ref=sr_1_6?crid=1JO4JYZTPGAP7&dib=eyJ2IjoiMSJ9.crxhhcuVe8Gag3-0mnCXJiOSSKJki5hOYLJU7nup4DWqM8VWO2bZ9Q4-cyVWhDYcrh7i6wvREudXk_1fOmASAQGVze_4-XEu_ZipwWHKGEaQrG95wf0MxZsC6EKqis5Q6Ywei7d62JWfrTYbxSF8X6X8a6TiGKR8p3EyNlU2ymFsZ2qIj-QaewnVuHphrvq86bKiEW0Z9E5bDrZzCYg6cheuqNIxHJbm1OaMicIPipLERLb91WpqXx82zXCpAizeMKhbVhoEpsi9xq1Fku-lhXuJyKN-L25D_zblMLnwqJw.HMgS9dhmpgd_h3mD1Yi_96QhPgBkqMLPvvdO3Y9zHEI&dib_tag=se&keywords=guitar&qid=1708443912&sprefix=guitar%2Caps%2C311&sr=8-6',\n",
       " 'https://www.amazon.in/Intern-INT-38C-Acoustic-Guitar-Sunburst/dp/B073B5MJRM/ref=sr_1_7?crid=1JO4JYZTPGAP7&dib=eyJ2IjoiMSJ9.crxhhcuVe8Gag3-0mnCXJiOSSKJki5hOYLJU7nup4DWqM8VWO2bZ9Q4-cyVWhDYcrh7i6wvREudXk_1fOmASAQGVze_4-XEu_ZipwWHKGEaQrG95wf0MxZsC6EKqis5Q6Ywei7d62JWfrTYbxSF8X6X8a6TiGKR8p3EyNlU2ymFsZ2qIj-QaewnVuHphrvq86bKiEW0Z9E5bDrZzCYg6cheuqNIxHJbm1OaMicIPipLERLb91WpqXx82zXCpAizeMKhbVhoEpsi9xq1Fku-lhXuJyKN-L25D_zblMLnwqJw.HMgS9dhmpgd_h3mD1Yi_96QhPgBkqMLPvvdO3Y9zHEI&dib_tag=se&keywords=guitar&qid=1708443912&sprefix=guitar%2Caps%2C311&sr=8-7',\n",
       " 'https://aax-eu.amazon.in/x/c/RCbc1GEJRtkTr1uPa3w5RtMAAAGNxzFKiwMAAAH2AQBvbm9fdHhuX2JpZDIgICBvbm9fdHhuX2ltcDEgICAHC7Ls/https://www.amazon.in/Radhe-Flutes-Natural-Bansuri-Middle/dp/B07T35ZBHB/ref=sxin_15_sbv_search_btf?content-id=amzn1.sym.4fe35c1d-da6a-41a4-967c-7a2315a8b22e%3Aamzn1.sym.4fe35c1d-da6a-41a4-967c-7a2315a8b22e&crid=1JO4JYZTPGAP7&cv_ct_cx=guitar&dib=eyJ2IjoiMSJ9.RkxRkdLFro_AAXvr06nUqw.JeBd0PrU651_axv89AuxHG1WRYgRws8Xq3gSK_R65J4&dib_tag=se&keywords=guitar&pd_rd_i=B07T35ZBHB&pd_rd_r=ffd6034d-bd1f-49ef-bb5e-6a1414f515cd&pd_rd_w=eRtKA&pd_rd_wg=z7SAN&pf_rd_p=4fe35c1d-da6a-41a4-967c-7a2315a8b22e&pf_rd_r=N9DBF7YCYYPRRPZVZAD5&qid=1708443912&sbo=RZvfv%2F%2FHxDF%2BO5021pAnSA%3D%3D&sprefix=guitar%2Caps%2C311&sr=1-1-b614a050-8d70-4320-9c19-cc457ab2a351',\n",
       " 'https://www.amazon.in/Yamaha-F280-Acoustic-Guitar-Natural/dp/B08317Y4VP/ref=sr_1_8?crid=1JO4JYZTPGAP7&dib=eyJ2IjoiMSJ9.crxhhcuVe8Gag3-0mnCXJiOSSKJki5hOYLJU7nup4DWqM8VWO2bZ9Q4-cyVWhDYcrh7i6wvREudXk_1fOmASAQGVze_4-XEu_ZipwWHKGEaQrG95wf0MxZsC6EKqis5Q6Ywei7d62JWfrTYbxSF8X6X8a6TiGKR8p3EyNlU2ymFsZ2qIj-QaewnVuHphrvq86bKiEW0Z9E5bDrZzCYg6cheuqNIxHJbm1OaMicIPipLERLb91WpqXx82zXCpAizeMKhbVhoEpsi9xq1Fku-lhXuJyKN-L25D_zblMLnwqJw.HMgS9dhmpgd_h3mD1Yi_96QhPgBkqMLPvvdO3Y9zHEI&dib_tag=se&keywords=guitar&qid=1708443912&sprefix=guitar%2Caps%2C311&sr=8-8',\n",
       " 'https://www.amazon.in/JUAREZ-JRZ38C-Acoustic-Sunburst-Strings/dp/B01FYYTDS6/ref=sr_1_9?crid=1JO4JYZTPGAP7&dib=eyJ2IjoiMSJ9.crxhhcuVe8Gag3-0mnCXJiOSSKJki5hOYLJU7nup4DWqM8VWO2bZ9Q4-cyVWhDYcrh7i6wvREudXk_1fOmASAQGVze_4-XEu_ZipwWHKGEaQrG95wf0MxZsC6EKqis5Q6Ywei7d62JWfrTYbxSF8X6X8a6TiGKR8p3EyNlU2ymFsZ2qIj-QaewnVuHphrvq86bKiEW0Z9E5bDrZzCYg6cheuqNIxHJbm1OaMicIPipLERLb91WpqXx82zXCpAizeMKhbVhoEpsi9xq1Fku-lhXuJyKN-L25D_zblMLnwqJw.HMgS9dhmpgd_h3mD1Yi_96QhPgBkqMLPvvdO3Y9zHEI&dib_tag=se&keywords=guitar&qid=1708443912&sprefix=guitar%2Caps%2C311&sr=8-9',\n",
       " 'https://www.amazon.in/YAMAHA-FS80C-CONCERT-CUTAWAY-GUITAR/dp/B08WBBVMVJ/ref=sr_1_10?crid=1JO4JYZTPGAP7&dib=eyJ2IjoiMSJ9.crxhhcuVe8Gag3-0mnCXJiOSSKJki5hOYLJU7nup4DWqM8VWO2bZ9Q4-cyVWhDYcrh7i6wvREudXk_1fOmASAQGVze_4-XEu_ZipwWHKGEaQrG95wf0MxZsC6EKqis5Q6Ywei7d62JWfrTYbxSF8X6X8a6TiGKR8p3EyNlU2ymFsZ2qIj-QaewnVuHphrvq86bKiEW0Z9E5bDrZzCYg6cheuqNIxHJbm1OaMicIPipLERLb91WpqXx82zXCpAizeMKhbVhoEpsi9xq1Fku-lhXuJyKN-L25D_zblMLnwqJw.HMgS9dhmpgd_h3mD1Yi_96QhPgBkqMLPvvdO3Y9zHEI&dib_tag=se&keywords=guitar&qid=1708443912&sprefix=guitar%2Caps%2C311&sr=8-10',\n",
       " 'https://www.amazon.in/JUAREZ-JRZ38C-Acoustic-Sunburst-Strings/dp/B01FYYTDTU/ref=sr_1_11?crid=1JO4JYZTPGAP7&dib=eyJ2IjoiMSJ9.crxhhcuVe8Gag3-0mnCXJiOSSKJki5hOYLJU7nup4DWqM8VWO2bZ9Q4-cyVWhDYcrh7i6wvREudXk_1fOmASAQGVze_4-XEu_ZipwWHKGEaQrG95wf0MxZsC6EKqis5Q6Ywei7d62JWfrTYbxSF8X6X8a6TiGKR8p3EyNlU2ymFsZ2qIj-QaewnVuHphrvq86bKiEW0Z9E5bDrZzCYg6cheuqNIxHJbm1OaMicIPipLERLb91WpqXx82zXCpAizeMKhbVhoEpsi9xq1Fku-lhXuJyKN-L25D_zblMLnwqJw.HMgS9dhmpgd_h3mD1Yi_96QhPgBkqMLPvvdO3Y9zHEI&dib_tag=se&keywords=guitar&qid=1708443912&sprefix=guitar%2Caps%2C311&sr=8-11',\n",
       " 'https://www.amazon.in/Ultimate-Concert-Cutaway-Acoustic-Bajaao/dp/B08WHWKKV5/ref=sr_1_12?crid=1JO4JYZTPGAP7&dib=eyJ2IjoiMSJ9.crxhhcuVe8Gag3-0mnCXJiOSSKJki5hOYLJU7nup4DWqM8VWO2bZ9Q4-cyVWhDYcrh7i6wvREudXk_1fOmASAQGVze_4-XEu_ZipwWHKGEaQrG95wf0MxZsC6EKqis5Q6Ywei7d62JWfrTYbxSF8X6X8a6TiGKR8p3EyNlU2ymFsZ2qIj-QaewnVuHphrvq86bKiEW0Z9E5bDrZzCYg6cheuqNIxHJbm1OaMicIPipLERLb91WpqXx82zXCpAizeMKhbVhoEpsi9xq1Fku-lhXuJyKN-L25D_zblMLnwqJw.HMgS9dhmpgd_h3mD1Yi_96QhPgBkqMLPvvdO3Y9zHEI&dib_tag=se&keywords=guitar&qid=1708443912&sprefix=guitar%2Caps%2C311&sr=8-12',\n",
       " 'https://www.amazon.in/JUAREZ-JRZ38C-PP/dp/B0BCQNLXVM/ref=sr_1_13?crid=1JO4JYZTPGAP7&dib=eyJ2IjoiMSJ9.crxhhcuVe8Gag3-0mnCXJiOSSKJki5hOYLJU7nup4DWqM8VWO2bZ9Q4-cyVWhDYcrh7i6wvREudXk_1fOmASAQGVze_4-XEu_ZipwWHKGEaQrG95wf0MxZsC6EKqis5Q6Ywei7d62JWfrTYbxSF8X6X8a6TiGKR8p3EyNlU2ymFsZ2qIj-QaewnVuHphrvq86bKiEW0Z9E5bDrZzCYg6cheuqNIxHJbm1OaMicIPipLERLb91WpqXx82zXCpAizeMKhbVhoEpsi9xq1Fku-lhXuJyKN-L25D_zblMLnwqJw.HMgS9dhmpgd_h3mD1Yi_96QhPgBkqMLPvvdO3Y9zHEI&dib_tag=se&keywords=guitar&qid=1708443912&sprefix=guitar%2Caps%2C311&sr=8-13',\n",
       " 'https://www.amazon.in/Kadence-Frontier-Acoustic-Guitar-Strings/dp/B01CJJG328/ref=sr_1_14?crid=1JO4JYZTPGAP7&dib=eyJ2IjoiMSJ9.crxhhcuVe8Gag3-0mnCXJiOSSKJki5hOYLJU7nup4DWqM8VWO2bZ9Q4-cyVWhDYcrh7i6wvREudXk_1fOmASAQGVze_4-XEu_ZipwWHKGEaQrG95wf0MxZsC6EKqis5Q6Ywei7d62JWfrTYbxSF8X6X8a6TiGKR8p3EyNlU2ymFsZ2qIj-QaewnVuHphrvq86bKiEW0Z9E5bDrZzCYg6cheuqNIxHJbm1OaMicIPipLERLb91WpqXx82zXCpAizeMKhbVhoEpsi9xq1Fku-lhXuJyKN-L25D_zblMLnwqJw.HMgS9dhmpgd_h3mD1Yi_96QhPgBkqMLPvvdO3Y9zHEI&dib_tag=se&keywords=guitar&qid=1708443912&sprefix=guitar%2Caps%2C311&sr=8-14',\n",
       " 'https://www.amazon.in/Intern-INT-38C-VT-G-Guitar-Kit-Violet/dp/B07K8YJXKL/ref=sr_1_15?crid=1JO4JYZTPGAP7&dib=eyJ2IjoiMSJ9.crxhhcuVe8Gag3-0mnCXJiOSSKJki5hOYLJU7nup4DWqM8VWO2bZ9Q4-cyVWhDYcrh7i6wvREudXk_1fOmASAQGVze_4-XEu_ZipwWHKGEaQrG95wf0MxZsC6EKqis5Q6Ywei7d62JWfrTYbxSF8X6X8a6TiGKR8p3EyNlU2ymFsZ2qIj-QaewnVuHphrvq86bKiEW0Z9E5bDrZzCYg6cheuqNIxHJbm1OaMicIPipLERLb91WpqXx82zXCpAizeMKhbVhoEpsi9xq1Fku-lhXuJyKN-L25D_zblMLnwqJw.HMgS9dhmpgd_h3mD1Yi_96QhPgBkqMLPvvdO3Y9zHEI&dib_tag=se&keywords=guitar&qid=1708443912&sprefix=guitar%2Caps%2C311&sr=8-15',\n",
       " 'https://www.amazon.in/Fender-FA-125-Dreadnought-Acoustic-Guitar/dp/B07J4X9B7R/ref=sr_1_16?crid=1JO4JYZTPGAP7&dib=eyJ2IjoiMSJ9.crxhhcuVe8Gag3-0mnCXJiOSSKJki5hOYLJU7nup4DWqM8VWO2bZ9Q4-cyVWhDYcrh7i6wvREudXk_1fOmASAQGVze_4-XEu_ZipwWHKGEaQrG95wf0MxZsC6EKqis5Q6Ywei7d62JWfrTYbxSF8X6X8a6TiGKR8p3EyNlU2ymFsZ2qIj-QaewnVuHphrvq86bKiEW0Z9E5bDrZzCYg6cheuqNIxHJbm1OaMicIPipLERLb91WpqXx82zXCpAizeMKhbVhoEpsi9xq1Fku-lhXuJyKN-L25D_zblMLnwqJw.HMgS9dhmpgd_h3mD1Yi_96QhPgBkqMLPvvdO3Y9zHEI&dib_tag=se&keywords=guitar&qid=1708443912&sprefix=guitar%2Caps%2C311&sr=8-16',\n",
       " 'https://www.amazon.in/Intern-INT-38C-Acoustic-Guitar-Kit/dp/B073B6TF31/ref=sr_1_17?crid=1JO4JYZTPGAP7&dib=eyJ2IjoiMSJ9.crxhhcuVe8Gag3-0mnCXJiOSSKJki5hOYLJU7nup4DWqM8VWO2bZ9Q4-cyVWhDYcrh7i6wvREudXk_1fOmASAQGVze_4-XEu_ZipwWHKGEaQrG95wf0MxZsC6EKqis5Q6Ywei7d62JWfrTYbxSF8X6X8a6TiGKR8p3EyNlU2ymFsZ2qIj-QaewnVuHphrvq86bKiEW0Z9E5bDrZzCYg6cheuqNIxHJbm1OaMicIPipLERLb91WpqXx82zXCpAizeMKhbVhoEpsi9xq1Fku-lhXuJyKN-L25D_zblMLnwqJw.HMgS9dhmpgd_h3mD1Yi_96QhPgBkqMLPvvdO3Y9zHEI&dib_tag=se&keywords=guitar&qid=1708443912&sprefix=guitar%2Caps%2C311&sr=8-17',\n",
       " 'https://www.amazon.in/JUAREZ-JRZ38C-Acoustic-Natural-Strings/dp/B01FYYTDWC/ref=sr_1_18?crid=1JO4JYZTPGAP7&dib=eyJ2IjoiMSJ9.crxhhcuVe8Gag3-0mnCXJiOSSKJki5hOYLJU7nup4DWqM8VWO2bZ9Q4-cyVWhDYcrh7i6wvREudXk_1fOmASAQGVze_4-XEu_ZipwWHKGEaQrG95wf0MxZsC6EKqis5Q6Ywei7d62JWfrTYbxSF8X6X8a6TiGKR8p3EyNlU2ymFsZ2qIj-QaewnVuHphrvq86bKiEW0Z9E5bDrZzCYg6cheuqNIxHJbm1OaMicIPipLERLb91WpqXx82zXCpAizeMKhbVhoEpsi9xq1Fku-lhXuJyKN-L25D_zblMLnwqJw.HMgS9dhmpgd_h3mD1Yi_96QhPgBkqMLPvvdO3Y9zHEI&dib_tag=se&keywords=guitar&qid=1708443912&sprefix=guitar%2Caps%2C311&sr=8-18',\n",
       " 'https://www.amazon.in/Rosewood-Fretboard-Acoustic-Strings-K-Retail/dp/B07KLG8C4P/ref=sr_1_19?crid=1JO4JYZTPGAP7&dib=eyJ2IjoiMSJ9.crxhhcuVe8Gag3-0mnCXJiOSSKJki5hOYLJU7nup4DWqM8VWO2bZ9Q4-cyVWhDYcrh7i6wvREudXk_1fOmASAQGVze_4-XEu_ZipwWHKGEaQrG95wf0MxZsC6EKqis5Q6Ywei7d62JWfrTYbxSF8X6X8a6TiGKR8p3EyNlU2ymFsZ2qIj-QaewnVuHphrvq86bKiEW0Z9E5bDrZzCYg6cheuqNIxHJbm1OaMicIPipLERLb91WpqXx82zXCpAizeMKhbVhoEpsi9xq1Fku-lhXuJyKN-L25D_zblMLnwqJw.HMgS9dhmpgd_h3mD1Yi_96QhPgBkqMLPvvdO3Y9zHEI&dib_tag=se&keywords=guitar&qid=1708443912&sprefix=guitar%2Caps%2C311&sr=8-19',\n",
       " 'https://www.amazon.in/Yamaha-Acoustic-Tobacco-Sunburst-Bajaao/dp/B09PBDGD82/ref=sr_1_20?crid=1JO4JYZTPGAP7&dib=eyJ2IjoiMSJ9.crxhhcuVe8Gag3-0mnCXJiOSSKJki5hOYLJU7nup4DWqM8VWO2bZ9Q4-cyVWhDYcrh7i6wvREudXk_1fOmASAQGVze_4-XEu_ZipwWHKGEaQrG95wf0MxZsC6EKqis5Q6Ywei7d62JWfrTYbxSF8X6X8a6TiGKR8p3EyNlU2ymFsZ2qIj-QaewnVuHphrvq86bKiEW0Z9E5bDrZzCYg6cheuqNIxHJbm1OaMicIPipLERLb91WpqXx82zXCpAizeMKhbVhoEpsi9xq1Fku-lhXuJyKN-L25D_zblMLnwqJw.HMgS9dhmpgd_h3mD1Yi_96QhPgBkqMLPvvdO3Y9zHEI&dib_tag=se&keywords=guitar&qid=1708443912&sprefix=guitar%2Caps%2C311&sr=8-20',\n",
       " 'https://www.amazon.in/sspa/click?ie=UTF8&spc=MTo0NDM3NjcwMDEwNzYwMDUwOjE3MDg0NDM5MTI6c3BfbXRmOjMwMDEwNTMwMzczMTEzMjo6MDo6&url=%2FPerlman-Fretboard-Fingerboard-Stickers-Beginner%2Fdp%2FB096ZDSWJ4%2Fref%3Dsr_1_21_sspa%3Fcrid%3D1JO4JYZTPGAP7%26dib%3DeyJ2IjoiMSJ9.crxhhcuVe8Gag3-0mnCXJiOSSKJki5hOYLJU7nup4DWqM8VWO2bZ9Q4-cyVWhDYcrh7i6wvREudXk_1fOmASAQGVze_4-XEu_ZipwWHKGEaQrG95wf0MxZsC6EKqis5Q6Ywei7d62JWfrTYbxSF8X6X8a6TiGKR8p3EyNlU2ymFsZ2qIj-QaewnVuHphrvq86bKiEW0Z9E5bDrZzCYg6cheuqNIxHJbm1OaMicIPipLERLb91WpqXx82zXCpAizeMKhbVhoEpsi9xq1Fku-lhXuJyKN-L25D_zblMLnwqJw.HMgS9dhmpgd_h3mD1Yi_96QhPgBkqMLPvvdO3Y9zHEI%26dib_tag%3Dse%26keywords%3Dguitar%26qid%3D1708443912%26sprefix%3Dguitar%252Caps%252C311%26sr%3D8-21-spons%26sp_csd%3Dd2lkZ2V0TmFtZT1zcF9tdGY%26psc%3D1',\n",
       " 'https://www.amazon.in/sspa/click?ie=UTF8&spc=MTo0NDM3NjcwMDEwNzYwMDUwOjE3MDg0NDM5MTI6c3BfbXRmOjMwMDExODE5OTcxOTczMjo6MDo6&url=%2FMOCKING-BIRD-Beginners-Instruments-Accessories%2Fdp%2FB0CNGJP58D%2Fref%3Dsr_1_22_sspa%3Fcrid%3D1JO4JYZTPGAP7%26dib%3DeyJ2IjoiMSJ9.crxhhcuVe8Gag3-0mnCXJiOSSKJki5hOYLJU7nup4DWqM8VWO2bZ9Q4-cyVWhDYcrh7i6wvREudXk_1fOmASAQGVze_4-XEu_ZipwWHKGEaQrG95wf0MxZsC6EKqis5Q6Ywei7d62JWfrTYbxSF8X6X8a6TiGKR8p3EyNlU2ymFsZ2qIj-QaewnVuHphrvq86bKiEW0Z9E5bDrZzCYg6cheuqNIxHJbm1OaMicIPipLERLb91WpqXx82zXCpAizeMKhbVhoEpsi9xq1Fku-lhXuJyKN-L25D_zblMLnwqJw.HMgS9dhmpgd_h3mD1Yi_96QhPgBkqMLPvvdO3Y9zHEI%26dib_tag%3Dse%26keywords%3Dguitar%26qid%3D1708443912%26sprefix%3Dguitar%252Caps%252C311%26sr%3D8-22-spons%26sp_csd%3Dd2lkZ2V0TmFtZT1zcF9tdGY%26psc%3D1',\n",
       " 'https://www.amazon.in/sspa/click?ie=UTF8&spc=MTo0NDM3NjcwMDEwNzYwMDUwOjE3MDg0NDM5MTI6c3BfbXRmOjMwMDEzMTIzODIwMDIzMjo6MDo6&url=%2FGuitar-Fret-Stainless-Steel-Delicate%2Fdp%2FB09TTFKQFS%2Fref%3Dsr_1_23_sspa%3Fcrid%3D1JO4JYZTPGAP7%26dib%3DeyJ2IjoiMSJ9.crxhhcuVe8Gag3-0mnCXJiOSSKJki5hOYLJU7nup4DWqM8VWO2bZ9Q4-cyVWhDYcrh7i6wvREudXk_1fOmASAQGVze_4-XEu_ZipwWHKGEaQrG95wf0MxZsC6EKqis5Q6Ywei7d62JWfrTYbxSF8X6X8a6TiGKR8p3EyNlU2ymFsZ2qIj-QaewnVuHphrvq86bKiEW0Z9E5bDrZzCYg6cheuqNIxHJbm1OaMicIPipLERLb91WpqXx82zXCpAizeMKhbVhoEpsi9xq1Fku-lhXuJyKN-L25D_zblMLnwqJw.HMgS9dhmpgd_h3mD1Yi_96QhPgBkqMLPvvdO3Y9zHEI%26dib_tag%3Dse%26keywords%3Dguitar%26qid%3D1708443912%26sprefix%3Dguitar%252Caps%252C311%26sr%3D8-23-spons%26sp_csd%3Dd2lkZ2V0TmFtZT1zcF9tdGY%26psc%3D1',\n",
       " 'https://www.amazon.in/sspa/click?ie=UTF8&spc=MTo0NDM3NjcwMDEwNzYwMDUwOjE3MDg0NDM5MTI6c3BfbXRmOjIwMDkyNjI0MDIxNTk4OjowOjo&url=%2FDreadnought-Acoustic-Gig-Bag-Strings-Polishing%2Fdp%2FB0BJJRJVHY%2Fref%3Dsr_1_24_sspa%3Fcrid%3D1JO4JYZTPGAP7%26dib%3DeyJ2IjoiMSJ9.crxhhcuVe8Gag3-0mnCXJiOSSKJki5hOYLJU7nup4DWqM8VWO2bZ9Q4-cyVWhDYcrh7i6wvREudXk_1fOmASAQGVze_4-XEu_ZipwWHKGEaQrG95wf0MxZsC6EKqis5Q6Ywei7d62JWfrTYbxSF8X6X8a6TiGKR8p3EyNlU2ymFsZ2qIj-QaewnVuHphrvq86bKiEW0Z9E5bDrZzCYg6cheuqNIxHJbm1OaMicIPipLERLb91WpqXx82zXCpAizeMKhbVhoEpsi9xq1Fku-lhXuJyKN-L25D_zblMLnwqJw.HMgS9dhmpgd_h3mD1Yi_96QhPgBkqMLPvvdO3Y9zHEI%26dib_tag%3Dse%26keywords%3Dguitar%26qid%3D1708443912%26sprefix%3Dguitar%252Caps%252C311%26sr%3D8-24-spons%26sp_csd%3Dd2lkZ2V0TmFtZT1zcF9tdGY%26psc%3D1',\n",
       " 'https://www.amazon.in/Ju%C3%A2rez-JRZ38C-WH-Strings-Acoustic/dp/B072MFK4L6/ref=sr_1_25?crid=1JO4JYZTPGAP7&dib=eyJ2IjoiMSJ9.crxhhcuVe8Gag3-0mnCXJiOSSKJki5hOYLJU7nup4DWqM8VWO2bZ9Q4-cyVWhDYcrh7i6wvREudXk_1fOmASAQGVze_4-XEu_ZipwWHKGEaQrG95wf0MxZsC6EKqis5Q6Ywei7d62JWfrTYbxSF8X6X8a6TiGKR8p3EyNlU2ymFsZ2qIj-QaewnVuHphrvq86bKiEW0Z9E5bDrZzCYg6cheuqNIxHJbm1OaMicIPipLERLb91WpqXx82zXCpAizeMKhbVhoEpsi9xq1Fku-lhXuJyKN-L25D_zblMLnwqJw.HMgS9dhmpgd_h3mD1Yi_96QhPgBkqMLPvvdO3Y9zHEI&dib_tag=se&keywords=guitar&qid=1708443912&sprefix=guitar%2Caps%2C311&sr=8-25',\n",
       " 'https://www.amazon.in/JUAREZ-JRZ38C-BKNA/dp/B0BCQNVPRB/ref=sr_1_26?crid=1JO4JYZTPGAP7&dib=eyJ2IjoiMSJ9.crxhhcuVe8Gag3-0mnCXJiOSSKJki5hOYLJU7nup4DWqM8VWO2bZ9Q4-cyVWhDYcrh7i6wvREudXk_1fOmASAQGVze_4-XEu_ZipwWHKGEaQrG95wf0MxZsC6EKqis5Q6Ywei7d62JWfrTYbxSF8X6X8a6TiGKR8p3EyNlU2ymFsZ2qIj-QaewnVuHphrvq86bKiEW0Z9E5bDrZzCYg6cheuqNIxHJbm1OaMicIPipLERLb91WpqXx82zXCpAizeMKhbVhoEpsi9xq1Fku-lhXuJyKN-L25D_zblMLnwqJw.HMgS9dhmpgd_h3mD1Yi_96QhPgBkqMLPvvdO3Y9zHEI&dib_tag=se&keywords=guitar&qid=1708443912&sprefix=guitar%2Caps%2C311&sr=8-26',\n",
       " 'https://www.amazon.in/Kadence-Frontier-Acoustic-Guitar-Strings/dp/B078GTJP5Y/ref=sr_1_27?crid=1JO4JYZTPGAP7&dib=eyJ2IjoiMSJ9.crxhhcuVe8Gag3-0mnCXJiOSSKJki5hOYLJU7nup4DWqM8VWO2bZ9Q4-cyVWhDYcrh7i6wvREudXk_1fOmASAQGVze_4-XEu_ZipwWHKGEaQrG95wf0MxZsC6EKqis5Q6Ywei7d62JWfrTYbxSF8X6X8a6TiGKR8p3EyNlU2ymFsZ2qIj-QaewnVuHphrvq86bKiEW0Z9E5bDrZzCYg6cheuqNIxHJbm1OaMicIPipLERLb91WpqXx82zXCpAizeMKhbVhoEpsi9xq1Fku-lhXuJyKN-L25D_zblMLnwqJw.HMgS9dhmpgd_h3mD1Yi_96QhPgBkqMLPvvdO3Y9zHEI&dib_tag=se&keywords=guitar&qid=1708443912&sprefix=guitar%2Caps%2C311&sr=8-27',\n",
       " 'https://www.amazon.in/Henrix-Cutaway-Acoustic-Guitar-Action/dp/B097NCQFFM/ref=sr_1_28?crid=1JO4JYZTPGAP7&dib=eyJ2IjoiMSJ9.crxhhcuVe8Gag3-0mnCXJiOSSKJki5hOYLJU7nup4DWqM8VWO2bZ9Q4-cyVWhDYcrh7i6wvREudXk_1fOmASAQGVze_4-XEu_ZipwWHKGEaQrG95wf0MxZsC6EKqis5Q6Ywei7d62JWfrTYbxSF8X6X8a6TiGKR8p3EyNlU2ymFsZ2qIj-QaewnVuHphrvq86bKiEW0Z9E5bDrZzCYg6cheuqNIxHJbm1OaMicIPipLERLb91WpqXx82zXCpAizeMKhbVhoEpsi9xq1Fku-lhXuJyKN-L25D_zblMLnwqJw.HMgS9dhmpgd_h3mD1Yi_96QhPgBkqMLPvvdO3Y9zHEI&dib_tag=se&keywords=guitar&qid=1708443912&sprefix=guitar%2Caps%2C311&sr=8-28',\n",
       " 'https://www.amazon.in/JUAREZ-JRZ38C-TBLSNA/dp/B0BCQKQ6CS/ref=sr_1_29?crid=1JO4JYZTPGAP7&dib=eyJ2IjoiMSJ9.crxhhcuVe8Gag3-0mnCXJiOSSKJki5hOYLJU7nup4DWqM8VWO2bZ9Q4-cyVWhDYcrh7i6wvREudXk_1fOmASAQGVze_4-XEu_ZipwWHKGEaQrG95wf0MxZsC6EKqis5Q6Ywei7d62JWfrTYbxSF8X6X8a6TiGKR8p3EyNlU2ymFsZ2qIj-QaewnVuHphrvq86bKiEW0Z9E5bDrZzCYg6cheuqNIxHJbm1OaMicIPipLERLb91WpqXx82zXCpAizeMKhbVhoEpsi9xq1Fku-lhXuJyKN-L25D_zblMLnwqJw.HMgS9dhmpgd_h3mD1Yi_96QhPgBkqMLPvvdO3Y9zHEI&dib_tag=se&keywords=guitar&qid=1708443912&sprefix=guitar%2Caps%2C311&sr=8-29',\n",
       " 'https://www.amazon.in/JUAREZ-Arpeggio-Guitar-JRA41SP-RD-K-red/dp/B08MW8CWG8/ref=sr_1_30?crid=1JO4JYZTPGAP7&dib=eyJ2IjoiMSJ9.crxhhcuVe8Gag3-0mnCXJiOSSKJki5hOYLJU7nup4DWqM8VWO2bZ9Q4-cyVWhDYcrh7i6wvREudXk_1fOmASAQGVze_4-XEu_ZipwWHKGEaQrG95wf0MxZsC6EKqis5Q6Ywei7d62JWfrTYbxSF8X6X8a6TiGKR8p3EyNlU2ymFsZ2qIj-QaewnVuHphrvq86bKiEW0Z9E5bDrZzCYg6cheuqNIxHJbm1OaMicIPipLERLb91WpqXx82zXCpAizeMKhbVhoEpsi9xq1Fku-lhXuJyKN-L25D_zblMLnwqJw.HMgS9dhmpgd_h3mD1Yi_96QhPgBkqMLPvvdO3Y9zHEI&dib_tag=se&keywords=guitar&qid=1708443912&sprefix=guitar%2Caps%2C311&sr=8-30',\n",
       " 'https://www.amazon.in/Strings-Straps-String-winder-Polishing/dp/B07RV9FJ2Z/ref=sr_1_31?crid=1JO4JYZTPGAP7&dib=eyJ2IjoiMSJ9.crxhhcuVe8Gag3-0mnCXJiOSSKJki5hOYLJU7nup4DWqM8VWO2bZ9Q4-cyVWhDYcrh7i6wvREudXk_1fOmASAQGVze_4-XEu_ZipwWHKGEaQrG95wf0MxZsC6EKqis5Q6Ywei7d62JWfrTYbxSF8X6X8a6TiGKR8p3EyNlU2ymFsZ2qIj-QaewnVuHphrvq86bKiEW0Z9E5bDrZzCYg6cheuqNIxHJbm1OaMicIPipLERLb91WpqXx82zXCpAizeMKhbVhoEpsi9xq1Fku-lhXuJyKN-L25D_zblMLnwqJw.HMgS9dhmpgd_h3mD1Yi_96QhPgBkqMLPvvdO3Y9zHEI&dib_tag=se&keywords=guitar&qid=1708443912&sprefix=guitar%2Caps%2C311&sr=8-31',\n",
       " 'https://www.amazon.in/MOCKING-BIRD-Beginners-Instruments-Accessories/dp/B0CNGJP58D/ref=sr_1_32?crid=1JO4JYZTPGAP7&dib=eyJ2IjoiMSJ9.crxhhcuVe8Gag3-0mnCXJiOSSKJki5hOYLJU7nup4DWqM8VWO2bZ9Q4-cyVWhDYcrh7i6wvREudXk_1fOmASAQGVze_4-XEu_ZipwWHKGEaQrG95wf0MxZsC6EKqis5Q6Ywei7d62JWfrTYbxSF8X6X8a6TiGKR8p3EyNlU2ymFsZ2qIj-QaewnVuHphrvq86bKiEW0Z9E5bDrZzCYg6cheuqNIxHJbm1OaMicIPipLERLb91WpqXx82zXCpAizeMKhbVhoEpsi9xq1Fku-lhXuJyKN-L25D_zblMLnwqJw.HMgS9dhmpgd_h3mD1Yi_96QhPgBkqMLPvvdO3Y9zHEI&dib_tag=se&keywords=guitar&qid=1708443912&sprefix=guitar%2Caps%2C311&sr=8-32',\n",
       " 'https://www.amazon.in/Kadence-Slowhand-Mahogany-Acoustic-KSH03-12EQ/dp/B0CGDDPVKK/ref=sr_1_33?crid=1JO4JYZTPGAP7&dib=eyJ2IjoiMSJ9.crxhhcuVe8Gag3-0mnCXJiOSSKJki5hOYLJU7nup4DWqM8VWO2bZ9Q4-cyVWhDYcrh7i6wvREudXk_1fOmASAQGVze_4-XEu_ZipwWHKGEaQrG95wf0MxZsC6EKqis5Q6Ywei7d62JWfrTYbxSF8X6X8a6TiGKR8p3EyNlU2ymFsZ2qIj-QaewnVuHphrvq86bKiEW0Z9E5bDrZzCYg6cheuqNIxHJbm1OaMicIPipLERLb91WpqXx82zXCpAizeMKhbVhoEpsi9xq1Fku-lhXuJyKN-L25D_zblMLnwqJw.HMgS9dhmpgd_h3mD1Yi_96QhPgBkqMLPvvdO3Y9zHEI&dib_tag=se&keywords=guitar&qid=1708443912&sprefix=guitar%2Caps%2C311&sr=8-33',\n",
       " 'https://www.amazon.in/FS80C-Acoustic-Cutaway-Concert-Plectrums/dp/B08XVV1WH7/ref=sr_1_34?crid=1JO4JYZTPGAP7&dib=eyJ2IjoiMSJ9.crxhhcuVe8Gag3-0mnCXJiOSSKJki5hOYLJU7nup4DWqM8VWO2bZ9Q4-cyVWhDYcrh7i6wvREudXk_1fOmASAQGVze_4-XEu_ZipwWHKGEaQrG95wf0MxZsC6EKqis5Q6Ywei7d62JWfrTYbxSF8X6X8a6TiGKR8p3EyNlU2ymFsZ2qIj-QaewnVuHphrvq86bKiEW0Z9E5bDrZzCYg6cheuqNIxHJbm1OaMicIPipLERLb91WpqXx82zXCpAizeMKhbVhoEpsi9xq1Fku-lhXuJyKN-L25D_zblMLnwqJw.HMgS9dhmpgd_h3mD1Yi_96QhPgBkqMLPvvdO3Y9zHEI&dib_tag=se&keywords=guitar&qid=1708443912&sprefix=guitar%2Caps%2C311&sr=8-34',\n",
       " 'https://www.amazon.in/Acoustic-Humidity-resistant-resonance-Sunburst/dp/B09RQYYQBB/ref=sr_1_35?crid=1JO4JYZTPGAP7&dib=eyJ2IjoiMSJ9.crxhhcuVe8Gag3-0mnCXJiOSSKJki5hOYLJU7nup4DWqM8VWO2bZ9Q4-cyVWhDYcrh7i6wvREudXk_1fOmASAQGVze_4-XEu_ZipwWHKGEaQrG95wf0MxZsC6EKqis5Q6Ywei7d62JWfrTYbxSF8X6X8a6TiGKR8p3EyNlU2ymFsZ2qIj-QaewnVuHphrvq86bKiEW0Z9E5bDrZzCYg6cheuqNIxHJbm1OaMicIPipLERLb91WpqXx82zXCpAizeMKhbVhoEpsi9xq1Fku-lhXuJyKN-L25D_zblMLnwqJw.HMgS9dhmpgd_h3mD1Yi_96QhPgBkqMLPvvdO3Y9zHEI&dib_tag=se&keywords=guitar&qid=1708443912&sprefix=guitar%2Caps%2C311&sr=8-35',\n",
       " 'https://www.amazon.in/Armonia-38inch-Acoustic-Strings-Natural/dp/B0CJ9KTSGW/ref=sr_1_36?crid=1JO4JYZTPGAP7&dib=eyJ2IjoiMSJ9.crxhhcuVe8Gag3-0mnCXJiOSSKJki5hOYLJU7nup4DWqM8VWO2bZ9Q4-cyVWhDYcrh7i6wvREudXk_1fOmASAQGVze_4-XEu_ZipwWHKGEaQrG95wf0MxZsC6EKqis5Q6Ywei7d62JWfrTYbxSF8X6X8a6TiGKR8p3EyNlU2ymFsZ2qIj-QaewnVuHphrvq86bKiEW0Z9E5bDrZzCYg6cheuqNIxHJbm1OaMicIPipLERLb91WpqXx82zXCpAizeMKhbVhoEpsi9xq1Fku-lhXuJyKN-L25D_zblMLnwqJw.HMgS9dhmpgd_h3mD1Yi_96QhPgBkqMLPvvdO3Y9zHEI&dib_tag=se&keywords=guitar&qid=1708443912&sprefix=guitar%2Caps%2C311&sr=8-36',\n",
       " 'https://www.amazon.in/Blueberry-VIP-380-38Inch-Acoustic-Guitar/dp/B0BVR96DWH/ref=sr_1_37?crid=1JO4JYZTPGAP7&dib=eyJ2IjoiMSJ9.crxhhcuVe8Gag3-0mnCXJiOSSKJki5hOYLJU7nup4DWqM8VWO2bZ9Q4-cyVWhDYcrh7i6wvREudXk_1fOmASAQGVze_4-XEu_ZipwWHKGEaQrG95wf0MxZsC6EKqis5Q6Ywei7d62JWfrTYbxSF8X6X8a6TiGKR8p3EyNlU2ymFsZ2qIj-QaewnVuHphrvq86bKiEW0Z9E5bDrZzCYg6cheuqNIxHJbm1OaMicIPipLERLb91WpqXx82zXCpAizeMKhbVhoEpsi9xq1Fku-lhXuJyKN-L25D_zblMLnwqJw.HMgS9dhmpgd_h3mD1Yi_96QhPgBkqMLPvvdO3Y9zHEI&dib_tag=se&keywords=guitar&qid=1708443912&sprefix=guitar%2Caps%2C311&sr=8-37',\n",
       " 'https://www.amazon.in/Blueberry-38C-Acoustic-Guitar-Strings/dp/B08KLMV4XX/ref=sr_1_38?crid=1JO4JYZTPGAP7&dib=eyJ2IjoiMSJ9.crxhhcuVe8Gag3-0mnCXJiOSSKJki5hOYLJU7nup4DWqM8VWO2bZ9Q4-cyVWhDYcrh7i6wvREudXk_1fOmASAQGVze_4-XEu_ZipwWHKGEaQrG95wf0MxZsC6EKqis5Q6Ywei7d62JWfrTYbxSF8X6X8a6TiGKR8p3EyNlU2ymFsZ2qIj-QaewnVuHphrvq86bKiEW0Z9E5bDrZzCYg6cheuqNIxHJbm1OaMicIPipLERLb91WpqXx82zXCpAizeMKhbVhoEpsi9xq1Fku-lhXuJyKN-L25D_zblMLnwqJw.HMgS9dhmpgd_h3mD1Yi_96QhPgBkqMLPvvdO3Y9zHEI&dib_tag=se&keywords=guitar&qid=1708443912&sprefix=guitar%2Caps%2C311&sr=8-38',\n",
       " 'https://www.amazon.in/Perlman-Fretboard-Fingerboard-Stickers-Beginner/dp/B096ZDSWJ4/ref=sr_1_39?crid=1JO4JYZTPGAP7&dib=eyJ2IjoiMSJ9.crxhhcuVe8Gag3-0mnCXJiOSSKJki5hOYLJU7nup4DWqM8VWO2bZ9Q4-cyVWhDYcrh7i6wvREudXk_1fOmASAQGVze_4-XEu_ZipwWHKGEaQrG95wf0MxZsC6EKqis5Q6Ywei7d62JWfrTYbxSF8X6X8a6TiGKR8p3EyNlU2ymFsZ2qIj-QaewnVuHphrvq86bKiEW0Z9E5bDrZzCYg6cheuqNIxHJbm1OaMicIPipLERLb91WpqXx82zXCpAizeMKhbVhoEpsi9xq1Fku-lhXuJyKN-L25D_zblMLnwqJw.HMgS9dhmpgd_h3mD1Yi_96QhPgBkqMLPvvdO3Y9zHEI&dib_tag=se&keywords=guitar&qid=1708443912&sprefix=guitar%2Caps%2C311&sr=8-39',\n",
       " 'https://www.amazon.in/Blueberry-B-D38-Acoustic-Inbuilt-Strings/dp/B07PGV8VCB/ref=sr_1_40?crid=1JO4JYZTPGAP7&dib=eyJ2IjoiMSJ9.crxhhcuVe8Gag3-0mnCXJiOSSKJki5hOYLJU7nup4DWqM8VWO2bZ9Q4-cyVWhDYcrh7i6wvREudXk_1fOmASAQGVze_4-XEu_ZipwWHKGEaQrG95wf0MxZsC6EKqis5Q6Ywei7d62JWfrTYbxSF8X6X8a6TiGKR8p3EyNlU2ymFsZ2qIj-QaewnVuHphrvq86bKiEW0Z9E5bDrZzCYg6cheuqNIxHJbm1OaMicIPipLERLb91WpqXx82zXCpAizeMKhbVhoEpsi9xq1Fku-lhXuJyKN-L25D_zblMLnwqJw.HMgS9dhmpgd_h3mD1Yi_96QhPgBkqMLPvvdO3Y9zHEI&dib_tag=se&keywords=guitar&qid=1708443912&sprefix=guitar%2Caps%2C311&sr=8-40',\n",
       " 'https://www.amazon.in/Fender-String-Cutaway-Acoustic-Guitar/dp/B07YX5W8MV/ref=sr_1_41?crid=1JO4JYZTPGAP7&dib=eyJ2IjoiMSJ9.crxhhcuVe8Gag3-0mnCXJiOSSKJki5hOYLJU7nup4DWqM8VWO2bZ9Q4-cyVWhDYcrh7i6wvREudXk_1fOmASAQGVze_4-XEu_ZipwWHKGEaQrG95wf0MxZsC6EKqis5Q6Ywei7d62JWfrTYbxSF8X6X8a6TiGKR8p3EyNlU2ymFsZ2qIj-QaewnVuHphrvq86bKiEW0Z9E5bDrZzCYg6cheuqNIxHJbm1OaMicIPipLERLb91WpqXx82zXCpAizeMKhbVhoEpsi9xq1Fku-lhXuJyKN-L25D_zblMLnwqJw.HMgS9dhmpgd_h3mD1Yi_96QhPgBkqMLPvvdO3Y9zHEI&dib_tag=se&keywords=guitar&qid=1708443912&sprefix=guitar%2Caps%2C311&sr=8-41',\n",
       " 'https://www.amazon.in/Medellin-Acoustic-Guitar-learning-Strings/dp/B0CCNSN9BV/ref=sr_1_42?crid=1JO4JYZTPGAP7&dib=eyJ2IjoiMSJ9.crxhhcuVe8Gag3-0mnCXJiOSSKJki5hOYLJU7nup4DWqM8VWO2bZ9Q4-cyVWhDYcrh7i6wvREudXk_1fOmASAQGVze_4-XEu_ZipwWHKGEaQrG95wf0MxZsC6EKqis5Q6Ywei7d62JWfrTYbxSF8X6X8a6TiGKR8p3EyNlU2ymFsZ2qIj-QaewnVuHphrvq86bKiEW0Z9E5bDrZzCYg6cheuqNIxHJbm1OaMicIPipLERLb91WpqXx82zXCpAizeMKhbVhoEpsi9xq1Fku-lhXuJyKN-L25D_zblMLnwqJw.HMgS9dhmpgd_h3mD1Yi_96QhPgBkqMLPvvdO3Y9zHEI&dib_tag=se&keywords=guitar&qid=1708443912&sprefix=guitar%2Caps%2C311&sr=8-42',\n",
       " 'https://www.amazon.in/Washburn-String-Acoustic-Electric-Guitar-BTS9VCECH-D/dp/B07TJXQ1TL/ref=sr_1_43?crid=1JO4JYZTPGAP7&dib=eyJ2IjoiMSJ9.crxhhcuVe8Gag3-0mnCXJiOSSKJki5hOYLJU7nup4DWqM8VWO2bZ9Q4-cyVWhDYcrh7i6wvREudXk_1fOmASAQGVze_4-XEu_ZipwWHKGEaQrG95wf0MxZsC6EKqis5Q6Ywei7d62JWfrTYbxSF8X6X8a6TiGKR8p3EyNlU2ymFsZ2qIj-QaewnVuHphrvq86bKiEW0Z9E5bDrZzCYg6cheuqNIxHJbm1OaMicIPipLERLb91WpqXx82zXCpAizeMKhbVhoEpsi9xq1Fku-lhXuJyKN-L25D_zblMLnwqJw.HMgS9dhmpgd_h3mD1Yi_96QhPgBkqMLPvvdO3Y9zHEI&dib_tag=se&keywords=guitar&qid=1708443912&sprefix=guitar%2Caps%2C311&sr=8-43',\n",
       " 'https://www.amazon.in/JUAREZ-JRZ38C-3TSNA/dp/B0BCQQRDF3/ref=sr_1_44?crid=1JO4JYZTPGAP7&dib=eyJ2IjoiMSJ9.crxhhcuVe8Gag3-0mnCXJiOSSKJki5hOYLJU7nup4DWqM8VWO2bZ9Q4-cyVWhDYcrh7i6wvREudXk_1fOmASAQGVze_4-XEu_ZipwWHKGEaQrG95wf0MxZsC6EKqis5Q6Ywei7d62JWfrTYbxSF8X6X8a6TiGKR8p3EyNlU2ymFsZ2qIj-QaewnVuHphrvq86bKiEW0Z9E5bDrZzCYg6cheuqNIxHJbm1OaMicIPipLERLb91WpqXx82zXCpAizeMKhbVhoEpsi9xq1Fku-lhXuJyKN-L25D_zblMLnwqJw.HMgS9dhmpgd_h3mD1Yi_96QhPgBkqMLPvvdO3Y9zHEI&dib_tag=se&keywords=guitar&qid=1708443912&sprefix=guitar%2Caps%2C311&sr=8-44',\n",
       " 'https://www.amazon.in/Intern-INT-38C-Sunburst-Acoustic-Guitar/dp/B07X1J4D3Z/ref=sr_1_45?crid=1JO4JYZTPGAP7&dib=eyJ2IjoiMSJ9.crxhhcuVe8Gag3-0mnCXJiOSSKJki5hOYLJU7nup4DWqM8VWO2bZ9Q4-cyVWhDYcrh7i6wvREudXk_1fOmASAQGVze_4-XEu_ZipwWHKGEaQrG95wf0MxZsC6EKqis5Q6Ywei7d62JWfrTYbxSF8X6X8a6TiGKR8p3EyNlU2ymFsZ2qIj-QaewnVuHphrvq86bKiEW0Z9E5bDrZzCYg6cheuqNIxHJbm1OaMicIPipLERLb91WpqXx82zXCpAizeMKhbVhoEpsi9xq1Fku-lhXuJyKN-L25D_zblMLnwqJw.HMgS9dhmpgd_h3mD1Yi_96QhPgBkqMLPvvdO3Y9zHEI&dib_tag=se&keywords=guitar&qid=1708443912&sprefix=guitar%2Caps%2C311&sr=8-45',\n",
       " 'https://www.amazon.in/JRZ38C-Strings-Acoustic-Cutaway-Mahogany/dp/B071JM8C6T/ref=sr_1_46?crid=1JO4JYZTPGAP7&dib=eyJ2IjoiMSJ9.crxhhcuVe8Gag3-0mnCXJiOSSKJki5hOYLJU7nup4DWqM8VWO2bZ9Q4-cyVWhDYcrh7i6wvREudXk_1fOmASAQGVze_4-XEu_ZipwWHKGEaQrG95wf0MxZsC6EKqis5Q6Ywei7d62JWfrTYbxSF8X6X8a6TiGKR8p3EyNlU2ymFsZ2qIj-QaewnVuHphrvq86bKiEW0Z9E5bDrZzCYg6cheuqNIxHJbm1OaMicIPipLERLb91WpqXx82zXCpAizeMKhbVhoEpsi9xq1Fku-lhXuJyKN-L25D_zblMLnwqJw.HMgS9dhmpgd_h3mD1Yi_96QhPgBkqMLPvvdO3Y9zHEI&dib_tag=se&keywords=guitar&qid=1708443912&sprefix=guitar%2Caps%2C311&sr=8-46',\n",
       " 'https://www.amazon.in/JUAREZ-Arpeggio-Acoustic-Rosewood-Fretboard/dp/B08LBHB547/ref=sr_1_47?crid=1JO4JYZTPGAP7&dib=eyJ2IjoiMSJ9.crxhhcuVe8Gag3-0mnCXJiOSSKJki5hOYLJU7nup4DWqM8VWO2bZ9Q4-cyVWhDYcrh7i6wvREudXk_1fOmASAQGVze_4-XEu_ZipwWHKGEaQrG95wf0MxZsC6EKqis5Q6Ywei7d62JWfrTYbxSF8X6X8a6TiGKR8p3EyNlU2ymFsZ2qIj-QaewnVuHphrvq86bKiEW0Z9E5bDrZzCYg6cheuqNIxHJbm1OaMicIPipLERLb91WpqXx82zXCpAizeMKhbVhoEpsi9xq1Fku-lhXuJyKN-L25D_zblMLnwqJw.HMgS9dhmpgd_h3mD1Yi_96QhPgBkqMLPvvdO3Y9zHEI&dib_tag=se&keywords=guitar&qid=1708443912&sprefix=guitar%2Caps%2C311&sr=8-47',\n",
       " 'https://www.amazon.in/Mitansh-Collection-Beginner-Musical-Disclaimer/dp/B0CQVP8MKX/ref=sr_1_48?crid=1JO4JYZTPGAP7&dib=eyJ2IjoiMSJ9.crxhhcuVe8Gag3-0mnCXJiOSSKJki5hOYLJU7nup4DWqM8VWO2bZ9Q4-cyVWhDYcrh7i6wvREudXk_1fOmASAQGVze_4-XEu_ZipwWHKGEaQrG95wf0MxZsC6EKqis5Q6Ywei7d62JWfrTYbxSF8X6X8a6TiGKR8p3EyNlU2ymFsZ2qIj-QaewnVuHphrvq86bKiEW0Z9E5bDrZzCYg6cheuqNIxHJbm1OaMicIPipLERLb91WpqXx82zXCpAizeMKhbVhoEpsi9xq1Fku-lhXuJyKN-L25D_zblMLnwqJw.HMgS9dhmpgd_h3mD1Yi_96QhPgBkqMLPvvdO3Y9zHEI&dib_tag=se&keywords=guitar&qid=1708443912&sprefix=guitar%2Caps%2C311&sr=8-48',\n",
       " 'https://www.amazon.in/PS-Signature-Acoustic-Natural-Strings/dp/B0CK4XXQ7J/ref=sr_1_49?crid=1JO4JYZTPGAP7&dib=eyJ2IjoiMSJ9.crxhhcuVe8Gag3-0mnCXJiOSSKJki5hOYLJU7nup4DWqM8VWO2bZ9Q4-cyVWhDYcrh7i6wvREudXk_1fOmASAQGVze_4-XEu_ZipwWHKGEaQrG95wf0MxZsC6EKqis5Q6Ywei7d62JWfrTYbxSF8X6X8a6TiGKR8p3EyNlU2ymFsZ2qIj-QaewnVuHphrvq86bKiEW0Z9E5bDrZzCYg6cheuqNIxHJbm1OaMicIPipLERLb91WpqXx82zXCpAizeMKhbVhoEpsi9xq1Fku-lhXuJyKN-L25D_zblMLnwqJw.HMgS9dhmpgd_h3mD1Yi_96QhPgBkqMLPvvdO3Y9zHEI&dib_tag=se&keywords=guitar&qid=1708443912&sprefix=guitar%2Caps%2C311&sr=8-49',\n",
       " 'https://www.amazon.in/Acoustic-Beginner-Acustica-Guitarra-Packaging/dp/B09JNVCKFR/ref=sr_1_50?crid=1JO4JYZTPGAP7&dib=eyJ2IjoiMSJ9.crxhhcuVe8Gag3-0mnCXJiOSSKJki5hOYLJU7nup4DWqM8VWO2bZ9Q4-cyVWhDYcrh7i6wvREudXk_1fOmASAQGVze_4-XEu_ZipwWHKGEaQrG95wf0MxZsC6EKqis5Q6Ywei7d62JWfrTYbxSF8X6X8a6TiGKR8p3EyNlU2ymFsZ2qIj-QaewnVuHphrvq86bKiEW0Z9E5bDrZzCYg6cheuqNIxHJbm1OaMicIPipLERLb91WpqXx82zXCpAizeMKhbVhoEpsi9xq1Fku-lhXuJyKN-L25D_zblMLnwqJw.HMgS9dhmpgd_h3mD1Yi_96QhPgBkqMLPvvdO3Y9zHEI&dib_tag=se&keywords=guitar&qid=1708443912&sprefix=guitar%2Caps%2C311&sr=8-50',\n",
       " 'https://www.amazon.in/Kadence-Frontier-Acoustic-Sunburst-Strings/dp/B07T5DMPZ3/ref=sr_1_51?crid=1JO4JYZTPGAP7&dib=eyJ2IjoiMSJ9.crxhhcuVe8Gag3-0mnCXJiOSSKJki5hOYLJU7nup4DWqM8VWO2bZ9Q4-cyVWhDYcrh7i6wvREudXk_1fOmASAQGVze_4-XEu_ZipwWHKGEaQrG95wf0MxZsC6EKqis5Q6Ywei7d62JWfrTYbxSF8X6X8a6TiGKR8p3EyNlU2ymFsZ2qIj-QaewnVuHphrvq86bKiEW0Z9E5bDrZzCYg6cheuqNIxHJbm1OaMicIPipLERLb91WpqXx82zXCpAizeMKhbVhoEpsi9xq1Fku-lhXuJyKN-L25D_zblMLnwqJw.HMgS9dhmpgd_h3mD1Yi_96QhPgBkqMLPvvdO3Y9zHEI&dib_tag=se&keywords=guitar&qid=1708443912&sprefix=guitar%2Caps%2C311&sr=8-51',\n",
       " 'https://www.amazon.in/PS-Signature-41inch-Acoustic-Strings/dp/B0CGXL3VKG/ref=sr_1_52?crid=1JO4JYZTPGAP7&dib=eyJ2IjoiMSJ9.crxhhcuVe8Gag3-0mnCXJiOSSKJki5hOYLJU7nup4DWqM8VWO2bZ9Q4-cyVWhDYcrh7i6wvREudXk_1fOmASAQGVze_4-XEu_ZipwWHKGEaQrG95wf0MxZsC6EKqis5Q6Ywei7d62JWfrTYbxSF8X6X8a6TiGKR8p3EyNlU2ymFsZ2qIj-QaewnVuHphrvq86bKiEW0Z9E5bDrZzCYg6cheuqNIxHJbm1OaMicIPipLERLb91WpqXx82zXCpAizeMKhbVhoEpsi9xq1Fku-lhXuJyKN-L25D_zblMLnwqJw.HMgS9dhmpgd_h3mD1Yi_96QhPgBkqMLPvvdO3Y9zHEI&dib_tag=se&keywords=guitar&qid=1708443912&sprefix=guitar%2Caps%2C311&sr=8-52',\n",
       " 'https://www.amazon.in/Fender-Dread-String-Acoustic-Guitar/dp/B07RL6VG3H/ref=sr_1_53?crid=1JO4JYZTPGAP7&dib=eyJ2IjoiMSJ9.crxhhcuVe8Gag3-0mnCXJiOSSKJki5hOYLJU7nup4DWqM8VWO2bZ9Q4-cyVWhDYcrh7i6wvREudXk_1fOmASAQGVze_4-XEu_ZipwWHKGEaQrG95wf0MxZsC6EKqis5Q6Ywei7d62JWfrTYbxSF8X6X8a6TiGKR8p3EyNlU2ymFsZ2qIj-QaewnVuHphrvq86bKiEW0Z9E5bDrZzCYg6cheuqNIxHJbm1OaMicIPipLERLb91WpqXx82zXCpAizeMKhbVhoEpsi9xq1Fku-lhXuJyKN-L25D_zblMLnwqJw.HMgS9dhmpgd_h3mD1Yi_96QhPgBkqMLPvvdO3Y9zHEI&dib_tag=se&keywords=guitar&qid=1708443912&sprefix=guitar%2Caps%2C311&sr=8-53',\n",
       " 'https://www.amazon.in/Kadence-Astro-Electric-Guitar-FRETS/dp/B0CNRS4KXB/ref=sr_1_54?crid=1JO4JYZTPGAP7&dib=eyJ2IjoiMSJ9.crxhhcuVe8Gag3-0mnCXJiOSSKJki5hOYLJU7nup4DWqM8VWO2bZ9Q4-cyVWhDYcrh7i6wvREudXk_1fOmASAQGVze_4-XEu_ZipwWHKGEaQrG95wf0MxZsC6EKqis5Q6Ywei7d62JWfrTYbxSF8X6X8a6TiGKR8p3EyNlU2ymFsZ2qIj-QaewnVuHphrvq86bKiEW0Z9E5bDrZzCYg6cheuqNIxHJbm1OaMicIPipLERLb91WpqXx82zXCpAizeMKhbVhoEpsi9xq1Fku-lhXuJyKN-L25D_zblMLnwqJw.HMgS9dhmpgd_h3mD1Yi_96QhPgBkqMLPvvdO3Y9zHEI&dib_tag=se&keywords=guitar&qid=1708443912&sprefix=guitar%2Caps%2C311&sr=8-54',\n",
       " 'https://www.amazon.in/Juarez-Acoustic-Cutaway-BK-Strings/dp/B076T3RHMG/ref=sr_1_55?crid=1JO4JYZTPGAP7&dib=eyJ2IjoiMSJ9.crxhhcuVe8Gag3-0mnCXJiOSSKJki5hOYLJU7nup4DWqM8VWO2bZ9Q4-cyVWhDYcrh7i6wvREudXk_1fOmASAQGVze_4-XEu_ZipwWHKGEaQrG95wf0MxZsC6EKqis5Q6Ywei7d62JWfrTYbxSF8X6X8a6TiGKR8p3EyNlU2ymFsZ2qIj-QaewnVuHphrvq86bKiEW0Z9E5bDrZzCYg6cheuqNIxHJbm1OaMicIPipLERLb91WpqXx82zXCpAizeMKhbVhoEpsi9xq1Fku-lhXuJyKN-L25D_zblMLnwqJw.HMgS9dhmpgd_h3mD1Yi_96QhPgBkqMLPvvdO3Y9zHEI&dib_tag=se&keywords=guitar&qid=1708443912&sprefix=guitar%2Caps%2C311&sr=8-55',\n",
       " 'https://www.amazon.in/Swami-Enterprise-4-String-Acoustic-Instrument/dp/B095LR581N/ref=sr_1_56?crid=1JO4JYZTPGAP7&dib=eyJ2IjoiMSJ9.crxhhcuVe8Gag3-0mnCXJiOSSKJki5hOYLJU7nup4DWqM8VWO2bZ9Q4-cyVWhDYcrh7i6wvREudXk_1fOmASAQGVze_4-XEu_ZipwWHKGEaQrG95wf0MxZsC6EKqis5Q6Ywei7d62JWfrTYbxSF8X6X8a6TiGKR8p3EyNlU2ymFsZ2qIj-QaewnVuHphrvq86bKiEW0Z9E5bDrZzCYg6cheuqNIxHJbm1OaMicIPipLERLb91WpqXx82zXCpAizeMKhbVhoEpsi9xq1Fku-lhXuJyKN-L25D_zblMLnwqJw.HMgS9dhmpgd_h3mD1Yi_96QhPgBkqMLPvvdO3Y9zHEI&dib_tag=se&keywords=guitar&qid=1708443912&sprefix=guitar%2Caps%2C311&sr=8-56',\n",
       " 'https://www.amazon.in/sspa/click?ie=UTF8&spc=MTo0NDM3NjcwMDEwNzYwMDUwOjE3MDg0NDM5MTI6c3BfYnRmOjMwMDEzMjcxNDU5OTgzMjo6MDo6&url=%2FGuitar-Tailpiece-Guitars-Bridge-Replacement%2Fdp%2FB0BWYSZW1Y%2Fref%3Dsr_1_57_sspa%3Fcrid%3D1JO4JYZTPGAP7%26dib%3DeyJ2IjoiMSJ9.crxhhcuVe8Gag3-0mnCXJiOSSKJki5hOYLJU7nup4DWqM8VWO2bZ9Q4-cyVWhDYcrh7i6wvREudXk_1fOmASAQGVze_4-XEu_ZipwWHKGEaQrG95wf0MxZsC6EKqis5Q6Ywei7d62JWfrTYbxSF8X6X8a6TiGKR8p3EyNlU2ymFsZ2qIj-QaewnVuHphrvq86bKiEW0Z9E5bDrZzCYg6cheuqNIxHJbm1OaMicIPipLERLb91WpqXx82zXCpAizeMKhbVhoEpsi9xq1Fku-lhXuJyKN-L25D_zblMLnwqJw.HMgS9dhmpgd_h3mD1Yi_96QhPgBkqMLPvvdO3Y9zHEI%26dib_tag%3Dse%26keywords%3Dguitar%26qid%3D1708443912%26sprefix%3Dguitar%252Caps%252C311%26sr%3D8-57-spons%26sp_csd%3Dd2lkZ2V0TmFtZT1zcF9idGY%26psc%3D1',\n",
       " 'https://www.amazon.in/sspa/click?ie=UTF8&spc=MTo0NDM3NjcwMDEwNzYwMDUwOjE3MDg0NDM5MTI6c3BfYnRmOjMwMDExODEzMTQ4MTYzMjo6MDo6&url=%2FAcoustic-Guitar-Cutaway-Strings-Strap%2Fdp%2FB08NTC4KG4%2Fref%3Dsr_1_58_sspa%3Fcrid%3D1JO4JYZTPGAP7%26dib%3DeyJ2IjoiMSJ9.crxhhcuVe8Gag3-0mnCXJiOSSKJki5hOYLJU7nup4DWqM8VWO2bZ9Q4-cyVWhDYcrh7i6wvREudXk_1fOmASAQGVze_4-XEu_ZipwWHKGEaQrG95wf0MxZsC6EKqis5Q6Ywei7d62JWfrTYbxSF8X6X8a6TiGKR8p3EyNlU2ymFsZ2qIj-QaewnVuHphrvq86bKiEW0Z9E5bDrZzCYg6cheuqNIxHJbm1OaMicIPipLERLb91WpqXx82zXCpAizeMKhbVhoEpsi9xq1Fku-lhXuJyKN-L25D_zblMLnwqJw.HMgS9dhmpgd_h3mD1Yi_96QhPgBkqMLPvvdO3Y9zHEI%26dib_tag%3Dse%26keywords%3Dguitar%26qid%3D1708443912%26sprefix%3Dguitar%252Caps%252C311%26sr%3D8-58-spons%26sp_csd%3Dd2lkZ2V0TmFtZT1zcF9idGY%26psc%3D1',\n",
       " 'https://www.amazon.in/sspa/click?ie=UTF8&spc=MTo0NDM3NjcwMDEwNzYwMDUwOjE3MDg0NDM5MTI6c3BfYnRmOjMwMDEzNDY2MDUzMTMzMjo6MDo6&url=%2FSamara-SA39CE-Cutaway-Electro-Acoustic-Guitar%2Fdp%2FB09DT19ZDK%2Fref%3Dsr_1_59_sspa%3Fcrid%3D1JO4JYZTPGAP7%26dib%3DeyJ2IjoiMSJ9.crxhhcuVe8Gag3-0mnCXJiOSSKJki5hOYLJU7nup4DWqM8VWO2bZ9Q4-cyVWhDYcrh7i6wvREudXk_1fOmASAQGVze_4-XEu_ZipwWHKGEaQrG95wf0MxZsC6EKqis5Q6Ywei7d62JWfrTYbxSF8X6X8a6TiGKR8p3EyNlU2ymFsZ2qIj-QaewnVuHphrvq86bKiEW0Z9E5bDrZzCYg6cheuqNIxHJbm1OaMicIPipLERLb91WpqXx82zXCpAizeMKhbVhoEpsi9xq1Fku-lhXuJyKN-L25D_zblMLnwqJw.HMgS9dhmpgd_h3mD1Yi_96QhPgBkqMLPvvdO3Y9zHEI%26dib_tag%3Dse%26keywords%3Dguitar%26qid%3D1708443912%26sprefix%3Dguitar%252Caps%252C311%26sr%3D8-59-spons%26sp_csd%3Dd2lkZ2V0TmFtZT1zcF9idGY%26psc%3D1',\n",
       " 'https://www.amazon.in/sspa/click?ie=UTF8&spc=MTo0NDM3NjcwMDEwNzYwMDUwOjE3MDg0NDM5MTI6c3BfYnRmOjMwMDExMzg5MzQwMjEzMjo6MDo6&url=%2FDEVICE-URBAN-INFOTECH-Beginners-Guitarists%2Fdp%2FB0CR7DPXQN%2Fref%3Dsr_1_60_sspa%3Fcrid%3D1JO4JYZTPGAP7%26dib%3DeyJ2IjoiMSJ9.crxhhcuVe8Gag3-0mnCXJiOSSKJki5hOYLJU7nup4DWqM8VWO2bZ9Q4-cyVWhDYcrh7i6wvREudXk_1fOmASAQGVze_4-XEu_ZipwWHKGEaQrG95wf0MxZsC6EKqis5Q6Ywei7d62JWfrTYbxSF8X6X8a6TiGKR8p3EyNlU2ymFsZ2qIj-QaewnVuHphrvq86bKiEW0Z9E5bDrZzCYg6cheuqNIxHJbm1OaMicIPipLERLb91WpqXx82zXCpAizeMKhbVhoEpsi9xq1Fku-lhXuJyKN-L25D_zblMLnwqJw.HMgS9dhmpgd_h3mD1Yi_96QhPgBkqMLPvvdO3Y9zHEI%26dib_tag%3Dse%26keywords%3Dguitar%26qid%3D1708443912%26sprefix%3Dguitar%252Caps%252C311%26sr%3D8-60-spons%26sp_csd%3Dd2lkZ2V0TmFtZT1zcF9idGY%26psc%3D1',\n",
       " 'https://aax-eu.amazon.in/x/c/RImFHO5bRbBT_e3WfvZ1zEEAAAGNxzFKkQMAAAH2AQBvbm9fdHhuX2JpZDIgICBvbm9fdHhuX2ltcDEgICAK6s_e/https://www.amazon.in/Mackie-Studio-Bundle-Series/dp/B083NGKYJD/ref=sxbs_sbv_search_btf?content-id=amzn1.sym.7d6d801d-0b91-42f0-9ded-a1900c21a285%3Aamzn1.sym.7d6d801d-0b91-42f0-9ded-a1900c21a285&crid=1JO4JYZTPGAP7&cv_ct_cx=guitar&dib=eyJ2IjoiMSJ9.a34JFiLle_ZzPSm4UtLBiA.ZpacdWTU9HN0h5qYQlse4CqxUXeRWS0NZmpCLSiZFy4&dib_tag=se&keywords=guitar&pd_rd_i=B083NGKYJD&pd_rd_r=25b279ce-0a3f-4b36-af67-875a38b24e35&pd_rd_w=lICPA&pd_rd_wg=ySJAx&pf_rd_p=7d6d801d-0b91-42f0-9ded-a1900c21a285&pf_rd_r=N9DBF7YCYYPRRPZVZAD5&qid=1708443912&sbo=RZvfv%2F%2FHxDF%2BO5021pAnSA%3D%3D&sprefix=guitar%2Caps%2C311&sr=1-1-25dedf61-9bde-4412-952b-c956ef4fc546',\n",
       " 'https://www.amazon.in/sspa/click?ie=UTF8&spc=MTo0NDM3NjcwMDEwNzYwMDUwOjE3MDg0NDM5MTI6c3BfYXRmOjMwMDAxNTUwODk1NDEzMjo6MDo6&url=%2FKadence-Frontier-Acoustic-Guitar-Strings%2Fdp%2FB01GDZ46AA%2Fref%3Dsr_1_1_sspa%3Fcrid%3D1JO4JYZTPGAP7%26dib%3DeyJ2IjoiMSJ9.crxhhcuVe8Gag3-0mnCXJiOSSKJki5hOYLJU7nup4DWqM8VWO2bZ9Q4-cyVWhDYcrh7i6wvREudXk_1fOmASAQGVze_4-XEu_ZipwWHKGEaQrG95wf0MxZsC6EKqis5Q6Ywei7d62JWfrTYbxSF8X6X8a6TiGKR8p3EyNlU2ymFsZ2qIj-QaewnVuHphrvq86bKiEW0Z9E5bDrZzCYg6cheuqNIxHJbm1OaMicIPipLERLb91WpqXx82zXCpAizeMKhbVhoEpsi9xq1Fku-lhXuJyKN-L25D_zblMLnwqJw.HMgS9dhmpgd_h3mD1Yi_96QhPgBkqMLPvvdO3Y9zHEI%26dib_tag%3Dse%26keywords%3Dguitar%26qid%3D1708443912%26sprefix%3Dguitar%252Caps%252C311%26sr%3D8-1-spons%26sp_csd%3Dd2lkZ2V0TmFtZT1zcF9hdGY%26psc%3D1',\n",
       " 'https://www.amazon.in/sspa/click?ie=UTF8&spc=MTo0NDM3NjcwMDEwNzYwMDUwOjE3MDg0NDM5MTI6c3BfYXRmOjMwMDAxNTUzNzk3OTIzMjo6MDo6&url=%2FKadence-Frontier-Acoustic-Guitar-Strings%2Fdp%2FB078GTJP5Y%2Fref%3Dsr_1_2_sspa%3Fcrid%3D1JO4JYZTPGAP7%26dib%3DeyJ2IjoiMSJ9.crxhhcuVe8Gag3-0mnCXJiOSSKJki5hOYLJU7nup4DWqM8VWO2bZ9Q4-cyVWhDYcrh7i6wvREudXk_1fOmASAQGVze_4-XEu_ZipwWHKGEaQrG95wf0MxZsC6EKqis5Q6Ywei7d62JWfrTYbxSF8X6X8a6TiGKR8p3EyNlU2ymFsZ2qIj-QaewnVuHphrvq86bKiEW0Z9E5bDrZzCYg6cheuqNIxHJbm1OaMicIPipLERLb91WpqXx82zXCpAizeMKhbVhoEpsi9xq1Fku-lhXuJyKN-L25D_zblMLnwqJw.HMgS9dhmpgd_h3mD1Yi_96QhPgBkqMLPvvdO3Y9zHEI%26dib_tag%3Dse%26keywords%3Dguitar%26qid%3D1708443912%26sprefix%3Dguitar%252Caps%252C311%26sr%3D8-2-spons%26sp_csd%3Dd2lkZ2V0TmFtZT1zcF9hdGY%26psc%3D1',\n",
       " 'https://www.amazon.in/sspa/click?ie=UTF8&spc=MTo0NDM3NjcwMDEwNzYwMDUwOjE3MDg0NDM5MTI6c3BfYXRmOjIwMDg4NDY1ODE5NDA0OjowOjo&url=%2FHenrix-Acoustic-Guitar-Die-cast-Dual-action%2Fdp%2FB07VNDW6QF%2Fref%3Dsr_1_3_sspa%3Fcrid%3D1JO4JYZTPGAP7%26dib%3DeyJ2IjoiMSJ9.crxhhcuVe8Gag3-0mnCXJiOSSKJki5hOYLJU7nup4DWqM8VWO2bZ9Q4-cyVWhDYcrh7i6wvREudXk_1fOmASAQGVze_4-XEu_ZipwWHKGEaQrG95wf0MxZsC6EKqis5Q6Ywei7d62JWfrTYbxSF8X6X8a6TiGKR8p3EyNlU2ymFsZ2qIj-QaewnVuHphrvq86bKiEW0Z9E5bDrZzCYg6cheuqNIxHJbm1OaMicIPipLERLb91WpqXx82zXCpAizeMKhbVhoEpsi9xq1Fku-lhXuJyKN-L25D_zblMLnwqJw.HMgS9dhmpgd_h3mD1Yi_96QhPgBkqMLPvvdO3Y9zHEI%26dib_tag%3Dse%26keywords%3Dguitar%26qid%3D1708443912%26sprefix%3Dguitar%252Caps%252C311%26sr%3D8-3-spons%26sp_csd%3Dd2lkZ2V0TmFtZT1zcF9hdGY%26psc%3D1',\n",
       " 'https://www.amazon.in/sspa/click?ie=UTF8&spc=MTo0NDM3NjcwMDEwNzYwMDUwOjE3MDg0NDM5MTI6c3BfYXRmOjIwMDU3MTkzMDU2MjA0OjowOjo&url=%2FKadence-Slowhand-Premium-Acoustic-Instrument%2Fdp%2FB077SZ667X%2Fref%3Dsr_1_4_sspa%3Fcrid%3D1JO4JYZTPGAP7%26dib%3DeyJ2IjoiMSJ9.crxhhcuVe8Gag3-0mnCXJiOSSKJki5hOYLJU7nup4DWqM8VWO2bZ9Q4-cyVWhDYcrh7i6wvREudXk_1fOmASAQGVze_4-XEu_ZipwWHKGEaQrG95wf0MxZsC6EKqis5Q6Ywei7d62JWfrTYbxSF8X6X8a6TiGKR8p3EyNlU2ymFsZ2qIj-QaewnVuHphrvq86bKiEW0Z9E5bDrZzCYg6cheuqNIxHJbm1OaMicIPipLERLb91WpqXx82zXCpAizeMKhbVhoEpsi9xq1Fku-lhXuJyKN-L25D_zblMLnwqJw.HMgS9dhmpgd_h3mD1Yi_96QhPgBkqMLPvvdO3Y9zHEI%26dib_tag%3Dse%26keywords%3Dguitar%26qid%3D1708443912%26sprefix%3Dguitar%252Caps%252C311%26sr%3D8-4-spons%26sp_csd%3Dd2lkZ2V0TmFtZT1zcF9hdGY%26psc%3D1',\n",
       " 'https://www.amazon.in/Intern-INT-38C-Acoustic-Guitar-Black/dp/B073B6TQQY/ref=sr_1_5?crid=1JO4JYZTPGAP7&dib=eyJ2IjoiMSJ9.crxhhcuVe8Gag3-0mnCXJiOSSKJki5hOYLJU7nup4DWqM8VWO2bZ9Q4-cyVWhDYcrh7i6wvREudXk_1fOmASAQGVze_4-XEu_ZipwWHKGEaQrG95wf0MxZsC6EKqis5Q6Ywei7d62JWfrTYbxSF8X6X8a6TiGKR8p3EyNlU2ymFsZ2qIj-QaewnVuHphrvq86bKiEW0Z9E5bDrZzCYg6cheuqNIxHJbm1OaMicIPipLERLb91WpqXx82zXCpAizeMKhbVhoEpsi9xq1Fku-lhXuJyKN-L25D_zblMLnwqJw.HMgS9dhmpgd_h3mD1Yi_96QhPgBkqMLPvvdO3Y9zHEI&dib_tag=se&keywords=guitar&qid=1708443912&sprefix=guitar%2Caps%2C311&sr=8-5',\n",
       " 'https://www.amazon.in/Juarez-Acoustic-Cutaway-038C-Strings/dp/B017NPCSLI/ref=sr_1_6?crid=1JO4JYZTPGAP7&dib=eyJ2IjoiMSJ9.crxhhcuVe8Gag3-0mnCXJiOSSKJki5hOYLJU7nup4DWqM8VWO2bZ9Q4-cyVWhDYcrh7i6wvREudXk_1fOmASAQGVze_4-XEu_ZipwWHKGEaQrG95wf0MxZsC6EKqis5Q6Ywei7d62JWfrTYbxSF8X6X8a6TiGKR8p3EyNlU2ymFsZ2qIj-QaewnVuHphrvq86bKiEW0Z9E5bDrZzCYg6cheuqNIxHJbm1OaMicIPipLERLb91WpqXx82zXCpAizeMKhbVhoEpsi9xq1Fku-lhXuJyKN-L25D_zblMLnwqJw.HMgS9dhmpgd_h3mD1Yi_96QhPgBkqMLPvvdO3Y9zHEI&dib_tag=se&keywords=guitar&qid=1708443912&sprefix=guitar%2Caps%2C311&sr=8-6',\n",
       " 'https://www.amazon.in/Intern-INT-38C-Acoustic-Guitar-Sunburst/dp/B073B5MJRM/ref=sr_1_7?crid=1JO4JYZTPGAP7&dib=eyJ2IjoiMSJ9.crxhhcuVe8Gag3-0mnCXJiOSSKJki5hOYLJU7nup4DWqM8VWO2bZ9Q4-cyVWhDYcrh7i6wvREudXk_1fOmASAQGVze_4-XEu_ZipwWHKGEaQrG95wf0MxZsC6EKqis5Q6Ywei7d62JWfrTYbxSF8X6X8a6TiGKR8p3EyNlU2ymFsZ2qIj-QaewnVuHphrvq86bKiEW0Z9E5bDrZzCYg6cheuqNIxHJbm1OaMicIPipLERLb91WpqXx82zXCpAizeMKhbVhoEpsi9xq1Fku-lhXuJyKN-L25D_zblMLnwqJw.HMgS9dhmpgd_h3mD1Yi_96QhPgBkqMLPvvdO3Y9zHEI&dib_tag=se&keywords=guitar&qid=1708443912&sprefix=guitar%2Caps%2C311&sr=8-7',\n",
       " 'https://aax-eu.amazon.in/x/c/RCbc1GEJRtkTr1uPa3w5RtMAAAGNxzFKiwMAAAH2AQBvbm9fdHhuX2JpZDIgICBvbm9fdHhuX2ltcDEgICAHC7Ls/https://www.amazon.in/Radhe-Flutes-Natural-Bansuri-Middle/dp/B07T35ZBHB/ref=sxin_15_sbv_search_btf?content-id=amzn1.sym.4fe35c1d-da6a-41a4-967c-7a2315a8b22e%3Aamzn1.sym.4fe35c1d-da6a-41a4-967c-7a2315a8b22e&crid=1JO4JYZTPGAP7&cv_ct_cx=guitar&dib=eyJ2IjoiMSJ9.RkxRkdLFro_AAXvr06nUqw.JeBd0PrU651_axv89AuxHG1WRYgRws8Xq3gSK_R65J4&dib_tag=se&keywords=guitar&pd_rd_i=B07T35ZBHB&pd_rd_r=ffd6034d-bd1f-49ef-bb5e-6a1414f515cd&pd_rd_w=eRtKA&pd_rd_wg=z7SAN&pf_rd_p=4fe35c1d-da6a-41a4-967c-7a2315a8b22e&pf_rd_r=N9DBF7YCYYPRRPZVZAD5&qid=1708443912&sbo=RZvfv%2F%2FHxDF%2BO5021pAnSA%3D%3D&sprefix=guitar%2Caps%2C311&sr=1-1-b614a050-8d70-4320-9c19-cc457ab2a351',\n",
       " 'https://www.amazon.in/Yamaha-F280-Acoustic-Guitar-Natural/dp/B08317Y4VP/ref=sr_1_8?crid=1JO4JYZTPGAP7&dib=eyJ2IjoiMSJ9.crxhhcuVe8Gag3-0mnCXJiOSSKJki5hOYLJU7nup4DWqM8VWO2bZ9Q4-cyVWhDYcrh7i6wvREudXk_1fOmASAQGVze_4-XEu_ZipwWHKGEaQrG95wf0MxZsC6EKqis5Q6Ywei7d62JWfrTYbxSF8X6X8a6TiGKR8p3EyNlU2ymFsZ2qIj-QaewnVuHphrvq86bKiEW0Z9E5bDrZzCYg6cheuqNIxHJbm1OaMicIPipLERLb91WpqXx82zXCpAizeMKhbVhoEpsi9xq1Fku-lhXuJyKN-L25D_zblMLnwqJw.HMgS9dhmpgd_h3mD1Yi_96QhPgBkqMLPvvdO3Y9zHEI&dib_tag=se&keywords=guitar&qid=1708443912&sprefix=guitar%2Caps%2C311&sr=8-8',\n",
       " 'https://www.amazon.in/JUAREZ-JRZ38C-Acoustic-Sunburst-Strings/dp/B01FYYTDS6/ref=sr_1_9?crid=1JO4JYZTPGAP7&dib=eyJ2IjoiMSJ9.crxhhcuVe8Gag3-0mnCXJiOSSKJki5hOYLJU7nup4DWqM8VWO2bZ9Q4-cyVWhDYcrh7i6wvREudXk_1fOmASAQGVze_4-XEu_ZipwWHKGEaQrG95wf0MxZsC6EKqis5Q6Ywei7d62JWfrTYbxSF8X6X8a6TiGKR8p3EyNlU2ymFsZ2qIj-QaewnVuHphrvq86bKiEW0Z9E5bDrZzCYg6cheuqNIxHJbm1OaMicIPipLERLb91WpqXx82zXCpAizeMKhbVhoEpsi9xq1Fku-lhXuJyKN-L25D_zblMLnwqJw.HMgS9dhmpgd_h3mD1Yi_96QhPgBkqMLPvvdO3Y9zHEI&dib_tag=se&keywords=guitar&qid=1708443912&sprefix=guitar%2Caps%2C311&sr=8-9',\n",
       " 'https://www.amazon.in/YAMAHA-FS80C-CONCERT-CUTAWAY-GUITAR/dp/B08WBBVMVJ/ref=sr_1_10?crid=1JO4JYZTPGAP7&dib=eyJ2IjoiMSJ9.crxhhcuVe8Gag3-0mnCXJiOSSKJki5hOYLJU7nup4DWqM8VWO2bZ9Q4-cyVWhDYcrh7i6wvREudXk_1fOmASAQGVze_4-XEu_ZipwWHKGEaQrG95wf0MxZsC6EKqis5Q6Ywei7d62JWfrTYbxSF8X6X8a6TiGKR8p3EyNlU2ymFsZ2qIj-QaewnVuHphrvq86bKiEW0Z9E5bDrZzCYg6cheuqNIxHJbm1OaMicIPipLERLb91WpqXx82zXCpAizeMKhbVhoEpsi9xq1Fku-lhXuJyKN-L25D_zblMLnwqJw.HMgS9dhmpgd_h3mD1Yi_96QhPgBkqMLPvvdO3Y9zHEI&dib_tag=se&keywords=guitar&qid=1708443912&sprefix=guitar%2Caps%2C311&sr=8-10',\n",
       " 'https://www.amazon.in/JUAREZ-JRZ38C-Acoustic-Sunburst-Strings/dp/B01FYYTDTU/ref=sr_1_11?crid=1JO4JYZTPGAP7&dib=eyJ2IjoiMSJ9.crxhhcuVe8Gag3-0mnCXJiOSSKJki5hOYLJU7nup4DWqM8VWO2bZ9Q4-cyVWhDYcrh7i6wvREudXk_1fOmASAQGVze_4-XEu_ZipwWHKGEaQrG95wf0MxZsC6EKqis5Q6Ywei7d62JWfrTYbxSF8X6X8a6TiGKR8p3EyNlU2ymFsZ2qIj-QaewnVuHphrvq86bKiEW0Z9E5bDrZzCYg6cheuqNIxHJbm1OaMicIPipLERLb91WpqXx82zXCpAizeMKhbVhoEpsi9xq1Fku-lhXuJyKN-L25D_zblMLnwqJw.HMgS9dhmpgd_h3mD1Yi_96QhPgBkqMLPvvdO3Y9zHEI&dib_tag=se&keywords=guitar&qid=1708443912&sprefix=guitar%2Caps%2C311&sr=8-11',\n",
       " 'https://www.amazon.in/Ultimate-Concert-Cutaway-Acoustic-Bajaao/dp/B08WHWKKV5/ref=sr_1_12?crid=1JO4JYZTPGAP7&dib=eyJ2IjoiMSJ9.crxhhcuVe8Gag3-0mnCXJiOSSKJki5hOYLJU7nup4DWqM8VWO2bZ9Q4-cyVWhDYcrh7i6wvREudXk_1fOmASAQGVze_4-XEu_ZipwWHKGEaQrG95wf0MxZsC6EKqis5Q6Ywei7d62JWfrTYbxSF8X6X8a6TiGKR8p3EyNlU2ymFsZ2qIj-QaewnVuHphrvq86bKiEW0Z9E5bDrZzCYg6cheuqNIxHJbm1OaMicIPipLERLb91WpqXx82zXCpAizeMKhbVhoEpsi9xq1Fku-lhXuJyKN-L25D_zblMLnwqJw.HMgS9dhmpgd_h3mD1Yi_96QhPgBkqMLPvvdO3Y9zHEI&dib_tag=se&keywords=guitar&qid=1708443912&sprefix=guitar%2Caps%2C311&sr=8-12',\n",
       " 'https://www.amazon.in/JUAREZ-JRZ38C-PP/dp/B0BCQNLXVM/ref=sr_1_13?crid=1JO4JYZTPGAP7&dib=eyJ2IjoiMSJ9.crxhhcuVe8Gag3-0mnCXJiOSSKJki5hOYLJU7nup4DWqM8VWO2bZ9Q4-cyVWhDYcrh7i6wvREudXk_1fOmASAQGVze_4-XEu_ZipwWHKGEaQrG95wf0MxZsC6EKqis5Q6Ywei7d62JWfrTYbxSF8X6X8a6TiGKR8p3EyNlU2ymFsZ2qIj-QaewnVuHphrvq86bKiEW0Z9E5bDrZzCYg6cheuqNIxHJbm1OaMicIPipLERLb91WpqXx82zXCpAizeMKhbVhoEpsi9xq1Fku-lhXuJyKN-L25D_zblMLnwqJw.HMgS9dhmpgd_h3mD1Yi_96QhPgBkqMLPvvdO3Y9zHEI&dib_tag=se&keywords=guitar&qid=1708443912&sprefix=guitar%2Caps%2C311&sr=8-13',\n",
       " 'https://www.amazon.in/Kadence-Frontier-Acoustic-Guitar-Strings/dp/B01CJJG328/ref=sr_1_14?crid=1JO4JYZTPGAP7&dib=eyJ2IjoiMSJ9.crxhhcuVe8Gag3-0mnCXJiOSSKJki5hOYLJU7nup4DWqM8VWO2bZ9Q4-cyVWhDYcrh7i6wvREudXk_1fOmASAQGVze_4-XEu_ZipwWHKGEaQrG95wf0MxZsC6EKqis5Q6Ywei7d62JWfrTYbxSF8X6X8a6TiGKR8p3EyNlU2ymFsZ2qIj-QaewnVuHphrvq86bKiEW0Z9E5bDrZzCYg6cheuqNIxHJbm1OaMicIPipLERLb91WpqXx82zXCpAizeMKhbVhoEpsi9xq1Fku-lhXuJyKN-L25D_zblMLnwqJw.HMgS9dhmpgd_h3mD1Yi_96QhPgBkqMLPvvdO3Y9zHEI&dib_tag=se&keywords=guitar&qid=1708443912&sprefix=guitar%2Caps%2C311&sr=8-14',\n",
       " 'https://www.amazon.in/Intern-INT-38C-VT-G-Guitar-Kit-Violet/dp/B07K8YJXKL/ref=sr_1_15?crid=1JO4JYZTPGAP7&dib=eyJ2IjoiMSJ9.crxhhcuVe8Gag3-0mnCXJiOSSKJki5hOYLJU7nup4DWqM8VWO2bZ9Q4-cyVWhDYcrh7i6wvREudXk_1fOmASAQGVze_4-XEu_ZipwWHKGEaQrG95wf0MxZsC6EKqis5Q6Ywei7d62JWfrTYbxSF8X6X8a6TiGKR8p3EyNlU2ymFsZ2qIj-QaewnVuHphrvq86bKiEW0Z9E5bDrZzCYg6cheuqNIxHJbm1OaMicIPipLERLb91WpqXx82zXCpAizeMKhbVhoEpsi9xq1Fku-lhXuJyKN-L25D_zblMLnwqJw.HMgS9dhmpgd_h3mD1Yi_96QhPgBkqMLPvvdO3Y9zHEI&dib_tag=se&keywords=guitar&qid=1708443912&sprefix=guitar%2Caps%2C311&sr=8-15',\n",
       " 'https://www.amazon.in/Fender-FA-125-Dreadnought-Acoustic-Guitar/dp/B07J4X9B7R/ref=sr_1_16?crid=1JO4JYZTPGAP7&dib=eyJ2IjoiMSJ9.crxhhcuVe8Gag3-0mnCXJiOSSKJki5hOYLJU7nup4DWqM8VWO2bZ9Q4-cyVWhDYcrh7i6wvREudXk_1fOmASAQGVze_4-XEu_ZipwWHKGEaQrG95wf0MxZsC6EKqis5Q6Ywei7d62JWfrTYbxSF8X6X8a6TiGKR8p3EyNlU2ymFsZ2qIj-QaewnVuHphrvq86bKiEW0Z9E5bDrZzCYg6cheuqNIxHJbm1OaMicIPipLERLb91WpqXx82zXCpAizeMKhbVhoEpsi9xq1Fku-lhXuJyKN-L25D_zblMLnwqJw.HMgS9dhmpgd_h3mD1Yi_96QhPgBkqMLPvvdO3Y9zHEI&dib_tag=se&keywords=guitar&qid=1708443912&sprefix=guitar%2Caps%2C311&sr=8-16',\n",
       " 'https://www.amazon.in/Intern-INT-38C-Acoustic-Guitar-Kit/dp/B073B6TF31/ref=sr_1_17?crid=1JO4JYZTPGAP7&dib=eyJ2IjoiMSJ9.crxhhcuVe8Gag3-0mnCXJiOSSKJki5hOYLJU7nup4DWqM8VWO2bZ9Q4-cyVWhDYcrh7i6wvREudXk_1fOmASAQGVze_4-XEu_ZipwWHKGEaQrG95wf0MxZsC6EKqis5Q6Ywei7d62JWfrTYbxSF8X6X8a6TiGKR8p3EyNlU2ymFsZ2qIj-QaewnVuHphrvq86bKiEW0Z9E5bDrZzCYg6cheuqNIxHJbm1OaMicIPipLERLb91WpqXx82zXCpAizeMKhbVhoEpsi9xq1Fku-lhXuJyKN-L25D_zblMLnwqJw.HMgS9dhmpgd_h3mD1Yi_96QhPgBkqMLPvvdO3Y9zHEI&dib_tag=se&keywords=guitar&qid=1708443912&sprefix=guitar%2Caps%2C311&sr=8-17',\n",
       " 'https://www.amazon.in/JUAREZ-JRZ38C-Acoustic-Natural-Strings/dp/B01FYYTDWC/ref=sr_1_18?crid=1JO4JYZTPGAP7&dib=eyJ2IjoiMSJ9.crxhhcuVe8Gag3-0mnCXJiOSSKJki5hOYLJU7nup4DWqM8VWO2bZ9Q4-cyVWhDYcrh7i6wvREudXk_1fOmASAQGVze_4-XEu_ZipwWHKGEaQrG95wf0MxZsC6EKqis5Q6Ywei7d62JWfrTYbxSF8X6X8a6TiGKR8p3EyNlU2ymFsZ2qIj-QaewnVuHphrvq86bKiEW0Z9E5bDrZzCYg6cheuqNIxHJbm1OaMicIPipLERLb91WpqXx82zXCpAizeMKhbVhoEpsi9xq1Fku-lhXuJyKN-L25D_zblMLnwqJw.HMgS9dhmpgd_h3mD1Yi_96QhPgBkqMLPvvdO3Y9zHEI&dib_tag=se&keywords=guitar&qid=1708443912&sprefix=guitar%2Caps%2C311&sr=8-18',\n",
       " 'https://www.amazon.in/Rosewood-Fretboard-Acoustic-Strings-K-Retail/dp/B07KLG8C4P/ref=sr_1_19?crid=1JO4JYZTPGAP7&dib=eyJ2IjoiMSJ9.crxhhcuVe8Gag3-0mnCXJiOSSKJki5hOYLJU7nup4DWqM8VWO2bZ9Q4-cyVWhDYcrh7i6wvREudXk_1fOmASAQGVze_4-XEu_ZipwWHKGEaQrG95wf0MxZsC6EKqis5Q6Ywei7d62JWfrTYbxSF8X6X8a6TiGKR8p3EyNlU2ymFsZ2qIj-QaewnVuHphrvq86bKiEW0Z9E5bDrZzCYg6cheuqNIxHJbm1OaMicIPipLERLb91WpqXx82zXCpAizeMKhbVhoEpsi9xq1Fku-lhXuJyKN-L25D_zblMLnwqJw.HMgS9dhmpgd_h3mD1Yi_96QhPgBkqMLPvvdO3Y9zHEI&dib_tag=se&keywords=guitar&qid=1708443912&sprefix=guitar%2Caps%2C311&sr=8-19',\n",
       " 'https://www.amazon.in/Yamaha-Acoustic-Tobacco-Sunburst-Bajaao/dp/B09PBDGD82/ref=sr_1_20?crid=1JO4JYZTPGAP7&dib=eyJ2IjoiMSJ9.crxhhcuVe8Gag3-0mnCXJiOSSKJki5hOYLJU7nup4DWqM8VWO2bZ9Q4-cyVWhDYcrh7i6wvREudXk_1fOmASAQGVze_4-XEu_ZipwWHKGEaQrG95wf0MxZsC6EKqis5Q6Ywei7d62JWfrTYbxSF8X6X8a6TiGKR8p3EyNlU2ymFsZ2qIj-QaewnVuHphrvq86bKiEW0Z9E5bDrZzCYg6cheuqNIxHJbm1OaMicIPipLERLb91WpqXx82zXCpAizeMKhbVhoEpsi9xq1Fku-lhXuJyKN-L25D_zblMLnwqJw.HMgS9dhmpgd_h3mD1Yi_96QhPgBkqMLPvvdO3Y9zHEI&dib_tag=se&keywords=guitar&qid=1708443912&sprefix=guitar%2Caps%2C311&sr=8-20',\n",
       " 'https://www.amazon.in/sspa/click?ie=UTF8&spc=MTo0NDM3NjcwMDEwNzYwMDUwOjE3MDg0NDM5MTI6c3BfbXRmOjMwMDEwNTMwMzczMTEzMjo6MDo6&url=%2FPerlman-Fretboard-Fingerboard-Stickers-Beginner%2Fdp%2FB096ZDSWJ4%2Fref%3Dsr_1_21_sspa%3Fcrid%3D1JO4JYZTPGAP7%26dib%3DeyJ2IjoiMSJ9.crxhhcuVe8Gag3-0mnCXJiOSSKJki5hOYLJU7nup4DWqM8VWO2bZ9Q4-cyVWhDYcrh7i6wvREudXk_1fOmASAQGVze_4-XEu_ZipwWHKGEaQrG95wf0MxZsC6EKqis5Q6Ywei7d62JWfrTYbxSF8X6X8a6TiGKR8p3EyNlU2ymFsZ2qIj-QaewnVuHphrvq86bKiEW0Z9E5bDrZzCYg6cheuqNIxHJbm1OaMicIPipLERLb91WpqXx82zXCpAizeMKhbVhoEpsi9xq1Fku-lhXuJyKN-L25D_zblMLnwqJw.HMgS9dhmpgd_h3mD1Yi_96QhPgBkqMLPvvdO3Y9zHEI%26dib_tag%3Dse%26keywords%3Dguitar%26qid%3D1708443912%26sprefix%3Dguitar%252Caps%252C311%26sr%3D8-21-spons%26sp_csd%3Dd2lkZ2V0TmFtZT1zcF9tdGY%26psc%3D1',\n",
       " 'https://www.amazon.in/sspa/click?ie=UTF8&spc=MTo0NDM3NjcwMDEwNzYwMDUwOjE3MDg0NDM5MTI6c3BfbXRmOjMwMDExODE5OTcxOTczMjo6MDo6&url=%2FMOCKING-BIRD-Beginners-Instruments-Accessories%2Fdp%2FB0CNGJP58D%2Fref%3Dsr_1_22_sspa%3Fcrid%3D1JO4JYZTPGAP7%26dib%3DeyJ2IjoiMSJ9.crxhhcuVe8Gag3-0mnCXJiOSSKJki5hOYLJU7nup4DWqM8VWO2bZ9Q4-cyVWhDYcrh7i6wvREudXk_1fOmASAQGVze_4-XEu_ZipwWHKGEaQrG95wf0MxZsC6EKqis5Q6Ywei7d62JWfrTYbxSF8X6X8a6TiGKR8p3EyNlU2ymFsZ2qIj-QaewnVuHphrvq86bKiEW0Z9E5bDrZzCYg6cheuqNIxHJbm1OaMicIPipLERLb91WpqXx82zXCpAizeMKhbVhoEpsi9xq1Fku-lhXuJyKN-L25D_zblMLnwqJw.HMgS9dhmpgd_h3mD1Yi_96QhPgBkqMLPvvdO3Y9zHEI%26dib_tag%3Dse%26keywords%3Dguitar%26qid%3D1708443912%26sprefix%3Dguitar%252Caps%252C311%26sr%3D8-22-spons%26sp_csd%3Dd2lkZ2V0TmFtZT1zcF9tdGY%26psc%3D1',\n",
       " 'https://www.amazon.in/sspa/click?ie=UTF8&spc=MTo0NDM3NjcwMDEwNzYwMDUwOjE3MDg0NDM5MTI6c3BfbXRmOjMwMDEzMTIzODIwMDIzMjo6MDo6&url=%2FGuitar-Fret-Stainless-Steel-Delicate%2Fdp%2FB09TTFKQFS%2Fref%3Dsr_1_23_sspa%3Fcrid%3D1JO4JYZTPGAP7%26dib%3DeyJ2IjoiMSJ9.crxhhcuVe8Gag3-0mnCXJiOSSKJki5hOYLJU7nup4DWqM8VWO2bZ9Q4-cyVWhDYcrh7i6wvREudXk_1fOmASAQGVze_4-XEu_ZipwWHKGEaQrG95wf0MxZsC6EKqis5Q6Ywei7d62JWfrTYbxSF8X6X8a6TiGKR8p3EyNlU2ymFsZ2qIj-QaewnVuHphrvq86bKiEW0Z9E5bDrZzCYg6cheuqNIxHJbm1OaMicIPipLERLb91WpqXx82zXCpAizeMKhbVhoEpsi9xq1Fku-lhXuJyKN-L25D_zblMLnwqJw.HMgS9dhmpgd_h3mD1Yi_96QhPgBkqMLPvvdO3Y9zHEI%26dib_tag%3Dse%26keywords%3Dguitar%26qid%3D1708443912%26sprefix%3Dguitar%252Caps%252C311%26sr%3D8-23-spons%26sp_csd%3Dd2lkZ2V0TmFtZT1zcF9tdGY%26psc%3D1',\n",
       " 'https://www.amazon.in/sspa/click?ie=UTF8&spc=MTo0NDM3NjcwMDEwNzYwMDUwOjE3MDg0NDM5MTI6c3BfbXRmOjIwMDkyNjI0MDIxNTk4OjowOjo&url=%2FDreadnought-Acoustic-Gig-Bag-Strings-Polishing%2Fdp%2FB0BJJRJVHY%2Fref%3Dsr_1_24_sspa%3Fcrid%3D1JO4JYZTPGAP7%26dib%3DeyJ2IjoiMSJ9.crxhhcuVe8Gag3-0mnCXJiOSSKJki5hOYLJU7nup4DWqM8VWO2bZ9Q4-cyVWhDYcrh7i6wvREudXk_1fOmASAQGVze_4-XEu_ZipwWHKGEaQrG95wf0MxZsC6EKqis5Q6Ywei7d62JWfrTYbxSF8X6X8a6TiGKR8p3EyNlU2ymFsZ2qIj-QaewnVuHphrvq86bKiEW0Z9E5bDrZzCYg6cheuqNIxHJbm1OaMicIPipLERLb91WpqXx82zXCpAizeMKhbVhoEpsi9xq1Fku-lhXuJyKN-L25D_zblMLnwqJw.HMgS9dhmpgd_h3mD1Yi_96QhPgBkqMLPvvdO3Y9zHEI%26dib_tag%3Dse%26keywords%3Dguitar%26qid%3D1708443912%26sprefix%3Dguitar%252Caps%252C311%26sr%3D8-24-spons%26sp_csd%3Dd2lkZ2V0TmFtZT1zcF9tdGY%26psc%3D1',\n",
       " 'https://www.amazon.in/Ju%C3%A2rez-JRZ38C-WH-Strings-Acoustic/dp/B072MFK4L6/ref=sr_1_25?crid=1JO4JYZTPGAP7&dib=eyJ2IjoiMSJ9.crxhhcuVe8Gag3-0mnCXJiOSSKJki5hOYLJU7nup4DWqM8VWO2bZ9Q4-cyVWhDYcrh7i6wvREudXk_1fOmASAQGVze_4-XEu_ZipwWHKGEaQrG95wf0MxZsC6EKqis5Q6Ywei7d62JWfrTYbxSF8X6X8a6TiGKR8p3EyNlU2ymFsZ2qIj-QaewnVuHphrvq86bKiEW0Z9E5bDrZzCYg6cheuqNIxHJbm1OaMicIPipLERLb91WpqXx82zXCpAizeMKhbVhoEpsi9xq1Fku-lhXuJyKN-L25D_zblMLnwqJw.HMgS9dhmpgd_h3mD1Yi_96QhPgBkqMLPvvdO3Y9zHEI&dib_tag=se&keywords=guitar&qid=1708443912&sprefix=guitar%2Caps%2C311&sr=8-25',\n",
       " 'https://www.amazon.in/JUAREZ-JRZ38C-BKNA/dp/B0BCQNVPRB/ref=sr_1_26?crid=1JO4JYZTPGAP7&dib=eyJ2IjoiMSJ9.crxhhcuVe8Gag3-0mnCXJiOSSKJki5hOYLJU7nup4DWqM8VWO2bZ9Q4-cyVWhDYcrh7i6wvREudXk_1fOmASAQGVze_4-XEu_ZipwWHKGEaQrG95wf0MxZsC6EKqis5Q6Ywei7d62JWfrTYbxSF8X6X8a6TiGKR8p3EyNlU2ymFsZ2qIj-QaewnVuHphrvq86bKiEW0Z9E5bDrZzCYg6cheuqNIxHJbm1OaMicIPipLERLb91WpqXx82zXCpAizeMKhbVhoEpsi9xq1Fku-lhXuJyKN-L25D_zblMLnwqJw.HMgS9dhmpgd_h3mD1Yi_96QhPgBkqMLPvvdO3Y9zHEI&dib_tag=se&keywords=guitar&qid=1708443912&sprefix=guitar%2Caps%2C311&sr=8-26',\n",
       " 'https://www.amazon.in/Kadence-Frontier-Acoustic-Guitar-Strings/dp/B078GTJP5Y/ref=sr_1_27?crid=1JO4JYZTPGAP7&dib=eyJ2IjoiMSJ9.crxhhcuVe8Gag3-0mnCXJiOSSKJki5hOYLJU7nup4DWqM8VWO2bZ9Q4-cyVWhDYcrh7i6wvREudXk_1fOmASAQGVze_4-XEu_ZipwWHKGEaQrG95wf0MxZsC6EKqis5Q6Ywei7d62JWfrTYbxSF8X6X8a6TiGKR8p3EyNlU2ymFsZ2qIj-QaewnVuHphrvq86bKiEW0Z9E5bDrZzCYg6cheuqNIxHJbm1OaMicIPipLERLb91WpqXx82zXCpAizeMKhbVhoEpsi9xq1Fku-lhXuJyKN-L25D_zblMLnwqJw.HMgS9dhmpgd_h3mD1Yi_96QhPgBkqMLPvvdO3Y9zHEI&dib_tag=se&keywords=guitar&qid=1708443912&sprefix=guitar%2Caps%2C311&sr=8-27',\n",
       " 'https://www.amazon.in/Henrix-Cutaway-Acoustic-Guitar-Action/dp/B097NCQFFM/ref=sr_1_28?crid=1JO4JYZTPGAP7&dib=eyJ2IjoiMSJ9.crxhhcuVe8Gag3-0mnCXJiOSSKJki5hOYLJU7nup4DWqM8VWO2bZ9Q4-cyVWhDYcrh7i6wvREudXk_1fOmASAQGVze_4-XEu_ZipwWHKGEaQrG95wf0MxZsC6EKqis5Q6Ywei7d62JWfrTYbxSF8X6X8a6TiGKR8p3EyNlU2ymFsZ2qIj-QaewnVuHphrvq86bKiEW0Z9E5bDrZzCYg6cheuqNIxHJbm1OaMicIPipLERLb91WpqXx82zXCpAizeMKhbVhoEpsi9xq1Fku-lhXuJyKN-L25D_zblMLnwqJw.HMgS9dhmpgd_h3mD1Yi_96QhPgBkqMLPvvdO3Y9zHEI&dib_tag=se&keywords=guitar&qid=1708443912&sprefix=guitar%2Caps%2C311&sr=8-28',\n",
       " 'https://www.amazon.in/JUAREZ-JRZ38C-TBLSNA/dp/B0BCQKQ6CS/ref=sr_1_29?crid=1JO4JYZTPGAP7&dib=eyJ2IjoiMSJ9.crxhhcuVe8Gag3-0mnCXJiOSSKJki5hOYLJU7nup4DWqM8VWO2bZ9Q4-cyVWhDYcrh7i6wvREudXk_1fOmASAQGVze_4-XEu_ZipwWHKGEaQrG95wf0MxZsC6EKqis5Q6Ywei7d62JWfrTYbxSF8X6X8a6TiGKR8p3EyNlU2ymFsZ2qIj-QaewnVuHphrvq86bKiEW0Z9E5bDrZzCYg6cheuqNIxHJbm1OaMicIPipLERLb91WpqXx82zXCpAizeMKhbVhoEpsi9xq1Fku-lhXuJyKN-L25D_zblMLnwqJw.HMgS9dhmpgd_h3mD1Yi_96QhPgBkqMLPvvdO3Y9zHEI&dib_tag=se&keywords=guitar&qid=1708443912&sprefix=guitar%2Caps%2C311&sr=8-29',\n",
       " 'https://www.amazon.in/JUAREZ-Arpeggio-Guitar-JRA41SP-RD-K-red/dp/B08MW8CWG8/ref=sr_1_30?crid=1JO4JYZTPGAP7&dib=eyJ2IjoiMSJ9.crxhhcuVe8Gag3-0mnCXJiOSSKJki5hOYLJU7nup4DWqM8VWO2bZ9Q4-cyVWhDYcrh7i6wvREudXk_1fOmASAQGVze_4-XEu_ZipwWHKGEaQrG95wf0MxZsC6EKqis5Q6Ywei7d62JWfrTYbxSF8X6X8a6TiGKR8p3EyNlU2ymFsZ2qIj-QaewnVuHphrvq86bKiEW0Z9E5bDrZzCYg6cheuqNIxHJbm1OaMicIPipLERLb91WpqXx82zXCpAizeMKhbVhoEpsi9xq1Fku-lhXuJyKN-L25D_zblMLnwqJw.HMgS9dhmpgd_h3mD1Yi_96QhPgBkqMLPvvdO3Y9zHEI&dib_tag=se&keywords=guitar&qid=1708443912&sprefix=guitar%2Caps%2C311&sr=8-30',\n",
       " 'https://www.amazon.in/Strings-Straps-String-winder-Polishing/dp/B07RV9FJ2Z/ref=sr_1_31?crid=1JO4JYZTPGAP7&dib=eyJ2IjoiMSJ9.crxhhcuVe8Gag3-0mnCXJiOSSKJki5hOYLJU7nup4DWqM8VWO2bZ9Q4-cyVWhDYcrh7i6wvREudXk_1fOmASAQGVze_4-XEu_ZipwWHKGEaQrG95wf0MxZsC6EKqis5Q6Ywei7d62JWfrTYbxSF8X6X8a6TiGKR8p3EyNlU2ymFsZ2qIj-QaewnVuHphrvq86bKiEW0Z9E5bDrZzCYg6cheuqNIxHJbm1OaMicIPipLERLb91WpqXx82zXCpAizeMKhbVhoEpsi9xq1Fku-lhXuJyKN-L25D_zblMLnwqJw.HMgS9dhmpgd_h3mD1Yi_96QhPgBkqMLPvvdO3Y9zHEI&dib_tag=se&keywords=guitar&qid=1708443912&sprefix=guitar%2Caps%2C311&sr=8-31',\n",
       " 'https://www.amazon.in/MOCKING-BIRD-Beginners-Instruments-Accessories/dp/B0CNGJP58D/ref=sr_1_32?crid=1JO4JYZTPGAP7&dib=eyJ2IjoiMSJ9.crxhhcuVe8Gag3-0mnCXJiOSSKJki5hOYLJU7nup4DWqM8VWO2bZ9Q4-cyVWhDYcrh7i6wvREudXk_1fOmASAQGVze_4-XEu_ZipwWHKGEaQrG95wf0MxZsC6EKqis5Q6Ywei7d62JWfrTYbxSF8X6X8a6TiGKR8p3EyNlU2ymFsZ2qIj-QaewnVuHphrvq86bKiEW0Z9E5bDrZzCYg6cheuqNIxHJbm1OaMicIPipLERLb91WpqXx82zXCpAizeMKhbVhoEpsi9xq1Fku-lhXuJyKN-L25D_zblMLnwqJw.HMgS9dhmpgd_h3mD1Yi_96QhPgBkqMLPvvdO3Y9zHEI&dib_tag=se&keywords=guitar&qid=1708443912&sprefix=guitar%2Caps%2C311&sr=8-32',\n",
       " 'https://www.amazon.in/Kadence-Slowhand-Mahogany-Acoustic-KSH03-12EQ/dp/B0CGDDPVKK/ref=sr_1_33?crid=1JO4JYZTPGAP7&dib=eyJ2IjoiMSJ9.crxhhcuVe8Gag3-0mnCXJiOSSKJki5hOYLJU7nup4DWqM8VWO2bZ9Q4-cyVWhDYcrh7i6wvREudXk_1fOmASAQGVze_4-XEu_ZipwWHKGEaQrG95wf0MxZsC6EKqis5Q6Ywei7d62JWfrTYbxSF8X6X8a6TiGKR8p3EyNlU2ymFsZ2qIj-QaewnVuHphrvq86bKiEW0Z9E5bDrZzCYg6cheuqNIxHJbm1OaMicIPipLERLb91WpqXx82zXCpAizeMKhbVhoEpsi9xq1Fku-lhXuJyKN-L25D_zblMLnwqJw.HMgS9dhmpgd_h3mD1Yi_96QhPgBkqMLPvvdO3Y9zHEI&dib_tag=se&keywords=guitar&qid=1708443912&sprefix=guitar%2Caps%2C311&sr=8-33',\n",
       " 'https://www.amazon.in/FS80C-Acoustic-Cutaway-Concert-Plectrums/dp/B08XVV1WH7/ref=sr_1_34?crid=1JO4JYZTPGAP7&dib=eyJ2IjoiMSJ9.crxhhcuVe8Gag3-0mnCXJiOSSKJki5hOYLJU7nup4DWqM8VWO2bZ9Q4-cyVWhDYcrh7i6wvREudXk_1fOmASAQGVze_4-XEu_ZipwWHKGEaQrG95wf0MxZsC6EKqis5Q6Ywei7d62JWfrTYbxSF8X6X8a6TiGKR8p3EyNlU2ymFsZ2qIj-QaewnVuHphrvq86bKiEW0Z9E5bDrZzCYg6cheuqNIxHJbm1OaMicIPipLERLb91WpqXx82zXCpAizeMKhbVhoEpsi9xq1Fku-lhXuJyKN-L25D_zblMLnwqJw.HMgS9dhmpgd_h3mD1Yi_96QhPgBkqMLPvvdO3Y9zHEI&dib_tag=se&keywords=guitar&qid=1708443912&sprefix=guitar%2Caps%2C311&sr=8-34',\n",
       " 'https://www.amazon.in/Acoustic-Humidity-resistant-resonance-Sunburst/dp/B09RQYYQBB/ref=sr_1_35?crid=1JO4JYZTPGAP7&dib=eyJ2IjoiMSJ9.crxhhcuVe8Gag3-0mnCXJiOSSKJki5hOYLJU7nup4DWqM8VWO2bZ9Q4-cyVWhDYcrh7i6wvREudXk_1fOmASAQGVze_4-XEu_ZipwWHKGEaQrG95wf0MxZsC6EKqis5Q6Ywei7d62JWfrTYbxSF8X6X8a6TiGKR8p3EyNlU2ymFsZ2qIj-QaewnVuHphrvq86bKiEW0Z9E5bDrZzCYg6cheuqNIxHJbm1OaMicIPipLERLb91WpqXx82zXCpAizeMKhbVhoEpsi9xq1Fku-lhXuJyKN-L25D_zblMLnwqJw.HMgS9dhmpgd_h3mD1Yi_96QhPgBkqMLPvvdO3Y9zHEI&dib_tag=se&keywords=guitar&qid=1708443912&sprefix=guitar%2Caps%2C311&sr=8-35',\n",
       " 'https://www.amazon.in/Armonia-38inch-Acoustic-Strings-Natural/dp/B0CJ9KTSGW/ref=sr_1_36?crid=1JO4JYZTPGAP7&dib=eyJ2IjoiMSJ9.crxhhcuVe8Gag3-0mnCXJiOSSKJki5hOYLJU7nup4DWqM8VWO2bZ9Q4-cyVWhDYcrh7i6wvREudXk_1fOmASAQGVze_4-XEu_ZipwWHKGEaQrG95wf0MxZsC6EKqis5Q6Ywei7d62JWfrTYbxSF8X6X8a6TiGKR8p3EyNlU2ymFsZ2qIj-QaewnVuHphrvq86bKiEW0Z9E5bDrZzCYg6cheuqNIxHJbm1OaMicIPipLERLb91WpqXx82zXCpAizeMKhbVhoEpsi9xq1Fku-lhXuJyKN-L25D_zblMLnwqJw.HMgS9dhmpgd_h3mD1Yi_96QhPgBkqMLPvvdO3Y9zHEI&dib_tag=se&keywords=guitar&qid=1708443912&sprefix=guitar%2Caps%2C311&sr=8-36',\n",
       " 'https://www.amazon.in/Blueberry-VIP-380-38Inch-Acoustic-Guitar/dp/B0BVR96DWH/ref=sr_1_37?crid=1JO4JYZTPGAP7&dib=eyJ2IjoiMSJ9.crxhhcuVe8Gag3-0mnCXJiOSSKJki5hOYLJU7nup4DWqM8VWO2bZ9Q4-cyVWhDYcrh7i6wvREudXk_1fOmASAQGVze_4-XEu_ZipwWHKGEaQrG95wf0MxZsC6EKqis5Q6Ywei7d62JWfrTYbxSF8X6X8a6TiGKR8p3EyNlU2ymFsZ2qIj-QaewnVuHphrvq86bKiEW0Z9E5bDrZzCYg6cheuqNIxHJbm1OaMicIPipLERLb91WpqXx82zXCpAizeMKhbVhoEpsi9xq1Fku-lhXuJyKN-L25D_zblMLnwqJw.HMgS9dhmpgd_h3mD1Yi_96QhPgBkqMLPvvdO3Y9zHEI&dib_tag=se&keywords=guitar&qid=1708443912&sprefix=guitar%2Caps%2C311&sr=8-37',\n",
       " 'https://www.amazon.in/Blueberry-38C-Acoustic-Guitar-Strings/dp/B08KLMV4XX/ref=sr_1_38?crid=1JO4JYZTPGAP7&dib=eyJ2IjoiMSJ9.crxhhcuVe8Gag3-0mnCXJiOSSKJki5hOYLJU7nup4DWqM8VWO2bZ9Q4-cyVWhDYcrh7i6wvREudXk_1fOmASAQGVze_4-XEu_ZipwWHKGEaQrG95wf0MxZsC6EKqis5Q6Ywei7d62JWfrTYbxSF8X6X8a6TiGKR8p3EyNlU2ymFsZ2qIj-QaewnVuHphrvq86bKiEW0Z9E5bDrZzCYg6cheuqNIxHJbm1OaMicIPipLERLb91WpqXx82zXCpAizeMKhbVhoEpsi9xq1Fku-lhXuJyKN-L25D_zblMLnwqJw.HMgS9dhmpgd_h3mD1Yi_96QhPgBkqMLPvvdO3Y9zHEI&dib_tag=se&keywords=guitar&qid=1708443912&sprefix=guitar%2Caps%2C311&sr=8-38',\n",
       " 'https://www.amazon.in/Perlman-Fretboard-Fingerboard-Stickers-Beginner/dp/B096ZDSWJ4/ref=sr_1_39?crid=1JO4JYZTPGAP7&dib=eyJ2IjoiMSJ9.crxhhcuVe8Gag3-0mnCXJiOSSKJki5hOYLJU7nup4DWqM8VWO2bZ9Q4-cyVWhDYcrh7i6wvREudXk_1fOmASAQGVze_4-XEu_ZipwWHKGEaQrG95wf0MxZsC6EKqis5Q6Ywei7d62JWfrTYbxSF8X6X8a6TiGKR8p3EyNlU2ymFsZ2qIj-QaewnVuHphrvq86bKiEW0Z9E5bDrZzCYg6cheuqNIxHJbm1OaMicIPipLERLb91WpqXx82zXCpAizeMKhbVhoEpsi9xq1Fku-lhXuJyKN-L25D_zblMLnwqJw.HMgS9dhmpgd_h3mD1Yi_96QhPgBkqMLPvvdO3Y9zHEI&dib_tag=se&keywords=guitar&qid=1708443912&sprefix=guitar%2Caps%2C311&sr=8-39',\n",
       " 'https://www.amazon.in/Blueberry-B-D38-Acoustic-Inbuilt-Strings/dp/B07PGV8VCB/ref=sr_1_40?crid=1JO4JYZTPGAP7&dib=eyJ2IjoiMSJ9.crxhhcuVe8Gag3-0mnCXJiOSSKJki5hOYLJU7nup4DWqM8VWO2bZ9Q4-cyVWhDYcrh7i6wvREudXk_1fOmASAQGVze_4-XEu_ZipwWHKGEaQrG95wf0MxZsC6EKqis5Q6Ywei7d62JWfrTYbxSF8X6X8a6TiGKR8p3EyNlU2ymFsZ2qIj-QaewnVuHphrvq86bKiEW0Z9E5bDrZzCYg6cheuqNIxHJbm1OaMicIPipLERLb91WpqXx82zXCpAizeMKhbVhoEpsi9xq1Fku-lhXuJyKN-L25D_zblMLnwqJw.HMgS9dhmpgd_h3mD1Yi_96QhPgBkqMLPvvdO3Y9zHEI&dib_tag=se&keywords=guitar&qid=1708443912&sprefix=guitar%2Caps%2C311&sr=8-40',\n",
       " 'https://www.amazon.in/Fender-String-Cutaway-Acoustic-Guitar/dp/B07YX5W8MV/ref=sr_1_41?crid=1JO4JYZTPGAP7&dib=eyJ2IjoiMSJ9.crxhhcuVe8Gag3-0mnCXJiOSSKJki5hOYLJU7nup4DWqM8VWO2bZ9Q4-cyVWhDYcrh7i6wvREudXk_1fOmASAQGVze_4-XEu_ZipwWHKGEaQrG95wf0MxZsC6EKqis5Q6Ywei7d62JWfrTYbxSF8X6X8a6TiGKR8p3EyNlU2ymFsZ2qIj-QaewnVuHphrvq86bKiEW0Z9E5bDrZzCYg6cheuqNIxHJbm1OaMicIPipLERLb91WpqXx82zXCpAizeMKhbVhoEpsi9xq1Fku-lhXuJyKN-L25D_zblMLnwqJw.HMgS9dhmpgd_h3mD1Yi_96QhPgBkqMLPvvdO3Y9zHEI&dib_tag=se&keywords=guitar&qid=1708443912&sprefix=guitar%2Caps%2C311&sr=8-41',\n",
       " 'https://www.amazon.in/Medellin-Acoustic-Guitar-learning-Strings/dp/B0CCNSN9BV/ref=sr_1_42?crid=1JO4JYZTPGAP7&dib=eyJ2IjoiMSJ9.crxhhcuVe8Gag3-0mnCXJiOSSKJki5hOYLJU7nup4DWqM8VWO2bZ9Q4-cyVWhDYcrh7i6wvREudXk_1fOmASAQGVze_4-XEu_ZipwWHKGEaQrG95wf0MxZsC6EKqis5Q6Ywei7d62JWfrTYbxSF8X6X8a6TiGKR8p3EyNlU2ymFsZ2qIj-QaewnVuHphrvq86bKiEW0Z9E5bDrZzCYg6cheuqNIxHJbm1OaMicIPipLERLb91WpqXx82zXCpAizeMKhbVhoEpsi9xq1Fku-lhXuJyKN-L25D_zblMLnwqJw.HMgS9dhmpgd_h3mD1Yi_96QhPgBkqMLPvvdO3Y9zHEI&dib_tag=se&keywords=guitar&qid=1708443912&sprefix=guitar%2Caps%2C311&sr=8-42',\n",
       " 'https://www.amazon.in/Washburn-String-Acoustic-Electric-Guitar-BTS9VCECH-D/dp/B07TJXQ1TL/ref=sr_1_43?crid=1JO4JYZTPGAP7&dib=eyJ2IjoiMSJ9.crxhhcuVe8Gag3-0mnCXJiOSSKJki5hOYLJU7nup4DWqM8VWO2bZ9Q4-cyVWhDYcrh7i6wvREudXk_1fOmASAQGVze_4-XEu_ZipwWHKGEaQrG95wf0MxZsC6EKqis5Q6Ywei7d62JWfrTYbxSF8X6X8a6TiGKR8p3EyNlU2ymFsZ2qIj-QaewnVuHphrvq86bKiEW0Z9E5bDrZzCYg6cheuqNIxHJbm1OaMicIPipLERLb91WpqXx82zXCpAizeMKhbVhoEpsi9xq1Fku-lhXuJyKN-L25D_zblMLnwqJw.HMgS9dhmpgd_h3mD1Yi_96QhPgBkqMLPvvdO3Y9zHEI&dib_tag=se&keywords=guitar&qid=1708443912&sprefix=guitar%2Caps%2C311&sr=8-43',\n",
       " 'https://www.amazon.in/JUAREZ-JRZ38C-3TSNA/dp/B0BCQQRDF3/ref=sr_1_44?crid=1JO4JYZTPGAP7&dib=eyJ2IjoiMSJ9.crxhhcuVe8Gag3-0mnCXJiOSSKJki5hOYLJU7nup4DWqM8VWO2bZ9Q4-cyVWhDYcrh7i6wvREudXk_1fOmASAQGVze_4-XEu_ZipwWHKGEaQrG95wf0MxZsC6EKqis5Q6Ywei7d62JWfrTYbxSF8X6X8a6TiGKR8p3EyNlU2ymFsZ2qIj-QaewnVuHphrvq86bKiEW0Z9E5bDrZzCYg6cheuqNIxHJbm1OaMicIPipLERLb91WpqXx82zXCpAizeMKhbVhoEpsi9xq1Fku-lhXuJyKN-L25D_zblMLnwqJw.HMgS9dhmpgd_h3mD1Yi_96QhPgBkqMLPvvdO3Y9zHEI&dib_tag=se&keywords=guitar&qid=1708443912&sprefix=guitar%2Caps%2C311&sr=8-44',\n",
       " 'https://www.amazon.in/Intern-INT-38C-Sunburst-Acoustic-Guitar/dp/B07X1J4D3Z/ref=sr_1_45?crid=1JO4JYZTPGAP7&dib=eyJ2IjoiMSJ9.crxhhcuVe8Gag3-0mnCXJiOSSKJki5hOYLJU7nup4DWqM8VWO2bZ9Q4-cyVWhDYcrh7i6wvREudXk_1fOmASAQGVze_4-XEu_ZipwWHKGEaQrG95wf0MxZsC6EKqis5Q6Ywei7d62JWfrTYbxSF8X6X8a6TiGKR8p3EyNlU2ymFsZ2qIj-QaewnVuHphrvq86bKiEW0Z9E5bDrZzCYg6cheuqNIxHJbm1OaMicIPipLERLb91WpqXx82zXCpAizeMKhbVhoEpsi9xq1Fku-lhXuJyKN-L25D_zblMLnwqJw.HMgS9dhmpgd_h3mD1Yi_96QhPgBkqMLPvvdO3Y9zHEI&dib_tag=se&keywords=guitar&qid=1708443912&sprefix=guitar%2Caps%2C311&sr=8-45',\n",
       " 'https://www.amazon.in/JRZ38C-Strings-Acoustic-Cutaway-Mahogany/dp/B071JM8C6T/ref=sr_1_46?crid=1JO4JYZTPGAP7&dib=eyJ2IjoiMSJ9.crxhhcuVe8Gag3-0mnCXJiOSSKJki5hOYLJU7nup4DWqM8VWO2bZ9Q4-cyVWhDYcrh7i6wvREudXk_1fOmASAQGVze_4-XEu_ZipwWHKGEaQrG95wf0MxZsC6EKqis5Q6Ywei7d62JWfrTYbxSF8X6X8a6TiGKR8p3EyNlU2ymFsZ2qIj-QaewnVuHphrvq86bKiEW0Z9E5bDrZzCYg6cheuqNIxHJbm1OaMicIPipLERLb91WpqXx82zXCpAizeMKhbVhoEpsi9xq1Fku-lhXuJyKN-L25D_zblMLnwqJw.HMgS9dhmpgd_h3mD1Yi_96QhPgBkqMLPvvdO3Y9zHEI&dib_tag=se&keywords=guitar&qid=1708443912&sprefix=guitar%2Caps%2C311&sr=8-46',\n",
       " 'https://www.amazon.in/JUAREZ-Arpeggio-Acoustic-Rosewood-Fretboard/dp/B08LBHB547/ref=sr_1_47?crid=1JO4JYZTPGAP7&dib=eyJ2IjoiMSJ9.crxhhcuVe8Gag3-0mnCXJiOSSKJki5hOYLJU7nup4DWqM8VWO2bZ9Q4-cyVWhDYcrh7i6wvREudXk_1fOmASAQGVze_4-XEu_ZipwWHKGEaQrG95wf0MxZsC6EKqis5Q6Ywei7d62JWfrTYbxSF8X6X8a6TiGKR8p3EyNlU2ymFsZ2qIj-QaewnVuHphrvq86bKiEW0Z9E5bDrZzCYg6cheuqNIxHJbm1OaMicIPipLERLb91WpqXx82zXCpAizeMKhbVhoEpsi9xq1Fku-lhXuJyKN-L25D_zblMLnwqJw.HMgS9dhmpgd_h3mD1Yi_96QhPgBkqMLPvvdO3Y9zHEI&dib_tag=se&keywords=guitar&qid=1708443912&sprefix=guitar%2Caps%2C311&sr=8-47',\n",
       " 'https://www.amazon.in/Mitansh-Collection-Beginner-Musical-Disclaimer/dp/B0CQVP8MKX/ref=sr_1_48?crid=1JO4JYZTPGAP7&dib=eyJ2IjoiMSJ9.crxhhcuVe8Gag3-0mnCXJiOSSKJki5hOYLJU7nup4DWqM8VWO2bZ9Q4-cyVWhDYcrh7i6wvREudXk_1fOmASAQGVze_4-XEu_ZipwWHKGEaQrG95wf0MxZsC6EKqis5Q6Ywei7d62JWfrTYbxSF8X6X8a6TiGKR8p3EyNlU2ymFsZ2qIj-QaewnVuHphrvq86bKiEW0Z9E5bDrZzCYg6cheuqNIxHJbm1OaMicIPipLERLb91WpqXx82zXCpAizeMKhbVhoEpsi9xq1Fku-lhXuJyKN-L25D_zblMLnwqJw.HMgS9dhmpgd_h3mD1Yi_96QhPgBkqMLPvvdO3Y9zHEI&dib_tag=se&keywords=guitar&qid=1708443912&sprefix=guitar%2Caps%2C311&sr=8-48',\n",
       " 'https://www.amazon.in/PS-Signature-Acoustic-Natural-Strings/dp/B0CK4XXQ7J/ref=sr_1_49?crid=1JO4JYZTPGAP7&dib=eyJ2IjoiMSJ9.crxhhcuVe8Gag3-0mnCXJiOSSKJki5hOYLJU7nup4DWqM8VWO2bZ9Q4-cyVWhDYcrh7i6wvREudXk_1fOmASAQGVze_4-XEu_ZipwWHKGEaQrG95wf0MxZsC6EKqis5Q6Ywei7d62JWfrTYbxSF8X6X8a6TiGKR8p3EyNlU2ymFsZ2qIj-QaewnVuHphrvq86bKiEW0Z9E5bDrZzCYg6cheuqNIxHJbm1OaMicIPipLERLb91WpqXx82zXCpAizeMKhbVhoEpsi9xq1Fku-lhXuJyKN-L25D_zblMLnwqJw.HMgS9dhmpgd_h3mD1Yi_96QhPgBkqMLPvvdO3Y9zHEI&dib_tag=se&keywords=guitar&qid=1708443912&sprefix=guitar%2Caps%2C311&sr=8-49',\n",
       " 'https://www.amazon.in/Acoustic-Beginner-Acustica-Guitarra-Packaging/dp/B09JNVCKFR/ref=sr_1_50?crid=1JO4JYZTPGAP7&dib=eyJ2IjoiMSJ9.crxhhcuVe8Gag3-0mnCXJiOSSKJki5hOYLJU7nup4DWqM8VWO2bZ9Q4-cyVWhDYcrh7i6wvREudXk_1fOmASAQGVze_4-XEu_ZipwWHKGEaQrG95wf0MxZsC6EKqis5Q6Ywei7d62JWfrTYbxSF8X6X8a6TiGKR8p3EyNlU2ymFsZ2qIj-QaewnVuHphrvq86bKiEW0Z9E5bDrZzCYg6cheuqNIxHJbm1OaMicIPipLERLb91WpqXx82zXCpAizeMKhbVhoEpsi9xq1Fku-lhXuJyKN-L25D_zblMLnwqJw.HMgS9dhmpgd_h3mD1Yi_96QhPgBkqMLPvvdO3Y9zHEI&dib_tag=se&keywords=guitar&qid=1708443912&sprefix=guitar%2Caps%2C311&sr=8-50',\n",
       " 'https://www.amazon.in/Kadence-Frontier-Acoustic-Sunburst-Strings/dp/B07T5DMPZ3/ref=sr_1_51?crid=1JO4JYZTPGAP7&dib=eyJ2IjoiMSJ9.crxhhcuVe8Gag3-0mnCXJiOSSKJki5hOYLJU7nup4DWqM8VWO2bZ9Q4-cyVWhDYcrh7i6wvREudXk_1fOmASAQGVze_4-XEu_ZipwWHKGEaQrG95wf0MxZsC6EKqis5Q6Ywei7d62JWfrTYbxSF8X6X8a6TiGKR8p3EyNlU2ymFsZ2qIj-QaewnVuHphrvq86bKiEW0Z9E5bDrZzCYg6cheuqNIxHJbm1OaMicIPipLERLb91WpqXx82zXCpAizeMKhbVhoEpsi9xq1Fku-lhXuJyKN-L25D_zblMLnwqJw.HMgS9dhmpgd_h3mD1Yi_96QhPgBkqMLPvvdO3Y9zHEI&dib_tag=se&keywords=guitar&qid=1708443912&sprefix=guitar%2Caps%2C311&sr=8-51',\n",
       " 'https://www.amazon.in/PS-Signature-41inch-Acoustic-Strings/dp/B0CGXL3VKG/ref=sr_1_52?crid=1JO4JYZTPGAP7&dib=eyJ2IjoiMSJ9.crxhhcuVe8Gag3-0mnCXJiOSSKJki5hOYLJU7nup4DWqM8VWO2bZ9Q4-cyVWhDYcrh7i6wvREudXk_1fOmASAQGVze_4-XEu_ZipwWHKGEaQrG95wf0MxZsC6EKqis5Q6Ywei7d62JWfrTYbxSF8X6X8a6TiGKR8p3EyNlU2ymFsZ2qIj-QaewnVuHphrvq86bKiEW0Z9E5bDrZzCYg6cheuqNIxHJbm1OaMicIPipLERLb91WpqXx82zXCpAizeMKhbVhoEpsi9xq1Fku-lhXuJyKN-L25D_zblMLnwqJw.HMgS9dhmpgd_h3mD1Yi_96QhPgBkqMLPvvdO3Y9zHEI&dib_tag=se&keywords=guitar&qid=1708443912&sprefix=guitar%2Caps%2C311&sr=8-52',\n",
       " 'https://www.amazon.in/Fender-Dread-String-Acoustic-Guitar/dp/B07RL6VG3H/ref=sr_1_53?crid=1JO4JYZTPGAP7&dib=eyJ2IjoiMSJ9.crxhhcuVe8Gag3-0mnCXJiOSSKJki5hOYLJU7nup4DWqM8VWO2bZ9Q4-cyVWhDYcrh7i6wvREudXk_1fOmASAQGVze_4-XEu_ZipwWHKGEaQrG95wf0MxZsC6EKqis5Q6Ywei7d62JWfrTYbxSF8X6X8a6TiGKR8p3EyNlU2ymFsZ2qIj-QaewnVuHphrvq86bKiEW0Z9E5bDrZzCYg6cheuqNIxHJbm1OaMicIPipLERLb91WpqXx82zXCpAizeMKhbVhoEpsi9xq1Fku-lhXuJyKN-L25D_zblMLnwqJw.HMgS9dhmpgd_h3mD1Yi_96QhPgBkqMLPvvdO3Y9zHEI&dib_tag=se&keywords=guitar&qid=1708443912&sprefix=guitar%2Caps%2C311&sr=8-53',\n",
       " 'https://www.amazon.in/Kadence-Astro-Electric-Guitar-FRETS/dp/B0CNRS4KXB/ref=sr_1_54?crid=1JO4JYZTPGAP7&dib=eyJ2IjoiMSJ9.crxhhcuVe8Gag3-0mnCXJiOSSKJki5hOYLJU7nup4DWqM8VWO2bZ9Q4-cyVWhDYcrh7i6wvREudXk_1fOmASAQGVze_4-XEu_ZipwWHKGEaQrG95wf0MxZsC6EKqis5Q6Ywei7d62JWfrTYbxSF8X6X8a6TiGKR8p3EyNlU2ymFsZ2qIj-QaewnVuHphrvq86bKiEW0Z9E5bDrZzCYg6cheuqNIxHJbm1OaMicIPipLERLb91WpqXx82zXCpAizeMKhbVhoEpsi9xq1Fku-lhXuJyKN-L25D_zblMLnwqJw.HMgS9dhmpgd_h3mD1Yi_96QhPgBkqMLPvvdO3Y9zHEI&dib_tag=se&keywords=guitar&qid=1708443912&sprefix=guitar%2Caps%2C311&sr=8-54',\n",
       " 'https://www.amazon.in/Juarez-Acoustic-Cutaway-BK-Strings/dp/B076T3RHMG/ref=sr_1_55?crid=1JO4JYZTPGAP7&dib=eyJ2IjoiMSJ9.crxhhcuVe8Gag3-0mnCXJiOSSKJki5hOYLJU7nup4DWqM8VWO2bZ9Q4-cyVWhDYcrh7i6wvREudXk_1fOmASAQGVze_4-XEu_ZipwWHKGEaQrG95wf0MxZsC6EKqis5Q6Ywei7d62JWfrTYbxSF8X6X8a6TiGKR8p3EyNlU2ymFsZ2qIj-QaewnVuHphrvq86bKiEW0Z9E5bDrZzCYg6cheuqNIxHJbm1OaMicIPipLERLb91WpqXx82zXCpAizeMKhbVhoEpsi9xq1Fku-lhXuJyKN-L25D_zblMLnwqJw.HMgS9dhmpgd_h3mD1Yi_96QhPgBkqMLPvvdO3Y9zHEI&dib_tag=se&keywords=guitar&qid=1708443912&sprefix=guitar%2Caps%2C311&sr=8-55',\n",
       " 'https://www.amazon.in/Swami-Enterprise-4-String-Acoustic-Instrument/dp/B095LR581N/ref=sr_1_56?crid=1JO4JYZTPGAP7&dib=eyJ2IjoiMSJ9.crxhhcuVe8Gag3-0mnCXJiOSSKJki5hOYLJU7nup4DWqM8VWO2bZ9Q4-cyVWhDYcrh7i6wvREudXk_1fOmASAQGVze_4-XEu_ZipwWHKGEaQrG95wf0MxZsC6EKqis5Q6Ywei7d62JWfrTYbxSF8X6X8a6TiGKR8p3EyNlU2ymFsZ2qIj-QaewnVuHphrvq86bKiEW0Z9E5bDrZzCYg6cheuqNIxHJbm1OaMicIPipLERLb91WpqXx82zXCpAizeMKhbVhoEpsi9xq1Fku-lhXuJyKN-L25D_zblMLnwqJw.HMgS9dhmpgd_h3mD1Yi_96QhPgBkqMLPvvdO3Y9zHEI&dib_tag=se&keywords=guitar&qid=1708443912&sprefix=guitar%2Caps%2C311&sr=8-56',\n",
       " 'https://www.amazon.in/sspa/click?ie=UTF8&spc=MTo0NDM3NjcwMDEwNzYwMDUwOjE3MDg0NDM5MTI6c3BfYnRmOjMwMDEzMjcxNDU5OTgzMjo6MDo6&url=%2FGuitar-Tailpiece-Guitars-Bridge-Replacement%2Fdp%2FB0BWYSZW1Y%2Fref%3Dsr_1_57_sspa%3Fcrid%3D1JO4JYZTPGAP7%26dib%3DeyJ2IjoiMSJ9.crxhhcuVe8Gag3-0mnCXJiOSSKJki5hOYLJU7nup4DWqM8VWO2bZ9Q4-cyVWhDYcrh7i6wvREudXk_1fOmASAQGVze_4-XEu_ZipwWHKGEaQrG95wf0MxZsC6EKqis5Q6Ywei7d62JWfrTYbxSF8X6X8a6TiGKR8p3EyNlU2ymFsZ2qIj-QaewnVuHphrvq86bKiEW0Z9E5bDrZzCYg6cheuqNIxHJbm1OaMicIPipLERLb91WpqXx82zXCpAizeMKhbVhoEpsi9xq1Fku-lhXuJyKN-L25D_zblMLnwqJw.HMgS9dhmpgd_h3mD1Yi_96QhPgBkqMLPvvdO3Y9zHEI%26dib_tag%3Dse%26keywords%3Dguitar%26qid%3D1708443912%26sprefix%3Dguitar%252Caps%252C311%26sr%3D8-57-spons%26sp_csd%3Dd2lkZ2V0TmFtZT1zcF9idGY%26psc%3D1',\n",
       " 'https://www.amazon.in/sspa/click?ie=UTF8&spc=MTo0NDM3NjcwMDEwNzYwMDUwOjE3MDg0NDM5MTI6c3BfYnRmOjMwMDExODEzMTQ4MTYzMjo6MDo6&url=%2FAcoustic-Guitar-Cutaway-Strings-Strap%2Fdp%2FB08NTC4KG4%2Fref%3Dsr_1_58_sspa%3Fcrid%3D1JO4JYZTPGAP7%26dib%3DeyJ2IjoiMSJ9.crxhhcuVe8Gag3-0mnCXJiOSSKJki5hOYLJU7nup4DWqM8VWO2bZ9Q4-cyVWhDYcrh7i6wvREudXk_1fOmASAQGVze_4-XEu_ZipwWHKGEaQrG95wf0MxZsC6EKqis5Q6Ywei7d62JWfrTYbxSF8X6X8a6TiGKR8p3EyNlU2ymFsZ2qIj-QaewnVuHphrvq86bKiEW0Z9E5bDrZzCYg6cheuqNIxHJbm1OaMicIPipLERLb91WpqXx82zXCpAizeMKhbVhoEpsi9xq1Fku-lhXuJyKN-L25D_zblMLnwqJw.HMgS9dhmpgd_h3mD1Yi_96QhPgBkqMLPvvdO3Y9zHEI%26dib_tag%3Dse%26keywords%3Dguitar%26qid%3D1708443912%26sprefix%3Dguitar%252Caps%252C311%26sr%3D8-58-spons%26sp_csd%3Dd2lkZ2V0TmFtZT1zcF9idGY%26psc%3D1',\n",
       " 'https://www.amazon.in/sspa/click?ie=UTF8&spc=MTo0NDM3NjcwMDEwNzYwMDUwOjE3MDg0NDM5MTI6c3BfYnRmOjMwMDEzNDY2MDUzMTMzMjo6MDo6&url=%2FSamara-SA39CE-Cutaway-Electro-Acoustic-Guitar%2Fdp%2FB09DT19ZDK%2Fref%3Dsr_1_59_sspa%3Fcrid%3D1JO4JYZTPGAP7%26dib%3DeyJ2IjoiMSJ9.crxhhcuVe8Gag3-0mnCXJiOSSKJki5hOYLJU7nup4DWqM8VWO2bZ9Q4-cyVWhDYcrh7i6wvREudXk_1fOmASAQGVze_4-XEu_ZipwWHKGEaQrG95wf0MxZsC6EKqis5Q6Ywei7d62JWfrTYbxSF8X6X8a6TiGKR8p3EyNlU2ymFsZ2qIj-QaewnVuHphrvq86bKiEW0Z9E5bDrZzCYg6cheuqNIxHJbm1OaMicIPipLERLb91WpqXx82zXCpAizeMKhbVhoEpsi9xq1Fku-lhXuJyKN-L25D_zblMLnwqJw.HMgS9dhmpgd_h3mD1Yi_96QhPgBkqMLPvvdO3Y9zHEI%26dib_tag%3Dse%26keywords%3Dguitar%26qid%3D1708443912%26sprefix%3Dguitar%252Caps%252C311%26sr%3D8-59-spons%26sp_csd%3Dd2lkZ2V0TmFtZT1zcF9idGY%26psc%3D1',\n",
       " 'https://www.amazon.in/sspa/click?ie=UTF8&spc=MTo0NDM3NjcwMDEwNzYwMDUwOjE3MDg0NDM5MTI6c3BfYnRmOjMwMDExMzg5MzQwMjEzMjo6MDo6&url=%2FDEVICE-URBAN-INFOTECH-Beginners-Guitarists%2Fdp%2FB0CR7DPXQN%2Fref%3Dsr_1_60_sspa%3Fcrid%3D1JO4JYZTPGAP7%26dib%3DeyJ2IjoiMSJ9.crxhhcuVe8Gag3-0mnCXJiOSSKJki5hOYLJU7nup4DWqM8VWO2bZ9Q4-cyVWhDYcrh7i6wvREudXk_1fOmASAQGVze_4-XEu_ZipwWHKGEaQrG95wf0MxZsC6EKqis5Q6Ywei7d62JWfrTYbxSF8X6X8a6TiGKR8p3EyNlU2ymFsZ2qIj-QaewnVuHphrvq86bKiEW0Z9E5bDrZzCYg6cheuqNIxHJbm1OaMicIPipLERLb91WpqXx82zXCpAizeMKhbVhoEpsi9xq1Fku-lhXuJyKN-L25D_zblMLnwqJw.HMgS9dhmpgd_h3mD1Yi_96QhPgBkqMLPvvdO3Y9zHEI%26dib_tag%3Dse%26keywords%3Dguitar%26qid%3D1708443912%26sprefix%3Dguitar%252Caps%252C311%26sr%3D8-60-spons%26sp_csd%3Dd2lkZ2V0TmFtZT1zcF9idGY%26psc%3D1',\n",
       " 'https://aax-eu.amazon.in/x/c/RImFHO5bRbBT_e3WfvZ1zEEAAAGNxzFKkQMAAAH2AQBvbm9fdHhuX2JpZDIgICBvbm9fdHhuX2ltcDEgICAK6s_e/https://www.amazon.in/Mackie-Studio-Bundle-Series/dp/B083NGKYJD/ref=sxbs_sbv_search_btf?content-id=amzn1.sym.7d6d801d-0b91-42f0-9ded-a1900c21a285%3Aamzn1.sym.7d6d801d-0b91-42f0-9ded-a1900c21a285&crid=1JO4JYZTPGAP7&cv_ct_cx=guitar&dib=eyJ2IjoiMSJ9.a34JFiLle_ZzPSm4UtLBiA.ZpacdWTU9HN0h5qYQlse4CqxUXeRWS0NZmpCLSiZFy4&dib_tag=se&keywords=guitar&pd_rd_i=B083NGKYJD&pd_rd_r=25b279ce-0a3f-4b36-af67-875a38b24e35&pd_rd_w=lICPA&pd_rd_wg=ySJAx&pf_rd_p=7d6d801d-0b91-42f0-9ded-a1900c21a285&pf_rd_r=N9DBF7YCYYPRRPZVZAD5&qid=1708443912&sbo=RZvfv%2F%2FHxDF%2BO5021pAnSA%3D%3D&sprefix=guitar%2Caps%2C311&sr=1-1-25dedf61-9bde-4412-952b-c956ef4fc546']"
      ]
     },
     "execution_count": 9,
     "metadata": {},
     "output_type": "execute_result"
    }
   ],
   "source": [
    "product_urls=[]\n",
    "start=0\n",
    "end=3\n",
    "for page in range(start,end):\n",
    "    url=driver.find_elements(By.XPATH,'//a[@class=\"a-link-normal s-underline-text s-underline-link-text s-link-style a-text-normal\"]')\n",
    "    for i in url:\n",
    "        product_urls.append(i.get_attribute('href'))\n",
    "    next_btn=driver.find_elements(By.XPATH,'/html/body/div[1]/div[1]/div[1]/div[1]/div/span[1]/div[1]/div[67]/div/div/span/a[3]')\n",
    "    \n",
    "    time.sleep(5)\n",
    "product_urls"
   ]
  },
  {
   "cell_type": "code",
   "execution_count": 10,
   "id": "206dfa59",
   "metadata": {},
   "outputs": [
    {
     "data": {
      "text/plain": [
       "186"
      ]
     },
     "execution_count": 10,
     "metadata": {},
     "output_type": "execute_result"
    }
   ],
   "source": [
    "len(product_urls)"
   ]
  },
  {
   "cell_type": "code",
   "execution_count": 11,
   "id": "0bc5a2c3",
   "metadata": {},
   "outputs": [],
   "source": [
    "brand_name=[]\n",
    "price=[]\n",
    "availability=[]\n",
    "expected_del=[]\n",
    "return_exchange=[]\n"
   ]
  },
  {
   "cell_type": "code",
   "execution_count": 12,
   "id": "8a1ffcc7",
   "metadata": {},
   "outputs": [],
   "source": [
    "for url in product_urls:\n",
    "    driver.get(url)\n",
    "    time.sleep(10)\n",
    "    try:\n",
    "        brand=driver.find_elements(By.XPATH,'//span[@class=\"a-size-large product-title-word-break\"]')\n",
    "        for i in brand:\n",
    "            brand_name.append(i.text)\n",
    "    except NoSuchElementException:\n",
    "        brand_name.append('-')\n",
    "        \n",
    "    try:\n",
    "        prices=driver.find_elements(By.XPATH,'//span[@class=\"a-price-whole\"]')\n",
    "        for i in prices:\n",
    "            price.append(i.text)\n",
    "    except NoSuchElementException:\n",
    "        price.append('-')\n",
    "        \n",
    "    try:\n",
    "        avail=driver.find_elements(By.XPATH,'//div[@class=\"a-section a-spacing-none a-spacing-top-micro }\"]')\n",
    "        for i in avail:\n",
    "            availability.append(i.text)\n",
    "    except NoSuchElementException:\n",
    "        availability.append('-')\n",
    "        \n",
    "    try:\n",
    "        delivery=driver.find_elements(By.XPATH,'//span[@class=\"a-text-bold\"]')\n",
    "        for i in delivery:\n",
    "            expected_del.append(i.text)\n",
    "    except NoSuchElementException:\n",
    "        expected_del.append('-')\n",
    "        \n",
    "    try:\n",
    "        return_exch=driver.find_elements(By.XPATH,'//div[@id=\"availability\"]/span')\n",
    "        for i in return_exch:\n",
    "            return_exchange.append(i.text)\n",
    "    except NoSuchElementException:\n",
    "        return_exchange.append('-')\n",
    "        \n",
    "        time.sleep(10)\n",
    "        \n",
    "        "
   ]
  },
  {
   "cell_type": "code",
   "execution_count": 13,
   "id": "0ed3b71e",
   "metadata": {},
   "outputs": [
    {
     "name": "stdout",
     "output_type": "stream",
     "text": [
      "186 3603 183 1455 189\n"
     ]
    }
   ],
   "source": [
    "print(len(brand_name),len(price),len(availability),len(expected_del),len(return_exchange))"
   ]
  },
  {
   "cell_type": "code",
   "execution_count": 14,
   "id": "c7fdbeef",
   "metadata": {},
   "outputs": [],
   "source": [
    "import pandas as pd"
   ]
  },
  {
   "cell_type": "code",
   "execution_count": 18,
   "id": "9731d758",
   "metadata": {},
   "outputs": [
    {
     "data": {
      "text/html": [
       "<div>\n",
       "<style scoped>\n",
       "    .dataframe tbody tr th:only-of-type {\n",
       "        vertical-align: middle;\n",
       "    }\n",
       "\n",
       "    .dataframe tbody tr th {\n",
       "        vertical-align: top;\n",
       "    }\n",
       "\n",
       "    .dataframe thead th {\n",
       "        text-align: right;\n",
       "    }\n",
       "</style>\n",
       "<table border=\"1\" class=\"dataframe\">\n",
       "  <thead>\n",
       "    <tr style=\"text-align: right;\">\n",
       "      <th></th>\n",
       "      <th>Brands</th>\n",
       "      <th>Price</th>\n",
       "      <th>Expected_Delivery</th>\n",
       "      <th>Availability</th>\n",
       "      <th>Product_Url</th>\n",
       "    </tr>\n",
       "  </thead>\n",
       "  <tbody>\n",
       "    <tr>\n",
       "      <th>0</th>\n",
       "      <td>Kadence Frontier guitar with Online Guitar lea...</td>\n",
       "      <td>4,499</td>\n",
       "      <td>Saturday, 24 February</td>\n",
       "      <td>In stock</td>\n",
       "      <td>https://www.amazon.in/sspa/click?ie=UTF8&amp;spc=M...</td>\n",
       "    </tr>\n",
       "    <tr>\n",
       "      <th>1</th>\n",
       "      <td>Kadence rosewood Guitar Frontier Series, Elect...</td>\n",
       "      <td></td>\n",
       "      <td></td>\n",
       "      <td>In stock</td>\n",
       "      <td>https://www.amazon.in/sspa/click?ie=UTF8&amp;spc=M...</td>\n",
       "    </tr>\n",
       "    <tr>\n",
       "      <th>2</th>\n",
       "      <td>Henrix 38C 38 Inch Cutaway Acoustic Guitar Wit...</td>\n",
       "      <td></td>\n",
       "      <td></td>\n",
       "      <td>In stock</td>\n",
       "      <td>https://www.amazon.in/sspa/click?ie=UTF8&amp;spc=M...</td>\n",
       "    </tr>\n",
       "    <tr>\n",
       "      <th>3</th>\n",
       "      <td>Kadence Slowhand Premium Jumbo Semi Acoustic G...</td>\n",
       "      <td></td>\n",
       "      <td></td>\n",
       "      <td>In stock</td>\n",
       "      <td>https://www.amazon.in/sspa/click?ie=UTF8&amp;spc=M...</td>\n",
       "    </tr>\n",
       "    <tr>\n",
       "      <th>4</th>\n",
       "      <td>Intern INT-38C Right hand Acoustic Guitar Kit,...</td>\n",
       "      <td></td>\n",
       "      <td></td>\n",
       "      <td>In stock</td>\n",
       "      <td>https://www.amazon.in/Intern-INT-38C-Acoustic-...</td>\n",
       "    </tr>\n",
       "    <tr>\n",
       "      <th>...</th>\n",
       "      <td>...</td>\n",
       "      <td>...</td>\n",
       "      <td>...</td>\n",
       "      <td>...</td>\n",
       "      <td>...</td>\n",
       "    </tr>\n",
       "    <tr>\n",
       "      <th>175</th>\n",
       "      <td>Kadence Frontier Series 40 Incheses wood Semi ...</td>\n",
       "      <td></td>\n",
       "      <td></td>\n",
       "      <td>In stock</td>\n",
       "      <td>https://www.amazon.in/Kadence-Frontier-Acousti...</td>\n",
       "    </tr>\n",
       "    <tr>\n",
       "      <th>176</th>\n",
       "      <td>PS Signature 41inch Acoustic Guitar Black Matt...</td>\n",
       "      <td></td>\n",
       "      <td></td>\n",
       "      <td>In stock</td>\n",
       "      <td>https://www.amazon.in/PS-Signature-41inch-Acou...</td>\n",
       "    </tr>\n",
       "    <tr>\n",
       "      <th>177</th>\n",
       "      <td>Fender Acoustic Guitar Dreadnought CD60 V3 Nat...</td>\n",
       "      <td></td>\n",
       "      <td></td>\n",
       "      <td>Only 2 left in stock.</td>\n",
       "      <td>https://www.amazon.in/Fender-Dread-String-Acou...</td>\n",
       "    </tr>\n",
       "    <tr>\n",
       "      <th>178</th>\n",
       "      <td>Kadence Astro Man Electric Guitar, 21 FRETS, H...</td>\n",
       "      <td></td>\n",
       "      <td></td>\n",
       "      <td>In stock</td>\n",
       "      <td>https://www.amazon.in/Kadence-Astro-Electric-G...</td>\n",
       "    </tr>\n",
       "    <tr>\n",
       "      <th>179</th>\n",
       "      <td>Juarez Acoustic Guitar, [ LEFT HANDED] 38 Inch...</td>\n",
       "      <td>7,289</td>\n",
       "      <td>Thursday, 29 February</td>\n",
       "      <td>Only 1 left in stock.</td>\n",
       "      <td>https://www.amazon.in/Juarez-Acoustic-Cutaway-...</td>\n",
       "    </tr>\n",
       "  </tbody>\n",
       "</table>\n",
       "<p>180 rows × 5 columns</p>\n",
       "</div>"
      ],
      "text/plain": [
       "                                                Brands  Price  \\\n",
       "0    Kadence Frontier guitar with Online Guitar lea...  4,499   \n",
       "1    Kadence rosewood Guitar Frontier Series, Elect...          \n",
       "2    Henrix 38C 38 Inch Cutaway Acoustic Guitar Wit...          \n",
       "3    Kadence Slowhand Premium Jumbo Semi Acoustic G...          \n",
       "4    Intern INT-38C Right hand Acoustic Guitar Kit,...          \n",
       "..                                                 ...    ...   \n",
       "175  Kadence Frontier Series 40 Incheses wood Semi ...          \n",
       "176  PS Signature 41inch Acoustic Guitar Black Matt...          \n",
       "177  Fender Acoustic Guitar Dreadnought CD60 V3 Nat...          \n",
       "178  Kadence Astro Man Electric Guitar, 21 FRETS, H...          \n",
       "179  Juarez Acoustic Guitar, [ LEFT HANDED] 38 Inch...  7,289   \n",
       "\n",
       "         Expected_Delivery           Availability  \\\n",
       "0    Saturday, 24 February               In stock   \n",
       "1                                        In stock   \n",
       "2                                        In stock   \n",
       "3                                        In stock   \n",
       "4                                        In stock   \n",
       "..                     ...                    ...   \n",
       "175                                      In stock   \n",
       "176                                      In stock   \n",
       "177                         Only 2 left in stock.   \n",
       "178                                      In stock   \n",
       "179  Thursday, 29 February  Only 1 left in stock.   \n",
       "\n",
       "                                           Product_Url  \n",
       "0    https://www.amazon.in/sspa/click?ie=UTF8&spc=M...  \n",
       "1    https://www.amazon.in/sspa/click?ie=UTF8&spc=M...  \n",
       "2    https://www.amazon.in/sspa/click?ie=UTF8&spc=M...  \n",
       "3    https://www.amazon.in/sspa/click?ie=UTF8&spc=M...  \n",
       "4    https://www.amazon.in/Intern-INT-38C-Acoustic-...  \n",
       "..                                                 ...  \n",
       "175  https://www.amazon.in/Kadence-Frontier-Acousti...  \n",
       "176  https://www.amazon.in/PS-Signature-41inch-Acou...  \n",
       "177  https://www.amazon.in/Fender-Dread-String-Acou...  \n",
       "178  https://www.amazon.in/Kadence-Astro-Electric-G...  \n",
       "179  https://www.amazon.in/Juarez-Acoustic-Cutaway-...  \n",
       "\n",
       "[180 rows x 5 columns]"
      ]
     },
     "execution_count": 18,
     "metadata": {},
     "output_type": "execute_result"
    }
   ],
   "source": [
    "df= pd.DataFrame({'Brands':brand_name[:180],\n",
    "                  'Price':price[:180],\n",
    "                  'Expected_Delivery':expected_del[:180],\n",
    "                  'Availability':availability[:180],\n",
    "                  'Product_Url':product_urls[:180]})\n",
    "df"
   ]
  },
  {
   "cell_type": "code",
   "execution_count": 19,
   "id": "c13cd986",
   "metadata": {},
   "outputs": [],
   "source": [
    "driver.close()"
   ]
  },
  {
   "cell_type": "markdown",
   "id": "db04abae",
   "metadata": {
    "collapsed": true
   },
   "source": [
    "3. Write a python program to access the search bar and search button on images.google.com and scrape 10\n",
    "images each for keywords ‘fruits’, ‘cars’ and ‘Machine Learning’, ‘Guitar’, ‘Cakes’."
   ]
  },
  {
   "cell_type": "code",
   "execution_count": 4,
   "id": "6582217d",
   "metadata": {},
   "outputs": [],
   "source": [
    "driver=webdriver.Chrome()\n",
    "driver.get('https://images.google.com')"
   ]
  },
  {
   "cell_type": "code",
   "execution_count": 5,
   "id": "f5faa213",
   "metadata": {},
   "outputs": [],
   "source": [
    "search_bar=driver.find_element(By.CLASS_NAME,'gLFyf')\n",
    "search_bar.send_keys('cakes')\n",
    "\n"
   ]
  },
  {
   "cell_type": "code",
   "execution_count": 6,
   "id": "1b44b30f",
   "metadata": {},
   "outputs": [],
   "source": [
    "search_btn=driver.find_element(By.XPATH,'/html/body/div[1]/div[3]/form/div[1]/div[1]/div[1]/button/div/span')\n",
    "search_btn.click()"
   ]
  },
  {
   "cell_type": "code",
   "execution_count": 12,
   "id": "907fbfff",
   "metadata": {
    "scrolled": true
   },
   "outputs": [
    {
     "data": {
      "text/plain": [
       "174"
      ]
     },
     "execution_count": 12,
     "metadata": {},
     "output_type": "execute_result"
    }
   ],
   "source": [
    "for _ in range(20):\n",
    "    driver.execute_script(\"window.scrollBy(0,500)\")\n",
    "img_urls=[]\n",
    "images=driver.find_elements(By.XPATH,'//img[@class=\"YQ4gaf\"]')\n",
    "for image in images:\n",
    "    source= image.get_attribute('src')\n",
    "    if source is not None:\n",
    "        if(source[0:4]=='http'):\n",
    "            img_urls.append(source)\n",
    "\n",
    "len(img_urls)"
   ]
  },
  {
   "cell_type": "code",
   "execution_count": 17,
   "id": "4a1afdd2",
   "metadata": {},
   "outputs": [
    {
     "name": "stdout",
     "output_type": "stream",
     "text": [
      "Downloading 0 of 10 images\n",
      "Downloading 1 of 10 images\n",
      "Downloading 2 of 10 images\n",
      "Downloading 3 of 10 images\n",
      "Downloading 4 of 10 images\n",
      "Downloading 5 of 10 images\n",
      "Downloading 6 of 10 images\n",
      "Downloading 7 of 10 images\n",
      "Downloading 8 of 10 images\n",
      "Downloading 9 of 10 images\n"
     ]
    }
   ],
   "source": [
    "for i in range(len(img_urls)):\n",
    "    if i >= 10:\n",
    "        break\n",
    "    print(\"Downloading {0} of {1} images\" .format(i, 10))\n",
    "    response= requests.get(img_urls[i])\n",
    "    file = open(r\"C:\\Users\\Suneel Dutt\\OneDrive\\Pictures\\img\"+str(i)+\".jpg\", \"wb\")\n",
    "    file.write(response.content)"
   ]
  },
  {
   "cell_type": "code",
   "execution_count": 18,
   "id": "a543a4c4",
   "metadata": {},
   "outputs": [],
   "source": [
    "driver.close()"
   ]
  },
  {
   "cell_type": "markdown",
   "id": "c2a45b35",
   "metadata": {},
   "source": [
    "4. Write a python program to search for a smartphone(e.g.: Oneplus Nord, pixel 4A, etc.) on www.flipkart.com\n",
    "and scrape following details for all the search results displayed on 1st page. Details to be scraped: “Brand\n",
    "Name”, “Smartphone name”, “Colour”, “RAM”, “Storage(ROM)”, “Primary Camera”,\n",
    "“Secondary Camera”, “Display Size”, “Battery Capacity”, “Price”, “Product URL”. Incase if any of the\n",
    "details is missing then replace it by “- “. Save your results in a dataframe and CSV."
   ]
  },
  {
   "cell_type": "code",
   "execution_count": 240,
   "id": "7225457d",
   "metadata": {},
   "outputs": [],
   "source": [
    "driver= webdriver.Chrome()"
   ]
  },
  {
   "cell_type": "code",
   "execution_count": 241,
   "id": "8d70da38",
   "metadata": {},
   "outputs": [],
   "source": [
    "driver.get('https://www.flipkart.com/')\n"
   ]
  },
  {
   "cell_type": "code",
   "execution_count": 242,
   "id": "8d7e9395",
   "metadata": {},
   "outputs": [],
   "source": [
    "smart_phn= driver.find_element(By.CLASS_NAME,'Pke_EE')\n",
    "smart_phn.send_keys('smartphone')"
   ]
  },
  {
   "cell_type": "code",
   "execution_count": 243,
   "id": "098b719e",
   "metadata": {},
   "outputs": [],
   "source": [
    "search=driver.find_element(By.XPATH,'//button[@class=\"_2iLD__\"]')\n",
    "search.click()"
   ]
  },
  {
   "cell_type": "code",
   "execution_count": 248,
   "id": "3e24382d",
   "metadata": {},
   "outputs": [
    {
     "data": {
      "text/plain": [
       "['Apple iPhone 15 (Blue, 128 GB)',\n",
       " 'Motorola G34 5G (Ocean Green, 128 GB)',\n",
       " 'Apple iPhone 15 (Black, 128 GB)',\n",
       " 'Apple iPhone 15 (Green, 128 GB)',\n",
       " 'Motorola G34 5G (Ice Blue, 128 GB)',\n",
       " 'vivo T2 5G (Nitro Blaze, 128 GB)',\n",
       " 'vivo T2 5G (Velocity Wave, 128 GB)',\n",
       " 'REDMI 12 5G (Moonstone Silver, 128 GB)',\n",
       " 'Motorola G34 5G (Ocean Green, 128 GB)',\n",
       " 'vivo T2 5G (Nitro Blaze, 128 GB)',\n",
       " 'Apple iPhone 14 (Midnight, 128 GB)',\n",
       " 'Apple iPhone 15 (Pink, 128 GB)',\n",
       " 'Motorola g54 5G (Midnight Blue, 128 GB)',\n",
       " 'vivo T2 5G (Velocity Wave, 128 GB)',\n",
       " 'Motorola g54 5G (Mint Green, 128 GB)',\n",
       " 'SAMSUNG Galaxy F04 (Opal Green, 64 GB)',\n",
       " 'POCO C51 (Royal Blue, 64 GB)',\n",
       " 'Motorola g54 5G (Mint Green, 256 GB)',\n",
       " 'Motorola Edge 40 Neo (Caneel Bay, 128 GB)',\n",
       " 'POCO M6 5G (Orion Blue, 128 GB)',\n",
       " 'POCO C51 (Power Black, 128 GB)',\n",
       " 'Apple iPhone 14 (Blue, 128 GB)',\n",
       " 'Motorola g54 5G (Midnight Blue, 256 GB)',\n",
       " 'Motorola Edge 40 Neo (Soothing Sea, 128 GB)']"
      ]
     },
     "execution_count": 248,
     "metadata": {},
     "output_type": "execute_result"
    }
   ],
   "source": [
    "brand_name=[]\n",
    "brand_tags=driver.find_elements(By.XPATH,'//div[@class=\"_4rR01T\"]')\n",
    "for i in brand_tags:\n",
    "    if i.text is None:\n",
    "        brand_name.append(\"--\")\n",
    "    else:\n",
    "        brand_name.append(i.text)\n",
    "brand_name"
   ]
  },
  {
   "cell_type": "code",
   "execution_count": 249,
   "id": "9fbba9b0",
   "metadata": {},
   "outputs": [
    {
     "data": {
      "text/plain": [
       "24"
      ]
     },
     "execution_count": 249,
     "metadata": {},
     "output_type": "execute_result"
    }
   ],
   "source": [
    "len(brand_name)"
   ]
  },
  {
   "cell_type": "code",
   "execution_count": 253,
   "id": "083a1420",
   "metadata": {},
   "outputs": [
    {
     "data": {
      "text/plain": [
       "['128 GB ROM',\n",
       " '8 GB RAM | 128 GB ROM',\n",
       " '128 GB ROM',\n",
       " '128 GB ROM',\n",
       " '8 GB RAM | 128 GB ROM',\n",
       " '8 GB RAM | 128 GB ROM',\n",
       " '6 GB RAM | 128 GB ROM',\n",
       " '6 GB RAM | 128 GB ROM | Expandable Upto 1 TB',\n",
       " '4 GB RAM | 128 GB ROM',\n",
       " '6 GB RAM | 128 GB ROM',\n",
       " '128 GB ROM',\n",
       " '128 GB ROM',\n",
       " '8 GB RAM | 128 GB ROM | Expandable Upto 1 TB',\n",
       " '8 GB RAM | 128 GB ROM',\n",
       " '8 GB RAM | 128 GB ROM | Expandable Upto 1 TB',\n",
       " '4 GB RAM | 64 GB ROM | Expandable Upto 1 TB',\n",
       " '4 GB RAM | 64 GB ROM | Expandable Upto 1 TB',\n",
       " '12 GB RAM | 256 GB ROM | Expandable Upto 1 TB',\n",
       " '8 GB RAM | 128 GB ROM',\n",
       " '4 GB RAM | 128 GB ROM | Expandable Upto 1 TB',\n",
       " '6 GB RAM | 128 GB ROM | Expandable Upto 1 TB',\n",
       " '128 GB ROM',\n",
       " '12 GB RAM | 256 GB ROM | Expandable Upto 1 TB',\n",
       " '8 GB RAM | 128 GB ROM']"
      ]
     },
     "execution_count": 253,
     "metadata": {},
     "output_type": "execute_result"
    }
   ],
   "source": [
    "storage_rom=[]\n",
    "rom= driver.find_elements(By.XPATH,\"//ul[@class='_1xgFaf']//li[1]\")\n",
    "for i in rom:\n",
    "    if i.text is None:\n",
    "        storage_rom.append(\"--\")\n",
    "    else:\n",
    "        storage_rom.append(i.text)\n",
    "storage_rom\n",
    "        "
   ]
  },
  {
   "cell_type": "code",
   "execution_count": 255,
   "id": "46fdbcc9",
   "metadata": {},
   "outputs": [
    {
     "data": {
      "text/plain": [
       "24"
      ]
     },
     "execution_count": 255,
     "metadata": {},
     "output_type": "execute_result"
    }
   ],
   "source": [
    "len(storage_rom)"
   ]
  },
  {
   "cell_type": "code",
   "execution_count": 257,
   "id": "9eb7fdb9",
   "metadata": {},
   "outputs": [
    {
     "data": {
      "text/plain": [
       "['48MP + 12MP | 12MP Front Camera',\n",
       " '50MP + 2MP | 16MP Front Camera',\n",
       " '48MP + 12MP | 12MP Front Camera',\n",
       " '48MP + 12MP | 12MP Front Camera',\n",
       " '50MP + 2MP | 16MP Front Camera',\n",
       " '64 MP (OIS) + 2MP | 16MP Front Camera',\n",
       " '64 MP (OIS) + 2MP | 16MP Front Camera',\n",
       " '50MP + 2MP | 8MP Front Camera',\n",
       " '50MP + 2MP | 16MP Front Camera',\n",
       " '64 MP (OIS) + 2MP | 16MP Front Camera',\n",
       " '12MP + 12MP | 12MP Front Camera',\n",
       " '48MP + 12MP | 12MP Front Camera',\n",
       " '50MP (OIS) + 8MP | 16MP Front Camera',\n",
       " '64 MP (OIS) + 2MP | 16MP Front Camera',\n",
       " '50MP (OIS) + 8MP | 16MP Front Camera',\n",
       " '13MP + 2MP | 5MP Front Camera',\n",
       " '8MP Dual Rear Camera | 5MP Front Camera',\n",
       " '50MP (OIS) + 8MP | 16MP Front Camera',\n",
       " '50MP + 13MP | 32MP Front Camera',\n",
       " '50MP Rear Camera',\n",
       " '8MP Rear Camera | 5MP Front Camera',\n",
       " '12MP + 12MP | 12MP Front Camera',\n",
       " '50MP (OIS) + 8MP | 16MP Front Camera',\n",
       " '50MP + 13MP | 32MP Front Camera']"
      ]
     },
     "execution_count": 257,
     "metadata": {},
     "output_type": "execute_result"
    }
   ],
   "source": [
    "primary_camera=[]\n",
    "pri_cam=driver.find_elements(By.XPATH,\"//ul[@class='_1xgFaf']//li[3]\")\n",
    "for i in pri_cam:\n",
    "    if i.text is None:\n",
    "        primary_camera.append(\"--\")\n",
    "    else:\n",
    "        primary_camera.append(i.text)\n",
    "primary_camera"
   ]
  },
  {
   "cell_type": "code",
   "execution_count": 258,
   "id": "67962670",
   "metadata": {},
   "outputs": [
    {
     "data": {
      "text/plain": [
       "24"
      ]
     },
     "execution_count": 258,
     "metadata": {},
     "output_type": "execute_result"
    }
   ],
   "source": [
    "len(primary_camera)"
   ]
  },
  {
   "cell_type": "code",
   "execution_count": 259,
   "id": "9430ef9a",
   "metadata": {},
   "outputs": [
    {
     "data": {
      "text/plain": [
       "['15.49 cm (6.1 inch) Super Retina XDR Display',\n",
       " '16.51 cm (6.5 inch) HD+ Display',\n",
       " '15.49 cm (6.1 inch) Super Retina XDR Display',\n",
       " '15.49 cm (6.1 inch) Super Retina XDR Display',\n",
       " '16.51 cm (6.5 inch) HD+ Display',\n",
       " '16.21 cm (6.38 inch) Full HD+ Display',\n",
       " '16.21 cm (6.38 inch) Full HD+ Display',\n",
       " '17.25 cm (6.79 inch) Full HD+ Display',\n",
       " '16.51 cm (6.5 inch) HD+ Display',\n",
       " '16.21 cm (6.38 inch) Full HD+ Display',\n",
       " '15.49 cm (6.1 inch) Super Retina XDR Display',\n",
       " '15.49 cm (6.1 inch) Super Retina XDR Display',\n",
       " '16.51 cm (6.5 inch) Full HD+ Display',\n",
       " '16.21 cm (6.38 inch) Full HD+ Display',\n",
       " '16.51 cm (6.5 inch) Full HD+ Display',\n",
       " '16.51 cm (6.5 inch) HD Display',\n",
       " '16.56 cm (6.52 inch) HD+ Display',\n",
       " '16.51 cm (6.5 inch) Full HD+ Display',\n",
       " '16.64 cm (6.55 inch) Full HD+ Display',\n",
       " '17.12 cm (6.74 inch) HD+ Display',\n",
       " '16.56 cm (6.52 inch) HD+ Display',\n",
       " '15.49 cm (6.1 inch) Super Retina XDR Display',\n",
       " '16.51 cm (6.5 inch) Full HD+ Display',\n",
       " '16.64 cm (6.55 inch) Full HD+ Display']"
      ]
     },
     "execution_count": 259,
     "metadata": {},
     "output_type": "execute_result"
    }
   ],
   "source": [
    "display_size=[]\n",
    "ds_size=driver.find_elements(By.XPATH,'//ul[@class=\"_1xgFaf\"]//li[2]')\n",
    "for i in ds_size:\n",
    "    if i.text is None:\n",
    "        display_size.append(\"--\")\n",
    "    else:\n",
    "        display_size.append(i.text)\n",
    "display_size"
   ]
  },
  {
   "cell_type": "code",
   "execution_count": 260,
   "id": "359c25fe",
   "metadata": {},
   "outputs": [
    {
     "data": {
      "text/plain": [
       "24"
      ]
     },
     "execution_count": 260,
     "metadata": {},
     "output_type": "execute_result"
    }
   ],
   "source": [
    "len(display_size)"
   ]
  },
  {
   "cell_type": "code",
   "execution_count": 262,
   "id": "250b2ab0",
   "metadata": {},
   "outputs": [
    {
     "data": {
      "text/plain": [
       "['A16 Bionic Chip, 6 Core Processor Processor',\n",
       " '5000 mAh Battery',\n",
       " 'A16 Bionic Chip, 6 Core Processor Processor',\n",
       " 'A16 Bionic Chip, 6 Core Processor Processor',\n",
       " '5000 mAh Battery',\n",
       " '4500 mAh Battery',\n",
       " '4500 mAh Battery',\n",
       " '5000 mAh Battery',\n",
       " '5000 mAh Battery',\n",
       " '4500 mAh Battery',\n",
       " 'A15 Bionic Chip, 6 Core Processor Processor',\n",
       " 'A16 Bionic Chip, 6 Core Processor Processor',\n",
       " '6000 mAh Battery',\n",
       " '4500 mAh Battery',\n",
       " '6000 mAh Battery',\n",
       " '5000 mAh Lithium-Ion Battery',\n",
       " '5000 mAh Battery',\n",
       " '6000 mAh Battery',\n",
       " '5000 mAh Battery',\n",
       " '5000 mAh Battery',\n",
       " '5000 mAh Lithium Polymer Battery',\n",
       " 'A15 Bionic Chip, 6 Core Processor Processor',\n",
       " '6000 mAh Battery',\n",
       " '5000 mAh Battery']"
      ]
     },
     "execution_count": 262,
     "metadata": {},
     "output_type": "execute_result"
    }
   ],
   "source": [
    "battery_capacity=[]\n",
    "battery=driver.find_elements(By.XPATH,'//ul[@class=\"_1xgFaf\"]//li[4]')\n",
    "for i in battery:\n",
    "    if i.text is None:\n",
    "        battery_capacity.append(\"--\")\n",
    "    else:\n",
    "        battery_capacity.append(i.text)\n",
    "battery_capacity"
   ]
  },
  {
   "cell_type": "code",
   "execution_count": 263,
   "id": "9e9f2def",
   "metadata": {},
   "outputs": [
    {
     "data": {
      "text/plain": [
       "['₹72,999',\n",
       " '₹11,999',\n",
       " '₹72,999',\n",
       " '₹72,999',\n",
       " '₹11,999',\n",
       " '₹17,999',\n",
       " '₹15,999',\n",
       " '₹12,559',\n",
       " '₹10,999',\n",
       " '₹15,999',\n",
       " '₹58,999',\n",
       " '₹72,999',\n",
       " '₹13,999',\n",
       " '₹17,999',\n",
       " '₹13,999',\n",
       " '₹5,999',\n",
       " '₹5,499',\n",
       " '₹15,999',\n",
       " '₹22,999',\n",
       " '₹9,499',\n",
       " '₹6,499',\n",
       " '₹58,999',\n",
       " '₹15,999',\n",
       " '₹22,999']"
      ]
     },
     "execution_count": 263,
     "metadata": {},
     "output_type": "execute_result"
    }
   ],
   "source": [
    "price=[]\n",
    "pri=driver.find_elements(By.XPATH,'//div[@class=\"_30jeq3 _1_WHN1\"]')\n",
    "for i in pri:\n",
    "    if i.text is None:\n",
    "        price.append(\"--\")\n",
    "    else:\n",
    "        price.append(i.text)\n",
    "price"
   ]
  },
  {
   "cell_type": "code",
   "execution_count": 264,
   "id": "35ba37e3",
   "metadata": {},
   "outputs": [
    {
     "data": {
      "text/plain": [
       "24"
      ]
     },
     "execution_count": 264,
     "metadata": {},
     "output_type": "execute_result"
    }
   ],
   "source": [
    "len(price)"
   ]
  },
  {
   "cell_type": "code",
   "execution_count": 265,
   "id": "e08fe457",
   "metadata": {},
   "outputs": [
    {
     "data": {
      "text/plain": [
       "['https://www.flipkart.com/apple-iphone-15-blue-128-gb/p/itmbf14ef54f645d?pid=MOBGTAGPAQNVFZZY&lid=LSTMOBGTAGPAQNVFZZYSCIIOB&marketplace=FLIPKART&q=smartphone&store=tyy%2F4io&srno=s_1_1&otracker=search&otracker1=search&fm=organic&iid=0a5e7bfe-ba5c-405c-8609-8562aa920b7f.MOBGTAGPAQNVFZZY.SEARCH&ppt=hp&ppn=homepage&ssid=cr8cx6do5s0000001708186646600&qH=1036ba3c4ed2c021',\n",
       " 'https://www.flipkart.com/motorola-g34-5g-ocean-green-128-gb/p/itm6b1a33b9d9191?pid=MOBGUFK4TZ2CJYHJ&lid=LSTMOBGUFK4TZ2CJYHJPBUF6M&marketplace=FLIPKART&q=smartphone&store=tyy%2F4io&srno=s_1_2&otracker=search&otracker1=search&fm=organic&iid=0a5e7bfe-ba5c-405c-8609-8562aa920b7f.MOBGUFK4TZ2CJYHJ.SEARCH&ppt=hp&ppn=homepage&ssid=cr8cx6do5s0000001708186646600&qH=1036ba3c4ed2c021',\n",
       " 'https://www.flipkart.com/apple-iphone-15-black-128-gb/p/itm6ac6485515ae4?pid=MOBGTAGPTB3VS24W&lid=LSTMOBGTAGPTB3VS24W7RH6ZZ&marketplace=FLIPKART&q=smartphone&store=tyy%2F4io&srno=s_1_3&otracker=search&otracker1=search&fm=organic&iid=0a5e7bfe-ba5c-405c-8609-8562aa920b7f.MOBGTAGPTB3VS24W.SEARCH&ppt=hp&ppn=homepage&ssid=cr8cx6do5s0000001708186646600&qH=1036ba3c4ed2c021',\n",
       " 'https://www.flipkart.com/apple-iphone-15-green-128-gb/p/itm235cd318bde73?pid=MOBGTAGPYYWZRUJX&lid=LSTMOBGTAGPYYWZRUJXXIP6YM&marketplace=FLIPKART&q=smartphone&store=tyy%2F4io&srno=s_1_4&otracker=search&otracker1=search&fm=organic&iid=0a5e7bfe-ba5c-405c-8609-8562aa920b7f.MOBGTAGPYYWZRUJX.SEARCH&ppt=hp&ppn=homepage&ssid=cr8cx6do5s0000001708186646600&qH=1036ba3c4ed2c021',\n",
       " 'https://www.flipkart.com/motorola-g34-5g-ice-blue-128-gb/p/itmc36bacc1f7bb0?pid=MOBGUFK4P2H9CY7Y&lid=LSTMOBGUFK4P2H9CY7Y4FYWMH&marketplace=FLIPKART&q=smartphone&store=tyy%2F4io&srno=s_1_5&otracker=search&otracker1=search&fm=organic&iid=0a5e7bfe-ba5c-405c-8609-8562aa920b7f.MOBGUFK4P2H9CY7Y.SEARCH&ppt=hp&ppn=homepage&ssid=cr8cx6do5s0000001708186646600&qH=1036ba3c4ed2c021',\n",
       " 'https://www.flipkart.com/vivo-t2-5g-nitro-blaze-128-gb/p/itma79eb573156a4?pid=MOBGZBFUHGYHNEMB&lid=LSTMOBGZBFUHGYHNEMBDASSEQ&marketplace=FLIPKART&q=smartphone&store=tyy%2F4io&srno=s_1_6&otracker=search&otracker1=search&fm=organic&iid=0a5e7bfe-ba5c-405c-8609-8562aa920b7f.MOBGZBFUHGYHNEMB.SEARCH&ppt=hp&ppn=homepage&ssid=cr8cx6do5s0000001708186646600&qH=1036ba3c4ed2c021',\n",
       " 'https://www.flipkart.com/vivo-t2-5g-velocity-wave-128-gb/p/itma79eb573156a4?pid=MOBGZBFU3KXMFYHP&lid=LSTMOBGZBFU3KXMFYHPQBLL0Y&marketplace=FLIPKART&q=smartphone&store=tyy%2F4io&srno=s_1_7&otracker=search&otracker1=search&fm=organic&iid=0a5e7bfe-ba5c-405c-8609-8562aa920b7f.MOBGZBFU3KXMFYHP.SEARCH&ppt=hp&ppn=homepage&ssid=cr8cx6do5s0000001708186646600&qH=1036ba3c4ed2c021',\n",
       " 'https://www.flipkart.com/redmi-12-5g-moonstone-silver-128-gb/p/itm6485286f96fb0?pid=MOBGS7JGZBZKPGGB&lid=LSTMOBGS7JGZBZKPGGBKBDJJK&marketplace=FLIPKART&q=smartphone&store=tyy%2F4io&srno=s_1_8&otracker=search&otracker1=search&fm=organic&iid=0a5e7bfe-ba5c-405c-8609-8562aa920b7f.MOBGS7JGZBZKPGGB.SEARCH&ppt=hp&ppn=homepage&ssid=cr8cx6do5s0000001708186646600&qH=1036ba3c4ed2c021',\n",
       " 'https://www.flipkart.com/motorola-g34-5g-ocean-green-128-gb/p/itm3420a8e79e129?pid=MOBGUFK49KDBZUMC&lid=LSTMOBGUFK49KDBZUMCRZHEGQ&marketplace=FLIPKART&q=smartphone&store=tyy%2F4io&srno=s_1_9&otracker=search&otracker1=search&fm=organic&iid=0a5e7bfe-ba5c-405c-8609-8562aa920b7f.MOBGUFK49KDBZUMC.SEARCH&ppt=hp&ppn=homepage&ssid=cr8cx6do5s0000001708186646600&qH=1036ba3c4ed2c021',\n",
       " 'https://www.flipkart.com/vivo-t2-5g-nitro-blaze-128-gb/p/itma79eb573156a4?pid=MOBGZBFUVZCHW6HU&lid=LSTMOBGZBFUVZCHW6HUXFPFXB&marketplace=FLIPKART&q=smartphone&store=tyy%2F4io&srno=s_1_10&otracker=search&otracker1=search&fm=organic&iid=0a5e7bfe-ba5c-405c-8609-8562aa920b7f.MOBGZBFUVZCHW6HU.SEARCH&ppt=hp&ppn=homepage&ssid=cr8cx6do5s0000001708186646600&qH=1036ba3c4ed2c021',\n",
       " 'https://www.flipkart.com/apple-iphone-14-midnight-128-gb/p/itm9e6293c322a84?pid=MOBGHWFHECFVMDCX&lid=LSTMOBGHWFHECFVMDCXXRTRJG&marketplace=FLIPKART&q=smartphone&store=tyy%2F4io&srno=s_1_11&otracker=search&otracker1=search&fm=organic&iid=0a5e7bfe-ba5c-405c-8609-8562aa920b7f.MOBGHWFHECFVMDCX.SEARCH&ppt=hp&ppn=homepage&ssid=cr8cx6do5s0000001708186646600&qH=1036ba3c4ed2c021',\n",
       " 'https://www.flipkart.com/apple-iphone-15-pink-128-gb/p/itm7579ed94ca647?pid=MOBGTAGPNMZA5PU5&lid=LSTMOBGTAGPNMZA5PU5O32WJC&marketplace=FLIPKART&q=smartphone&store=tyy%2F4io&srno=s_1_12&otracker=search&otracker1=search&fm=organic&iid=0a5e7bfe-ba5c-405c-8609-8562aa920b7f.MOBGTAGPNMZA5PU5.SEARCH&ppt=hp&ppn=homepage&ssid=cr8cx6do5s0000001708186646600&qH=1036ba3c4ed2c021',\n",
       " 'https://www.flipkart.com/motorola-g54-5g-midnight-blue-128-gb/p/itm1867d5933e9e8?pid=MOBGQFX8P4HFEUCD&lid=LSTMOBGQFX8P4HFEUCDNGAP9K&marketplace=FLIPKART&q=smartphone&store=tyy%2F4io&srno=s_1_13&otracker=search&otracker1=search&fm=organic&iid=0a5e7bfe-ba5c-405c-8609-8562aa920b7f.MOBGQFX8P4HFEUCD.SEARCH&ppt=hp&ppn=homepage&ssid=cr8cx6do5s0000001708186646600&qH=1036ba3c4ed2c021',\n",
       " 'https://www.flipkart.com/vivo-t2-5g-velocity-wave-128-gb/p/itma79eb573156a4?pid=MOBGZBFU2GHZTMGN&lid=LSTMOBGZBFU2GHZTMGNEFEQUV&marketplace=FLIPKART&q=smartphone&store=tyy%2F4io&srno=s_1_14&otracker=search&otracker1=search&fm=organic&iid=0a5e7bfe-ba5c-405c-8609-8562aa920b7f.MOBGZBFU2GHZTMGN.SEARCH&ppt=hp&ppn=homepage&ssid=cr8cx6do5s0000001708186646600&qH=1036ba3c4ed2c021',\n",
       " 'https://www.flipkart.com/motorola-g54-5g-mint-green-128-gb/p/itmfc12683043bbc?pid=MOBGQFX8Z3ZCDZZ7&lid=LSTMOBGQFX8Z3ZCDZZ7FOOELB&marketplace=FLIPKART&q=smartphone&store=tyy%2F4io&srno=s_1_15&otracker=search&otracker1=search&fm=organic&iid=0a5e7bfe-ba5c-405c-8609-8562aa920b7f.MOBGQFX8Z3ZCDZZ7.SEARCH&ppt=hp&ppn=homepage&ssid=cr8cx6do5s0000001708186646600&qH=1036ba3c4ed2c021',\n",
       " 'https://www.flipkart.com/samsung-galaxy-f04-opal-green-64-gb/p/itmd0c05f8b03876?pid=MOBGKY2V7QZ2QVFS&lid=LSTMOBGKY2V7QZ2QVFSGOGYVU&marketplace=FLIPKART&q=smartphone&store=tyy%2F4io&spotlightTagId=BestsellerId_tyy%2F4io&srno=s_1_16&otracker=search&otracker1=search&fm=organic&iid=0a5e7bfe-ba5c-405c-8609-8562aa920b7f.MOBGKY2V7QZ2QVFS.SEARCH&ppt=hp&ppn=homepage&ssid=cr8cx6do5s0000001708186646600&qH=1036ba3c4ed2c021',\n",
       " 'https://www.flipkart.com/poco-c51-royal-blue-64-gb/p/itm1e4e8373537a7?pid=MOBGZCQFCWNDK89P&lid=LSTMOBGZCQFCWNDK89POEPN6S&marketplace=FLIPKART&q=smartphone&store=tyy%2F4io&srno=s_1_17&otracker=search&otracker1=search&fm=organic&iid=0a5e7bfe-ba5c-405c-8609-8562aa920b7f.MOBGZCQFCWNDK89P.SEARCH&ppt=hp&ppn=homepage&ssid=cr8cx6do5s0000001708186646600&qH=1036ba3c4ed2c021',\n",
       " 'https://www.flipkart.com/motorola-g54-5g-mint-green-256-gb/p/itm9f608c1154160?pid=MOBGQFX8XGUATGRT&lid=LSTMOBGQFX8XGUATGRTUMNQ7U&marketplace=FLIPKART&q=smartphone&store=tyy%2F4io&srno=s_1_18&otracker=search&otracker1=search&fm=organic&iid=0a5e7bfe-ba5c-405c-8609-8562aa920b7f.MOBGQFX8XGUATGRT.SEARCH&ppt=hp&ppn=homepage&ssid=cr8cx6do5s0000001708186646600&qH=1036ba3c4ed2c021',\n",
       " 'https://www.flipkart.com/motorola-edge-40-neo-caneel-bay-128-gb/p/itm122f351a3a2a3?pid=MOBGQFX6K7YQJRSY&lid=LSTMOBGQFX6K7YQJRSY6BK1PK&marketplace=FLIPKART&q=smartphone&store=tyy%2F4io&srno=s_1_19&otracker=search&otracker1=search&fm=organic&iid=0a5e7bfe-ba5c-405c-8609-8562aa920b7f.MOBGQFX6K7YQJRSY.SEARCH&ppt=hp&ppn=homepage&ssid=cr8cx6do5s0000001708186646600&qH=1036ba3c4ed2c021',\n",
       " 'https://www.flipkart.com/poco-m6-5g-orion-blue-128-gb/p/itm1227ec8698a77?pid=MOBGW9FEDGZ3GAKT&lid=LSTMOBGW9FEDGZ3GAKTOKMUXN&marketplace=FLIPKART&q=smartphone&store=tyy%2F4io&srno=s_1_20&otracker=search&otracker1=search&fm=organic&iid=0a5e7bfe-ba5c-405c-8609-8562aa920b7f.MOBGW9FEDGZ3GAKT.SEARCH&ppt=hp&ppn=homepage&ssid=cr8cx6do5s0000001708186646600&qH=1036ba3c4ed2c021',\n",
       " 'https://www.flipkart.com/poco-c51-power-black-128-gb/p/itma7b694266a136?pid=MOBGSPJPH3UZHMEQ&lid=LSTMOBGSPJPH3UZHMEQAWJ6LR&marketplace=FLIPKART&q=smartphone&store=tyy%2F4io&srno=s_1_21&otracker=search&otracker1=search&fm=organic&iid=0a5e7bfe-ba5c-405c-8609-8562aa920b7f.MOBGSPJPH3UZHMEQ.SEARCH&ppt=hp&ppn=homepage&ssid=cr8cx6do5s0000001708186646600&qH=1036ba3c4ed2c021',\n",
       " 'https://www.flipkart.com/apple-iphone-14-blue-128-gb/p/itmdb77f40da6b6d?pid=MOBGHWFHSV7GUFWA&lid=LSTMOBGHWFHSV7GUFWAFEQJQ4&marketplace=FLIPKART&q=smartphone&store=tyy%2F4io&srno=s_1_22&otracker=search&otracker1=search&fm=organic&iid=0a5e7bfe-ba5c-405c-8609-8562aa920b7f.MOBGHWFHSV7GUFWA.SEARCH&ppt=hp&ppn=homepage&ssid=cr8cx6do5s0000001708186646600&qH=1036ba3c4ed2c021',\n",
       " 'https://www.flipkart.com/motorola-g54-5g-midnight-blue-256-gb/p/itmc5db12ebf3198?pid=MOBGQFX88DJDTHYG&lid=LSTMOBGQFX88DJDTHYGROOGII&marketplace=FLIPKART&q=smartphone&store=tyy%2F4io&srno=s_1_23&otracker=search&otracker1=search&fm=organic&iid=0a5e7bfe-ba5c-405c-8609-8562aa920b7f.MOBGQFX88DJDTHYG.SEARCH&ppt=hp&ppn=homepage&ssid=cr8cx6do5s0000001708186646600&qH=1036ba3c4ed2c021',\n",
       " 'https://www.flipkart.com/motorola-edge-40-neo-soothing-sea-128-gb/p/itmcfb87467e7d9a?pid=MOBGQFX6AG2JD2XT&lid=LSTMOBGQFX6AG2JD2XTMNTYDO&marketplace=FLIPKART&q=smartphone&store=tyy%2F4io&srno=s_1_24&otracker=search&otracker1=search&fm=organic&iid=0a5e7bfe-ba5c-405c-8609-8562aa920b7f.MOBGQFX6AG2JD2XT.SEARCH&ppt=hp&ppn=homepage&ssid=cr8cx6do5s0000001708186646600&qH=1036ba3c4ed2c021']"
      ]
     },
     "execution_count": 265,
     "metadata": {},
     "output_type": "execute_result"
    }
   ],
   "source": [
    "product_url=[]\n",
    "pro_url=driver.find_elements(By.XPATH,'//a[@class=\"_1fQZEK\"]')\n",
    "for i in pro_url:\n",
    "    if i.get_attribute is None:\n",
    "        product_url.append('--')\n",
    "    else:\n",
    "        product_url.append(i.get_attribute('href'))\n",
    "product_url\n",
    "        \n"
   ]
  },
  {
   "cell_type": "code",
   "execution_count": 266,
   "id": "c049e4ef",
   "metadata": {},
   "outputs": [
    {
     "data": {
      "text/plain": [
       "24"
      ]
     },
     "execution_count": 266,
     "metadata": {},
     "output_type": "execute_result"
    }
   ],
   "source": [
    "len(product_url)"
   ]
  },
  {
   "cell_type": "code",
   "execution_count": 30,
   "id": "88a2ef8b",
   "metadata": {},
   "outputs": [],
   "source": [
    "import pandas as pd"
   ]
  },
  {
   "cell_type": "code",
   "execution_count": 268,
   "id": "9d863a1f",
   "metadata": {},
   "outputs": [
    {
     "data": {
      "text/html": [
       "<div>\n",
       "<style scoped>\n",
       "    .dataframe tbody tr th:only-of-type {\n",
       "        vertical-align: middle;\n",
       "    }\n",
       "\n",
       "    .dataframe tbody tr th {\n",
       "        vertical-align: top;\n",
       "    }\n",
       "\n",
       "    .dataframe thead th {\n",
       "        text-align: right;\n",
       "    }\n",
       "</style>\n",
       "<table border=\"1\" class=\"dataframe\">\n",
       "  <thead>\n",
       "    <tr style=\"text-align: right;\">\n",
       "      <th></th>\n",
       "      <th>Brand</th>\n",
       "      <th>Storage_Ram_Rom</th>\n",
       "      <th>Primary_Camera</th>\n",
       "      <th>Display</th>\n",
       "      <th>Battery</th>\n",
       "      <th>Price</th>\n",
       "      <th>Product_Url</th>\n",
       "    </tr>\n",
       "  </thead>\n",
       "  <tbody>\n",
       "    <tr>\n",
       "      <th>0</th>\n",
       "      <td>Apple iPhone 15 (Blue, 128 GB)</td>\n",
       "      <td>128 GB ROM</td>\n",
       "      <td>48MP + 12MP | 12MP Front Camera</td>\n",
       "      <td>15.49 cm (6.1 inch) Super Retina XDR Display</td>\n",
       "      <td>A16 Bionic Chip, 6 Core Processor Processor</td>\n",
       "      <td>₹72,999</td>\n",
       "      <td>https://www.flipkart.com/apple-iphone-15-blue-...</td>\n",
       "    </tr>\n",
       "    <tr>\n",
       "      <th>1</th>\n",
       "      <td>Motorola G34 5G (Ocean Green, 128 GB)</td>\n",
       "      <td>8 GB RAM | 128 GB ROM</td>\n",
       "      <td>50MP + 2MP | 16MP Front Camera</td>\n",
       "      <td>16.51 cm (6.5 inch) HD+ Display</td>\n",
       "      <td>5000 mAh Battery</td>\n",
       "      <td>₹11,999</td>\n",
       "      <td>https://www.flipkart.com/motorola-g34-5g-ocean...</td>\n",
       "    </tr>\n",
       "    <tr>\n",
       "      <th>2</th>\n",
       "      <td>Apple iPhone 15 (Black, 128 GB)</td>\n",
       "      <td>128 GB ROM</td>\n",
       "      <td>48MP + 12MP | 12MP Front Camera</td>\n",
       "      <td>15.49 cm (6.1 inch) Super Retina XDR Display</td>\n",
       "      <td>A16 Bionic Chip, 6 Core Processor Processor</td>\n",
       "      <td>₹72,999</td>\n",
       "      <td>https://www.flipkart.com/apple-iphone-15-black...</td>\n",
       "    </tr>\n",
       "    <tr>\n",
       "      <th>3</th>\n",
       "      <td>Apple iPhone 15 (Green, 128 GB)</td>\n",
       "      <td>128 GB ROM</td>\n",
       "      <td>48MP + 12MP | 12MP Front Camera</td>\n",
       "      <td>15.49 cm (6.1 inch) Super Retina XDR Display</td>\n",
       "      <td>A16 Bionic Chip, 6 Core Processor Processor</td>\n",
       "      <td>₹72,999</td>\n",
       "      <td>https://www.flipkart.com/apple-iphone-15-green...</td>\n",
       "    </tr>\n",
       "    <tr>\n",
       "      <th>4</th>\n",
       "      <td>Motorola G34 5G (Ice Blue, 128 GB)</td>\n",
       "      <td>8 GB RAM | 128 GB ROM</td>\n",
       "      <td>50MP + 2MP | 16MP Front Camera</td>\n",
       "      <td>16.51 cm (6.5 inch) HD+ Display</td>\n",
       "      <td>5000 mAh Battery</td>\n",
       "      <td>₹11,999</td>\n",
       "      <td>https://www.flipkart.com/motorola-g34-5g-ice-b...</td>\n",
       "    </tr>\n",
       "    <tr>\n",
       "      <th>5</th>\n",
       "      <td>vivo T2 5G (Nitro Blaze, 128 GB)</td>\n",
       "      <td>8 GB RAM | 128 GB ROM</td>\n",
       "      <td>64 MP (OIS) + 2MP | 16MP Front Camera</td>\n",
       "      <td>16.21 cm (6.38 inch) Full HD+ Display</td>\n",
       "      <td>4500 mAh Battery</td>\n",
       "      <td>₹17,999</td>\n",
       "      <td>https://www.flipkart.com/vivo-t2-5g-nitro-blaz...</td>\n",
       "    </tr>\n",
       "    <tr>\n",
       "      <th>6</th>\n",
       "      <td>vivo T2 5G (Velocity Wave, 128 GB)</td>\n",
       "      <td>6 GB RAM | 128 GB ROM</td>\n",
       "      <td>64 MP (OIS) + 2MP | 16MP Front Camera</td>\n",
       "      <td>16.21 cm (6.38 inch) Full HD+ Display</td>\n",
       "      <td>4500 mAh Battery</td>\n",
       "      <td>₹15,999</td>\n",
       "      <td>https://www.flipkart.com/vivo-t2-5g-velocity-w...</td>\n",
       "    </tr>\n",
       "    <tr>\n",
       "      <th>7</th>\n",
       "      <td>REDMI 12 5G (Moonstone Silver, 128 GB)</td>\n",
       "      <td>6 GB RAM | 128 GB ROM | Expandable Upto 1 TB</td>\n",
       "      <td>50MP + 2MP | 8MP Front Camera</td>\n",
       "      <td>17.25 cm (6.79 inch) Full HD+ Display</td>\n",
       "      <td>5000 mAh Battery</td>\n",
       "      <td>₹12,559</td>\n",
       "      <td>https://www.flipkart.com/redmi-12-5g-moonstone...</td>\n",
       "    </tr>\n",
       "    <tr>\n",
       "      <th>8</th>\n",
       "      <td>Motorola G34 5G (Ocean Green, 128 GB)</td>\n",
       "      <td>4 GB RAM | 128 GB ROM</td>\n",
       "      <td>50MP + 2MP | 16MP Front Camera</td>\n",
       "      <td>16.51 cm (6.5 inch) HD+ Display</td>\n",
       "      <td>5000 mAh Battery</td>\n",
       "      <td>₹10,999</td>\n",
       "      <td>https://www.flipkart.com/motorola-g34-5g-ocean...</td>\n",
       "    </tr>\n",
       "    <tr>\n",
       "      <th>9</th>\n",
       "      <td>vivo T2 5G (Nitro Blaze, 128 GB)</td>\n",
       "      <td>6 GB RAM | 128 GB ROM</td>\n",
       "      <td>64 MP (OIS) + 2MP | 16MP Front Camera</td>\n",
       "      <td>16.21 cm (6.38 inch) Full HD+ Display</td>\n",
       "      <td>4500 mAh Battery</td>\n",
       "      <td>₹15,999</td>\n",
       "      <td>https://www.flipkart.com/vivo-t2-5g-nitro-blaz...</td>\n",
       "    </tr>\n",
       "    <tr>\n",
       "      <th>10</th>\n",
       "      <td>Apple iPhone 14 (Midnight, 128 GB)</td>\n",
       "      <td>128 GB ROM</td>\n",
       "      <td>12MP + 12MP | 12MP Front Camera</td>\n",
       "      <td>15.49 cm (6.1 inch) Super Retina XDR Display</td>\n",
       "      <td>A15 Bionic Chip, 6 Core Processor Processor</td>\n",
       "      <td>₹58,999</td>\n",
       "      <td>https://www.flipkart.com/apple-iphone-14-midni...</td>\n",
       "    </tr>\n",
       "    <tr>\n",
       "      <th>11</th>\n",
       "      <td>Apple iPhone 15 (Pink, 128 GB)</td>\n",
       "      <td>128 GB ROM</td>\n",
       "      <td>48MP + 12MP | 12MP Front Camera</td>\n",
       "      <td>15.49 cm (6.1 inch) Super Retina XDR Display</td>\n",
       "      <td>A16 Bionic Chip, 6 Core Processor Processor</td>\n",
       "      <td>₹72,999</td>\n",
       "      <td>https://www.flipkart.com/apple-iphone-15-pink-...</td>\n",
       "    </tr>\n",
       "    <tr>\n",
       "      <th>12</th>\n",
       "      <td>Motorola g54 5G (Midnight Blue, 128 GB)</td>\n",
       "      <td>8 GB RAM | 128 GB ROM | Expandable Upto 1 TB</td>\n",
       "      <td>50MP (OIS) + 8MP | 16MP Front Camera</td>\n",
       "      <td>16.51 cm (6.5 inch) Full HD+ Display</td>\n",
       "      <td>6000 mAh Battery</td>\n",
       "      <td>₹13,999</td>\n",
       "      <td>https://www.flipkart.com/motorola-g54-5g-midni...</td>\n",
       "    </tr>\n",
       "    <tr>\n",
       "      <th>13</th>\n",
       "      <td>vivo T2 5G (Velocity Wave, 128 GB)</td>\n",
       "      <td>8 GB RAM | 128 GB ROM</td>\n",
       "      <td>64 MP (OIS) + 2MP | 16MP Front Camera</td>\n",
       "      <td>16.21 cm (6.38 inch) Full HD+ Display</td>\n",
       "      <td>4500 mAh Battery</td>\n",
       "      <td>₹17,999</td>\n",
       "      <td>https://www.flipkart.com/vivo-t2-5g-velocity-w...</td>\n",
       "    </tr>\n",
       "    <tr>\n",
       "      <th>14</th>\n",
       "      <td>Motorola g54 5G (Mint Green, 128 GB)</td>\n",
       "      <td>8 GB RAM | 128 GB ROM | Expandable Upto 1 TB</td>\n",
       "      <td>50MP (OIS) + 8MP | 16MP Front Camera</td>\n",
       "      <td>16.51 cm (6.5 inch) Full HD+ Display</td>\n",
       "      <td>6000 mAh Battery</td>\n",
       "      <td>₹13,999</td>\n",
       "      <td>https://www.flipkart.com/motorola-g54-5g-mint-...</td>\n",
       "    </tr>\n",
       "    <tr>\n",
       "      <th>15</th>\n",
       "      <td>SAMSUNG Galaxy F04 (Opal Green, 64 GB)</td>\n",
       "      <td>4 GB RAM | 64 GB ROM | Expandable Upto 1 TB</td>\n",
       "      <td>13MP + 2MP | 5MP Front Camera</td>\n",
       "      <td>16.51 cm (6.5 inch) HD Display</td>\n",
       "      <td>5000 mAh Lithium-Ion Battery</td>\n",
       "      <td>₹5,999</td>\n",
       "      <td>https://www.flipkart.com/samsung-galaxy-f04-op...</td>\n",
       "    </tr>\n",
       "    <tr>\n",
       "      <th>16</th>\n",
       "      <td>POCO C51 (Royal Blue, 64 GB)</td>\n",
       "      <td>4 GB RAM | 64 GB ROM | Expandable Upto 1 TB</td>\n",
       "      <td>8MP Dual Rear Camera | 5MP Front Camera</td>\n",
       "      <td>16.56 cm (6.52 inch) HD+ Display</td>\n",
       "      <td>5000 mAh Battery</td>\n",
       "      <td>₹5,499</td>\n",
       "      <td>https://www.flipkart.com/poco-c51-royal-blue-6...</td>\n",
       "    </tr>\n",
       "    <tr>\n",
       "      <th>17</th>\n",
       "      <td>Motorola g54 5G (Mint Green, 256 GB)</td>\n",
       "      <td>12 GB RAM | 256 GB ROM | Expandable Upto 1 TB</td>\n",
       "      <td>50MP (OIS) + 8MP | 16MP Front Camera</td>\n",
       "      <td>16.51 cm (6.5 inch) Full HD+ Display</td>\n",
       "      <td>6000 mAh Battery</td>\n",
       "      <td>₹15,999</td>\n",
       "      <td>https://www.flipkart.com/motorola-g54-5g-mint-...</td>\n",
       "    </tr>\n",
       "    <tr>\n",
       "      <th>18</th>\n",
       "      <td>Motorola Edge 40 Neo (Caneel Bay, 128 GB)</td>\n",
       "      <td>8 GB RAM | 128 GB ROM</td>\n",
       "      <td>50MP + 13MP | 32MP Front Camera</td>\n",
       "      <td>16.64 cm (6.55 inch) Full HD+ Display</td>\n",
       "      <td>5000 mAh Battery</td>\n",
       "      <td>₹22,999</td>\n",
       "      <td>https://www.flipkart.com/motorola-edge-40-neo-...</td>\n",
       "    </tr>\n",
       "    <tr>\n",
       "      <th>19</th>\n",
       "      <td>POCO M6 5G (Orion Blue, 128 GB)</td>\n",
       "      <td>4 GB RAM | 128 GB ROM | Expandable Upto 1 TB</td>\n",
       "      <td>50MP Rear Camera</td>\n",
       "      <td>17.12 cm (6.74 inch) HD+ Display</td>\n",
       "      <td>5000 mAh Battery</td>\n",
       "      <td>₹9,499</td>\n",
       "      <td>https://www.flipkart.com/poco-m6-5g-orion-blue...</td>\n",
       "    </tr>\n",
       "    <tr>\n",
       "      <th>20</th>\n",
       "      <td>POCO C51 (Power Black, 128 GB)</td>\n",
       "      <td>6 GB RAM | 128 GB ROM | Expandable Upto 1 TB</td>\n",
       "      <td>8MP Rear Camera | 5MP Front Camera</td>\n",
       "      <td>16.56 cm (6.52 inch) HD+ Display</td>\n",
       "      <td>5000 mAh Lithium Polymer Battery</td>\n",
       "      <td>₹6,499</td>\n",
       "      <td>https://www.flipkart.com/poco-c51-power-black-...</td>\n",
       "    </tr>\n",
       "    <tr>\n",
       "      <th>21</th>\n",
       "      <td>Apple iPhone 14 (Blue, 128 GB)</td>\n",
       "      <td>128 GB ROM</td>\n",
       "      <td>12MP + 12MP | 12MP Front Camera</td>\n",
       "      <td>15.49 cm (6.1 inch) Super Retina XDR Display</td>\n",
       "      <td>A15 Bionic Chip, 6 Core Processor Processor</td>\n",
       "      <td>₹58,999</td>\n",
       "      <td>https://www.flipkart.com/apple-iphone-14-blue-...</td>\n",
       "    </tr>\n",
       "    <tr>\n",
       "      <th>22</th>\n",
       "      <td>Motorola g54 5G (Midnight Blue, 256 GB)</td>\n",
       "      <td>12 GB RAM | 256 GB ROM | Expandable Upto 1 TB</td>\n",
       "      <td>50MP (OIS) + 8MP | 16MP Front Camera</td>\n",
       "      <td>16.51 cm (6.5 inch) Full HD+ Display</td>\n",
       "      <td>6000 mAh Battery</td>\n",
       "      <td>₹15,999</td>\n",
       "      <td>https://www.flipkart.com/motorola-g54-5g-midni...</td>\n",
       "    </tr>\n",
       "    <tr>\n",
       "      <th>23</th>\n",
       "      <td>Motorola Edge 40 Neo (Soothing Sea, 128 GB)</td>\n",
       "      <td>8 GB RAM | 128 GB ROM</td>\n",
       "      <td>50MP + 13MP | 32MP Front Camera</td>\n",
       "      <td>16.64 cm (6.55 inch) Full HD+ Display</td>\n",
       "      <td>5000 mAh Battery</td>\n",
       "      <td>₹22,999</td>\n",
       "      <td>https://www.flipkart.com/motorola-edge-40-neo-...</td>\n",
       "    </tr>\n",
       "  </tbody>\n",
       "</table>\n",
       "</div>"
      ],
      "text/plain": [
       "                                          Brand  \\\n",
       "0                Apple iPhone 15 (Blue, 128 GB)   \n",
       "1         Motorola G34 5G (Ocean Green, 128 GB)   \n",
       "2               Apple iPhone 15 (Black, 128 GB)   \n",
       "3               Apple iPhone 15 (Green, 128 GB)   \n",
       "4            Motorola G34 5G (Ice Blue, 128 GB)   \n",
       "5              vivo T2 5G (Nitro Blaze, 128 GB)   \n",
       "6            vivo T2 5G (Velocity Wave, 128 GB)   \n",
       "7        REDMI 12 5G (Moonstone Silver, 128 GB)   \n",
       "8         Motorola G34 5G (Ocean Green, 128 GB)   \n",
       "9              vivo T2 5G (Nitro Blaze, 128 GB)   \n",
       "10           Apple iPhone 14 (Midnight, 128 GB)   \n",
       "11               Apple iPhone 15 (Pink, 128 GB)   \n",
       "12      Motorola g54 5G (Midnight Blue, 128 GB)   \n",
       "13           vivo T2 5G (Velocity Wave, 128 GB)   \n",
       "14         Motorola g54 5G (Mint Green, 128 GB)   \n",
       "15       SAMSUNG Galaxy F04 (Opal Green, 64 GB)   \n",
       "16                 POCO C51 (Royal Blue, 64 GB)   \n",
       "17         Motorola g54 5G (Mint Green, 256 GB)   \n",
       "18    Motorola Edge 40 Neo (Caneel Bay, 128 GB)   \n",
       "19              POCO M6 5G (Orion Blue, 128 GB)   \n",
       "20               POCO C51 (Power Black, 128 GB)   \n",
       "21               Apple iPhone 14 (Blue, 128 GB)   \n",
       "22      Motorola g54 5G (Midnight Blue, 256 GB)   \n",
       "23  Motorola Edge 40 Neo (Soothing Sea, 128 GB)   \n",
       "\n",
       "                                  Storage_Ram_Rom  \\\n",
       "0                                      128 GB ROM   \n",
       "1                           8 GB RAM | 128 GB ROM   \n",
       "2                                      128 GB ROM   \n",
       "3                                      128 GB ROM   \n",
       "4                           8 GB RAM | 128 GB ROM   \n",
       "5                           8 GB RAM | 128 GB ROM   \n",
       "6                           6 GB RAM | 128 GB ROM   \n",
       "7    6 GB RAM | 128 GB ROM | Expandable Upto 1 TB   \n",
       "8                           4 GB RAM | 128 GB ROM   \n",
       "9                           6 GB RAM | 128 GB ROM   \n",
       "10                                     128 GB ROM   \n",
       "11                                     128 GB ROM   \n",
       "12   8 GB RAM | 128 GB ROM | Expandable Upto 1 TB   \n",
       "13                          8 GB RAM | 128 GB ROM   \n",
       "14   8 GB RAM | 128 GB ROM | Expandable Upto 1 TB   \n",
       "15    4 GB RAM | 64 GB ROM | Expandable Upto 1 TB   \n",
       "16    4 GB RAM | 64 GB ROM | Expandable Upto 1 TB   \n",
       "17  12 GB RAM | 256 GB ROM | Expandable Upto 1 TB   \n",
       "18                          8 GB RAM | 128 GB ROM   \n",
       "19   4 GB RAM | 128 GB ROM | Expandable Upto 1 TB   \n",
       "20   6 GB RAM | 128 GB ROM | Expandable Upto 1 TB   \n",
       "21                                     128 GB ROM   \n",
       "22  12 GB RAM | 256 GB ROM | Expandable Upto 1 TB   \n",
       "23                          8 GB RAM | 128 GB ROM   \n",
       "\n",
       "                             Primary_Camera  \\\n",
       "0           48MP + 12MP | 12MP Front Camera   \n",
       "1            50MP + 2MP | 16MP Front Camera   \n",
       "2           48MP + 12MP | 12MP Front Camera   \n",
       "3           48MP + 12MP | 12MP Front Camera   \n",
       "4            50MP + 2MP | 16MP Front Camera   \n",
       "5     64 MP (OIS) + 2MP | 16MP Front Camera   \n",
       "6     64 MP (OIS) + 2MP | 16MP Front Camera   \n",
       "7             50MP + 2MP | 8MP Front Camera   \n",
       "8            50MP + 2MP | 16MP Front Camera   \n",
       "9     64 MP (OIS) + 2MP | 16MP Front Camera   \n",
       "10          12MP + 12MP | 12MP Front Camera   \n",
       "11          48MP + 12MP | 12MP Front Camera   \n",
       "12     50MP (OIS) + 8MP | 16MP Front Camera   \n",
       "13    64 MP (OIS) + 2MP | 16MP Front Camera   \n",
       "14     50MP (OIS) + 8MP | 16MP Front Camera   \n",
       "15            13MP + 2MP | 5MP Front Camera   \n",
       "16  8MP Dual Rear Camera | 5MP Front Camera   \n",
       "17     50MP (OIS) + 8MP | 16MP Front Camera   \n",
       "18          50MP + 13MP | 32MP Front Camera   \n",
       "19                         50MP Rear Camera   \n",
       "20       8MP Rear Camera | 5MP Front Camera   \n",
       "21          12MP + 12MP | 12MP Front Camera   \n",
       "22     50MP (OIS) + 8MP | 16MP Front Camera   \n",
       "23          50MP + 13MP | 32MP Front Camera   \n",
       "\n",
       "                                         Display  \\\n",
       "0   15.49 cm (6.1 inch) Super Retina XDR Display   \n",
       "1                16.51 cm (6.5 inch) HD+ Display   \n",
       "2   15.49 cm (6.1 inch) Super Retina XDR Display   \n",
       "3   15.49 cm (6.1 inch) Super Retina XDR Display   \n",
       "4                16.51 cm (6.5 inch) HD+ Display   \n",
       "5          16.21 cm (6.38 inch) Full HD+ Display   \n",
       "6          16.21 cm (6.38 inch) Full HD+ Display   \n",
       "7          17.25 cm (6.79 inch) Full HD+ Display   \n",
       "8                16.51 cm (6.5 inch) HD+ Display   \n",
       "9          16.21 cm (6.38 inch) Full HD+ Display   \n",
       "10  15.49 cm (6.1 inch) Super Retina XDR Display   \n",
       "11  15.49 cm (6.1 inch) Super Retina XDR Display   \n",
       "12          16.51 cm (6.5 inch) Full HD+ Display   \n",
       "13         16.21 cm (6.38 inch) Full HD+ Display   \n",
       "14          16.51 cm (6.5 inch) Full HD+ Display   \n",
       "15                16.51 cm (6.5 inch) HD Display   \n",
       "16              16.56 cm (6.52 inch) HD+ Display   \n",
       "17          16.51 cm (6.5 inch) Full HD+ Display   \n",
       "18         16.64 cm (6.55 inch) Full HD+ Display   \n",
       "19              17.12 cm (6.74 inch) HD+ Display   \n",
       "20              16.56 cm (6.52 inch) HD+ Display   \n",
       "21  15.49 cm (6.1 inch) Super Retina XDR Display   \n",
       "22          16.51 cm (6.5 inch) Full HD+ Display   \n",
       "23         16.64 cm (6.55 inch) Full HD+ Display   \n",
       "\n",
       "                                        Battery    Price  \\\n",
       "0   A16 Bionic Chip, 6 Core Processor Processor  ₹72,999   \n",
       "1                              5000 mAh Battery  ₹11,999   \n",
       "2   A16 Bionic Chip, 6 Core Processor Processor  ₹72,999   \n",
       "3   A16 Bionic Chip, 6 Core Processor Processor  ₹72,999   \n",
       "4                              5000 mAh Battery  ₹11,999   \n",
       "5                              4500 mAh Battery  ₹17,999   \n",
       "6                              4500 mAh Battery  ₹15,999   \n",
       "7                              5000 mAh Battery  ₹12,559   \n",
       "8                              5000 mAh Battery  ₹10,999   \n",
       "9                              4500 mAh Battery  ₹15,999   \n",
       "10  A15 Bionic Chip, 6 Core Processor Processor  ₹58,999   \n",
       "11  A16 Bionic Chip, 6 Core Processor Processor  ₹72,999   \n",
       "12                             6000 mAh Battery  ₹13,999   \n",
       "13                             4500 mAh Battery  ₹17,999   \n",
       "14                             6000 mAh Battery  ₹13,999   \n",
       "15                 5000 mAh Lithium-Ion Battery   ₹5,999   \n",
       "16                             5000 mAh Battery   ₹5,499   \n",
       "17                             6000 mAh Battery  ₹15,999   \n",
       "18                             5000 mAh Battery  ₹22,999   \n",
       "19                             5000 mAh Battery   ₹9,499   \n",
       "20             5000 mAh Lithium Polymer Battery   ₹6,499   \n",
       "21  A15 Bionic Chip, 6 Core Processor Processor  ₹58,999   \n",
       "22                             6000 mAh Battery  ₹15,999   \n",
       "23                             5000 mAh Battery  ₹22,999   \n",
       "\n",
       "                                          Product_Url  \n",
       "0   https://www.flipkart.com/apple-iphone-15-blue-...  \n",
       "1   https://www.flipkart.com/motorola-g34-5g-ocean...  \n",
       "2   https://www.flipkart.com/apple-iphone-15-black...  \n",
       "3   https://www.flipkart.com/apple-iphone-15-green...  \n",
       "4   https://www.flipkart.com/motorola-g34-5g-ice-b...  \n",
       "5   https://www.flipkart.com/vivo-t2-5g-nitro-blaz...  \n",
       "6   https://www.flipkart.com/vivo-t2-5g-velocity-w...  \n",
       "7   https://www.flipkart.com/redmi-12-5g-moonstone...  \n",
       "8   https://www.flipkart.com/motorola-g34-5g-ocean...  \n",
       "9   https://www.flipkart.com/vivo-t2-5g-nitro-blaz...  \n",
       "10  https://www.flipkart.com/apple-iphone-14-midni...  \n",
       "11  https://www.flipkart.com/apple-iphone-15-pink-...  \n",
       "12  https://www.flipkart.com/motorola-g54-5g-midni...  \n",
       "13  https://www.flipkart.com/vivo-t2-5g-velocity-w...  \n",
       "14  https://www.flipkart.com/motorola-g54-5g-mint-...  \n",
       "15  https://www.flipkart.com/samsung-galaxy-f04-op...  \n",
       "16  https://www.flipkart.com/poco-c51-royal-blue-6...  \n",
       "17  https://www.flipkart.com/motorola-g54-5g-mint-...  \n",
       "18  https://www.flipkart.com/motorola-edge-40-neo-...  \n",
       "19  https://www.flipkart.com/poco-m6-5g-orion-blue...  \n",
       "20  https://www.flipkart.com/poco-c51-power-black-...  \n",
       "21  https://www.flipkart.com/apple-iphone-14-blue-...  \n",
       "22  https://www.flipkart.com/motorola-g54-5g-midni...  \n",
       "23  https://www.flipkart.com/motorola-edge-40-neo-...  "
      ]
     },
     "execution_count": 268,
     "metadata": {},
     "output_type": "execute_result"
    }
   ],
   "source": [
    "Smartphone_df= pd.DataFrame({'Brand':brand_name,\n",
    "                            'Storage_Ram_Rom':storage_rom,\n",
    "                            'Primary_Camera':primary_camera,\n",
    "                            'Display':display_size,\n",
    "                            'Battery':battery_capacity,\n",
    "                            'Price':price,\n",
    "                            'Product_Url':product_url})\n",
    "Smartphone_df"
   ]
  },
  {
   "cell_type": "code",
   "execution_count": null,
   "id": "9b7420b2",
   "metadata": {},
   "outputs": [],
   "source": []
  },
  {
   "cell_type": "markdown",
   "id": "83306025",
   "metadata": {},
   "source": [
    "6. Write a program to scrap all the available details of best gaming laptops from digit.in."
   ]
  },
  {
   "cell_type": "code",
   "execution_count": 271,
   "id": "b4814626",
   "metadata": {},
   "outputs": [],
   "source": [
    "driver=webdriver.Chrome()"
   ]
  },
  {
   "cell_type": "code",
   "execution_count": 273,
   "id": "cefbc9df",
   "metadata": {},
   "outputs": [],
   "source": [
    "driver.get(\"https://www.digit.in/top-products/best-gaming-laptops-40.html\")"
   ]
  },
  {
   "cell_type": "code",
   "execution_count": 274,
   "id": "d920d4aa",
   "metadata": {},
   "outputs": [
    {
     "data": {
      "text/plain": [
       "['HP Omen 17-ck2008TX 13th Gen Core i7-13700HX',\n",
       " 'MSI GT77 Titan 12UHS-054IN 12th Gen Core i9-12900HX',\n",
       " 'Lenovo Legion 5i Pro 12th Gen Core i7-12700H (82RF00E1IN)',\n",
       " 'ASUS ROG Strix Scar 18 G834JZ-N5041WS 13th Gen Core i9-13980HX',\n",
       " 'Acer Predator Helios Neo 16 13th Gen Core i7-13700HX (PHN16-71)',\n",
       " 'ASUS ROG Zephyrus G14 Ryzen 9-6900HS (GA402RJZ-L4136WS)',\n",
       " 'MSI Cyborg 15 12th Gen Core i7-12650H (A12VF-205IN)']"
      ]
     },
     "execution_count": 274,
     "metadata": {},
     "output_type": "execute_result"
    }
   ],
   "source": [
    "brands=[]\n",
    "br_name=driver.find_elements(By.XPATH,'//h3[@class=\"font130 mt0 mb10 mobilesblockdisplay \"]')\n",
    "for i in br_name:\n",
    "    brands.append(i.text)\n",
    "brands\n",
    "    "
   ]
  },
  {
   "cell_type": "code",
   "execution_count": 277,
   "id": "6237549a",
   "metadata": {},
   "outputs": [
    {
     "data": {
      "text/plain": [
       "['Operating System:\\nWindows 11 Home',\n",
       " '',\n",
       " 'Operating System:\\nWindows 11 Home',\n",
       " '',\n",
       " 'Operating System:\\nWindows 11 Home',\n",
       " '',\n",
       " '']"
      ]
     },
     "execution_count": 277,
     "metadata": {},
     "output_type": "execute_result"
    }
   ],
   "source": [
    "operating_system=[]\n",
    "ope_sys=driver.find_elements(By.XPATH,'//div[@class=\"woo_code_loop_item font90\"][1]')\n",
    "for i in ope_sys:\n",
    "    operating_system.append(i.text)\n",
    "operating_system"
   ]
  },
  {
   "cell_type": "code",
   "execution_count": 278,
   "id": "e37d0e21",
   "metadata": {},
   "outputs": [
    {
     "data": {
      "text/plain": [
       "['Display Size :\\n17.3',\n",
       " '',\n",
       " 'Display Size :\\n16',\n",
       " '',\n",
       " 'Display Size :\\n16',\n",
       " '',\n",
       " '']"
      ]
     },
     "execution_count": 278,
     "metadata": {},
     "output_type": "execute_result"
    }
   ],
   "source": [
    "display_size=[]\n",
    "dis_size=driver.find_elements(By.XPATH,'//div[@class=\"woo_code_loop_item font90\"][2]')\n",
    "for i in dis_size:\n",
    "    display_size.append(i.text)\n",
    "display_size"
   ]
  },
  {
   "cell_type": "code",
   "execution_count": 279,
   "id": "9e3ae20b",
   "metadata": {},
   "outputs": [
    {
     "data": {
      "text/plain": [
       "['Processor :\\n13th Gen Intel Core i7-13700HX',\n",
       " '',\n",
       " 'Processor :\\n12th Gen Intel Core i7-12700H',\n",
       " '',\n",
       " 'Processor :\\n13th Gen Intel Core i7-13700HX',\n",
       " '',\n",
       " '']"
      ]
     },
     "execution_count": 279,
     "metadata": {},
     "output_type": "execute_result"
    }
   ],
   "source": [
    "processor=[]\n",
    "pro=driver.find_elements(By.XPATH,'//div[@class=\"woo_code_loop_item font90\"][4]')\n",
    "for i in pro:\n",
    "    processor.append(i.text)\n",
    "processor"
   ]
  },
  {
   "cell_type": "code",
   "execution_count": 281,
   "id": "d4834fea",
   "metadata": {},
   "outputs": [
    {
     "data": {
      "text/html": [
       "<div>\n",
       "<style scoped>\n",
       "    .dataframe tbody tr th:only-of-type {\n",
       "        vertical-align: middle;\n",
       "    }\n",
       "\n",
       "    .dataframe tbody tr th {\n",
       "        vertical-align: top;\n",
       "    }\n",
       "\n",
       "    .dataframe thead th {\n",
       "        text-align: right;\n",
       "    }\n",
       "</style>\n",
       "<table border=\"1\" class=\"dataframe\">\n",
       "  <thead>\n",
       "    <tr style=\"text-align: right;\">\n",
       "      <th></th>\n",
       "      <th>Brands</th>\n",
       "      <th>Operating_System</th>\n",
       "      <th>Display_size</th>\n",
       "      <th>Processor</th>\n",
       "    </tr>\n",
       "  </thead>\n",
       "  <tbody>\n",
       "    <tr>\n",
       "      <th>0</th>\n",
       "      <td>HP Omen 17-ck2008TX 13th Gen Core i7-13700HX</td>\n",
       "      <td>Operating System:\\nWindows 11 Home</td>\n",
       "      <td>Display Size :\\n17.3</td>\n",
       "      <td>Processor :\\n13th Gen Intel Core i7-13700HX</td>\n",
       "    </tr>\n",
       "    <tr>\n",
       "      <th>1</th>\n",
       "      <td>MSI GT77 Titan 12UHS-054IN 12th Gen Core i9-12...</td>\n",
       "      <td></td>\n",
       "      <td></td>\n",
       "      <td></td>\n",
       "    </tr>\n",
       "    <tr>\n",
       "      <th>2</th>\n",
       "      <td>Lenovo Legion 5i Pro 12th Gen Core i7-12700H (...</td>\n",
       "      <td>Operating System:\\nWindows 11 Home</td>\n",
       "      <td>Display Size :\\n16</td>\n",
       "      <td>Processor :\\n12th Gen Intel Core i7-12700H</td>\n",
       "    </tr>\n",
       "    <tr>\n",
       "      <th>3</th>\n",
       "      <td>ASUS ROG Strix Scar 18 G834JZ-N5041WS 13th Gen...</td>\n",
       "      <td></td>\n",
       "      <td></td>\n",
       "      <td></td>\n",
       "    </tr>\n",
       "    <tr>\n",
       "      <th>4</th>\n",
       "      <td>Acer Predator Helios Neo 16 13th Gen Core i7-1...</td>\n",
       "      <td>Operating System:\\nWindows 11 Home</td>\n",
       "      <td>Display Size :\\n16</td>\n",
       "      <td>Processor :\\n13th Gen Intel Core i7-13700HX</td>\n",
       "    </tr>\n",
       "    <tr>\n",
       "      <th>5</th>\n",
       "      <td>ASUS ROG Zephyrus G14 Ryzen 9-6900HS (GA402RJZ...</td>\n",
       "      <td></td>\n",
       "      <td></td>\n",
       "      <td></td>\n",
       "    </tr>\n",
       "    <tr>\n",
       "      <th>6</th>\n",
       "      <td>MSI Cyborg 15 12th Gen Core i7-12650H (A12VF-2...</td>\n",
       "      <td></td>\n",
       "      <td></td>\n",
       "      <td></td>\n",
       "    </tr>\n",
       "  </tbody>\n",
       "</table>\n",
       "</div>"
      ],
      "text/plain": [
       "                                              Brands  \\\n",
       "0       HP Omen 17-ck2008TX 13th Gen Core i7-13700HX   \n",
       "1  MSI GT77 Titan 12UHS-054IN 12th Gen Core i9-12...   \n",
       "2  Lenovo Legion 5i Pro 12th Gen Core i7-12700H (...   \n",
       "3  ASUS ROG Strix Scar 18 G834JZ-N5041WS 13th Gen...   \n",
       "4  Acer Predator Helios Neo 16 13th Gen Core i7-1...   \n",
       "5  ASUS ROG Zephyrus G14 Ryzen 9-6900HS (GA402RJZ...   \n",
       "6  MSI Cyborg 15 12th Gen Core i7-12650H (A12VF-2...   \n",
       "\n",
       "                     Operating_System          Display_size  \\\n",
       "0  Operating System:\\nWindows 11 Home  Display Size :\\n17.3   \n",
       "1                                                             \n",
       "2  Operating System:\\nWindows 11 Home    Display Size :\\n16   \n",
       "3                                                             \n",
       "4  Operating System:\\nWindows 11 Home    Display Size :\\n16   \n",
       "5                                                             \n",
       "6                                                             \n",
       "\n",
       "                                     Processor  \n",
       "0  Processor :\\n13th Gen Intel Core i7-13700HX  \n",
       "1                                               \n",
       "2   Processor :\\n12th Gen Intel Core i7-12700H  \n",
       "3                                               \n",
       "4  Processor :\\n13th Gen Intel Core i7-13700HX  \n",
       "5                                               \n",
       "6                                               "
      ]
     },
     "execution_count": 281,
     "metadata": {},
     "output_type": "execute_result"
    }
   ],
   "source": [
    "laptop_df=pd.DataFrame({'Brands':brands,\n",
    "                       'Operating_System':operating_system,\n",
    "                       'Display_size':display_size,\n",
    "                       'Processor':processor})\n",
    "laptop_df"
   ]
  },
  {
   "cell_type": "code",
   "execution_count": 282,
   "id": "997dcd2c",
   "metadata": {},
   "outputs": [],
   "source": [
    "driver.close()"
   ]
  },
  {
   "cell_type": "markdown",
   "id": "1329df98",
   "metadata": {},
   "source": [
    "5. Write a program to scrap geospatial coordinates (latitude, longitude) of a city searched on google maps."
   ]
  },
  {
   "cell_type": "code",
   "execution_count": 22,
   "id": "ce2961d1",
   "metadata": {},
   "outputs": [],
   "source": [
    "import regex as re"
   ]
  },
  {
   "cell_type": "code",
   "execution_count": 19,
   "id": "6edbd042",
   "metadata": {},
   "outputs": [],
   "source": [
    "driver= webdriver.Chrome()"
   ]
  },
  {
   "cell_type": "code",
   "execution_count": 23,
   "id": "7cb991e4",
   "metadata": {},
   "outputs": [
    {
     "name": "stdout",
     "output_type": "stream",
     "text": [
      "Enter City Name : Delhi\n",
      "URL Extracted:  https://www.google.co.in/maps/place/Delhi/@28.6436846,76.7635601,10z/data=!3m1!4b1!4m6!3m5!1s0x390cfd5b347eb62d:0x37205b715389640!8m2!3d28.7040592!4d77.1024902!16zL20vMDlmMDc?entry=ttu\n",
      "Latitude = 28.6436846, Longitude = 76.7635601\n"
     ]
    }
   ],
   "source": [
    "driver.get(\"https://www.google.co.in/maps\")\n",
    "time.sleep(3)\n",
    "\n",
    "city = input('Enter City Name : ')                                         \n",
    "search = driver.find_element(By.ID,\"searchboxinput\")                       \n",
    "search.clear()                                                            \n",
    "time.sleep(2)\n",
    "search.send_keys(city)                                                     \n",
    "button = driver.find_element(By.ID,\"searchbox-searchbutton\")               \n",
    "button.click()                                                            \n",
    "time.sleep(3)\n",
    "\n",
    "try:\n",
    "    url_string = driver.current_url\n",
    "    print(\"URL Extracted: \", url_string)\n",
    "    lat_lng = re.findall(r'@(.*)data',url_string)\n",
    "    if len(lat_lng):\n",
    "        lat_lng_list = lat_lng[0].split(\",\")\n",
    "        if len(lat_lng_list)>=2:\n",
    "            lat = lat_lng_list[0]\n",
    "            lng = lat_lng_list[1]\n",
    "        print(\"Latitude = {}, Longitude = {}\".format(lat, lng))\n",
    "\n",
    "except Exception as e:\n",
    "        print(\"Error: \", str(e))\n"
   ]
  },
  {
   "cell_type": "code",
   "execution_count": 24,
   "id": "93e3dd56",
   "metadata": {},
   "outputs": [],
   "source": [
    "driver.close()"
   ]
  },
  {
   "cell_type": "markdown",
   "id": "7c855618",
   "metadata": {},
   "source": [
    "7. Write a python program to scrape the details for all billionaires from www.forbes.com. Details to be scrapped:\n",
    "“Rank”, “Name”, “Net worth”, “Age”, “Citizenship”, “Source”, “Industry”."
   ]
  },
  {
   "cell_type": "code",
   "execution_count": 25,
   "id": "0c091750",
   "metadata": {},
   "outputs": [],
   "source": [
    "driver=webdriver.Chrome()"
   ]
  },
  {
   "cell_type": "code",
   "execution_count": 27,
   "id": "cf840b36",
   "metadata": {},
   "outputs": [],
   "source": [
    "driver.get('https://www.forbes.com/billionaires/')"
   ]
  },
  {
   "cell_type": "code",
   "execution_count": 28,
   "id": "32406b86",
   "metadata": {},
   "outputs": [],
   "source": [
    "Rank=[]\n",
    "Name=[]\n",
    "Net_worth=[]\n",
    "Age=[]\n",
    "Citizenship=[]\n",
    "Source=[]\n",
    "Industry=[]\n"
   ]
  },
  {
   "cell_type": "code",
   "execution_count": 37,
   "id": "00f0544d",
   "metadata": {},
   "outputs": [
    {
     "data": {
      "text/html": [
       "<div>\n",
       "<style scoped>\n",
       "    .dataframe tbody tr th:only-of-type {\n",
       "        vertical-align: middle;\n",
       "    }\n",
       "\n",
       "    .dataframe tbody tr th {\n",
       "        vertical-align: top;\n",
       "    }\n",
       "\n",
       "    .dataframe thead th {\n",
       "        text-align: right;\n",
       "    }\n",
       "</style>\n",
       "<table border=\"1\" class=\"dataframe\">\n",
       "  <thead>\n",
       "    <tr style=\"text-align: right;\">\n",
       "      <th></th>\n",
       "      <th>Rank</th>\n",
       "      <th>Name</th>\n",
       "      <th>Net_worth</th>\n",
       "      <th>Age</th>\n",
       "      <th>Citizenship</th>\n",
       "    </tr>\n",
       "  </thead>\n",
       "  <tbody>\n",
       "    <tr>\n",
       "      <th>0</th>\n",
       "      <td>1</td>\n",
       "      <td>Bernard Arnault &amp; family</td>\n",
       "      <td>$211 B</td>\n",
       "      <td>1</td>\n",
       "      <td>1</td>\n",
       "    </tr>\n",
       "    <tr>\n",
       "      <th>1</th>\n",
       "      <td>2</td>\n",
       "      <td>74</td>\n",
       "      <td>$180 B</td>\n",
       "      <td>Bernard Arnault &amp; family</td>\n",
       "      <td>Bernard Arnault &amp; family</td>\n",
       "    </tr>\n",
       "    <tr>\n",
       "      <th>2</th>\n",
       "      <td>3</td>\n",
       "      <td>LVMH</td>\n",
       "      <td>$114 B</td>\n",
       "      <td>$211 B</td>\n",
       "      <td>$211 B</td>\n",
       "    </tr>\n",
       "    <tr>\n",
       "      <th>3</th>\n",
       "      <td>4</td>\n",
       "      <td>Fashion &amp; Retail</td>\n",
       "      <td>$107 B</td>\n",
       "      <td>74</td>\n",
       "      <td>74</td>\n",
       "    </tr>\n",
       "    <tr>\n",
       "      <th>4</th>\n",
       "      <td>5</td>\n",
       "      <td>Elon Musk</td>\n",
       "      <td>$106 B</td>\n",
       "      <td>LVMH</td>\n",
       "      <td>France</td>\n",
       "    </tr>\n",
       "    <tr>\n",
       "      <th>...</th>\n",
       "      <td>...</td>\n",
       "      <td>...</td>\n",
       "      <td>...</td>\n",
       "      <td>...</td>\n",
       "      <td>...</td>\n",
       "    </tr>\n",
       "    <tr>\n",
       "      <th>190</th>\n",
       "      <td>190</td>\n",
       "      <td>Trading, investments</td>\n",
       "      <td>$9.7 B</td>\n",
       "      <td>Candy, pet food</td>\n",
       "      <td>François Pinault &amp; family</td>\n",
       "    </tr>\n",
       "    <tr>\n",
       "      <th>191</th>\n",
       "      <td>190</td>\n",
       "      <td>Finance &amp; Investments</td>\n",
       "      <td>$9.7 B</td>\n",
       "      <td>Food &amp; Beverage</td>\n",
       "      <td>$40.1 B</td>\n",
       "    </tr>\n",
       "    <tr>\n",
       "      <th>192</th>\n",
       "      <td>190</td>\n",
       "      <td>Jim Simons</td>\n",
       "      <td>$9.7 B</td>\n",
       "      <td>33</td>\n",
       "      <td>86</td>\n",
       "    </tr>\n",
       "    <tr>\n",
       "      <th>193</th>\n",
       "      <td>190</td>\n",
       "      <td>84</td>\n",
       "      <td>$9.7 B</td>\n",
       "      <td>Li Ka-shing</td>\n",
       "      <td>France</td>\n",
       "    </tr>\n",
       "    <tr>\n",
       "      <th>194</th>\n",
       "      <td>195</td>\n",
       "      <td>Hedge funds</td>\n",
       "      <td>$9.6 B</td>\n",
       "      <td>$38 B</td>\n",
       "      <td>Luxury goods</td>\n",
       "    </tr>\n",
       "  </tbody>\n",
       "</table>\n",
       "<p>195 rows × 5 columns</p>\n",
       "</div>"
      ],
      "text/plain": [
       "    Rank                      Name Net_worth                       Age  \\\n",
       "0      1  Bernard Arnault & family    $211 B                         1   \n",
       "1      2                        74    $180 B  Bernard Arnault & family   \n",
       "2      3                      LVMH    $114 B                    $211 B   \n",
       "3      4          Fashion & Retail    $107 B                        74   \n",
       "4      5                 Elon Musk    $106 B                      LVMH   \n",
       "..   ...                       ...       ...                       ...   \n",
       "190  190      Trading, investments    $9.7 B           Candy, pet food   \n",
       "191  190     Finance & Investments    $9.7 B           Food & Beverage   \n",
       "192  190                Jim Simons    $9.7 B                        33   \n",
       "193  190                        84    $9.7 B               Li Ka-shing   \n",
       "194  195               Hedge funds    $9.6 B                     $38 B   \n",
       "\n",
       "                   Citizenship  \n",
       "0                            1  \n",
       "1     Bernard Arnault & family  \n",
       "2                       $211 B  \n",
       "3                           74  \n",
       "4                       France  \n",
       "..                         ...  \n",
       "190  François Pinault & family  \n",
       "191                    $40.1 B  \n",
       "192                         86  \n",
       "193                     France  \n",
       "194               Luxury goods  \n",
       "\n",
       "[195 rows x 5 columns]"
      ]
     },
     "execution_count": 37,
     "metadata": {},
     "output_type": "execute_result"
    }
   ],
   "source": [
    "rank=driver.find_elements(By.XPATH,'//div[@class=\"Table_rank___YBhk Table_dataCell__2QCve\"]')\n",
    "for i in rank:\n",
    "    Rank.append(i.text)\n",
    "\n",
    "\n",
    "name=driver.find_elements(By.XPATH,'//div[@class=\"Table_dataCell__2QCve\"]')\n",
    "for i in name:\n",
    "    Name.append(i.text)\n",
    "    \n",
    "net_worth=driver.find_elements(By.XPATH,'//div[@class=\"Table_netWorth___L4R5 Table_dataCell__2QCve\"]')\n",
    "for i in net_worth:\n",
    "    Net_worth.append(i.text)\n",
    "    \n",
    "age=driver.find_elements(By.XPATH,'//div[@class=\"Table_tableFilterHeader__6oLpc Table_age__FL1IO\"]')\n",
    "for i in age:\n",
    "    Age.append(i.text)\n",
    "    \n",
    "citizenship=driver.find_elements(By.CLASS_NAME,\"TableRow_cell__db-hv Table_cell__houv9\")\n",
    "for i in citizenship:\n",
    "    Citizenship.append(i.text)\n",
    "#print(len(Rank),len(Name),len(Net_worth),len(Age),len(Citizenship))\n",
    "    \n",
    "df=pd.DataFrame({'Rank':Rank[:195],\n",
    "                'Name':Name[:195],\n",
    "                'Net_worth':Net_worth[:195],\n",
    "                'Age':Age[:195],\n",
    "                'Citizenship':Citizenship[:195]})\n",
    "df\n",
    "\n",
    "    \n",
    "\n",
    "    "
   ]
  },
  {
   "cell_type": "code",
   "execution_count": null,
   "id": "5dbf8b17",
   "metadata": {},
   "outputs": [],
   "source": []
  }
 ],
 "metadata": {
  "kernelspec": {
   "display_name": "Python 3 (ipykernel)",
   "language": "python",
   "name": "python3"
  },
  "language_info": {
   "codemirror_mode": {
    "name": "ipython",
    "version": 3
   },
   "file_extension": ".py",
   "mimetype": "text/x-python",
   "name": "python",
   "nbconvert_exporter": "python",
   "pygments_lexer": "ipython3",
   "version": "3.11.4"
  }
 },
 "nbformat": 4,
 "nbformat_minor": 5
}
